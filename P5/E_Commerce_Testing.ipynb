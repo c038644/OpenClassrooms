{
  "nbformat": 4,
  "nbformat_minor": 0,
  "metadata": {
    "colab": {
      "name": "E-Commerce Testing.ipynb",
      "provenance": []
    },
    "kernelspec": {
      "name": "python3",
      "display_name": "Python 3"
    },
    "language_info": {
      "name": "python"
    }
  },
  "cells": [
    {
      "cell_type": "markdown",
      "source": [
        "# Library import"
      ],
      "metadata": {
        "id": "RwKaM5UO6Kss"
      }
    },
    {
      "cell_type": "code",
      "execution_count": null,
      "metadata": {
        "colab": {
          "base_uri": "https://localhost:8080/"
        },
        "id": "hQDcGSoxGK7A",
        "outputId": "b234a9fb-5ee2-403f-c008-c35c7c854f7e"
      },
      "outputs": [
        {
          "output_type": "stream",
          "name": "stdout",
          "text": [
            "Mounted at /content/drive\n"
          ]
        }
      ],
      "source": [
        "from google.colab import drive\n",
        "drive.mount('/content/drive')"
      ]
    },
    {
      "cell_type": "code",
      "source": [
        "# Installing kneed for elbow method analysis\n",
        "\n",
        "!pip install kneed"
      ],
      "metadata": {
        "id": "wYiSRw9_Giyc",
        "colab": {
          "base_uri": "https://localhost:8080/"
        },
        "outputId": "c1bd602f-0984-4314-8d71-687c4173abec"
      },
      "execution_count": null,
      "outputs": [
        {
          "output_type": "stream",
          "name": "stdout",
          "text": [
            "Collecting kneed\n",
            "  Downloading kneed-0.7.0-py2.py3-none-any.whl (9.4 kB)\n",
            "Requirement already satisfied: numpy>=1.14.2 in /usr/local/lib/python3.7/dist-packages (from kneed) (1.21.6)\n",
            "Requirement already satisfied: scipy in /usr/local/lib/python3.7/dist-packages (from kneed) (1.4.1)\n",
            "Requirement already satisfied: matplotlib in /usr/local/lib/python3.7/dist-packages (from kneed) (3.2.2)\n",
            "Requirement already satisfied: kiwisolver>=1.0.1 in /usr/local/lib/python3.7/dist-packages (from matplotlib->kneed) (1.4.2)\n",
            "Requirement already satisfied: python-dateutil>=2.1 in /usr/local/lib/python3.7/dist-packages (from matplotlib->kneed) (2.8.2)\n",
            "Requirement already satisfied: pyparsing!=2.0.4,!=2.1.2,!=2.1.6,>=2.0.1 in /usr/local/lib/python3.7/dist-packages (from matplotlib->kneed) (3.0.8)\n",
            "Requirement already satisfied: cycler>=0.10 in /usr/local/lib/python3.7/dist-packages (from matplotlib->kneed) (0.11.0)\n",
            "Requirement already satisfied: typing-extensions in /usr/local/lib/python3.7/dist-packages (from kiwisolver>=1.0.1->matplotlib->kneed) (4.2.0)\n",
            "Requirement already satisfied: six>=1.5 in /usr/local/lib/python3.7/dist-packages (from python-dateutil>=2.1->matplotlib->kneed) (1.15.0)\n",
            "Installing collected packages: kneed\n",
            "Successfully installed kneed-0.7.0\n"
          ]
        }
      ]
    },
    {
      "cell_type": "code",
      "source": [
        "# Library imports\n",
        "\n",
        "import pandas as pd\n",
        "import numpy as np\n",
        "import matplotlib.pyplot as plt\n",
        "import seaborn as sns\n",
        "from sklearn.preprocessing import StandardScaler\n",
        "from sklearn.decomposition import PCA\n",
        "from sklearn.neighbors import NearestNeighbors\n",
        "from sklearn.cluster import KMeans, DBSCAN, AgglomerativeClustering\n",
        "from sklearn.metrics import silhouette_score, adjusted_rand_score\n",
        "from kneed import KneeLocator\n",
        "import scipy.cluster.hierarchy as sch\n",
        "from pandas.core.common import random_state"
      ],
      "metadata": {
        "id": "mjw0LX7LGX2g"
      },
      "execution_count": null,
      "outputs": []
    },
    {
      "cell_type": "markdown",
      "source": [
        "# KMeans with Seconds_Since_Last_Order, Sum_of_Prices and frequency"
      ],
      "metadata": {
        "id": "zrbkOiMM7s-m"
      }
    },
    {
      "cell_type": "code",
      "source": [
        "def KMeans_Clustering(n_clusters, scores_pca):\n",
        "\n",
        "  # defining the kmeans function with initialization as k-means++\n",
        "  kmeans = KMeans(n_clusters, init='k-means++', random_state = 42)\n",
        "\n",
        "  # fitting the k means algorithm on the data\n",
        "  kmeans_pca = kmeans.fit(scores_pca)\n",
        "\n",
        "  return kmeans_pca"
      ],
      "metadata": {
        "id": "h1rKSUlfAFbT"
      },
      "execution_count": null,
      "outputs": []
    },
    {
      "cell_type": "code",
      "source": [
        "def Data_Standardising(X):\n",
        "\n",
        "  # standardising the data\n",
        "  scaler = StandardScaler()\n",
        "  data_scaled = scaler.fit_transform(X)\n",
        "\n",
        "  return data_scaled"
      ],
      "metadata": {
        "id": "Sh2DXZx-_O2X"
      },
      "execution_count": null,
      "outputs": []
    },
    {
      "cell_type": "code",
      "source": [
        "def Elbow_Method(X):\n",
        "  # fitting multiple k-means algorithms and storing the values in an empty list\n",
        "  SSE = []\n",
        "  for cluster in range(1,10):\n",
        "      kmeans = KMeans(n_clusters = cluster, init='k-means++')\n",
        "      kmeans.fit(X)\n",
        "      SSE.append(kmeans.inertia_)\n",
        "\n",
        "  # converting the results into a dataframe and plotting them\n",
        "  frame = pd.DataFrame({'Cluster':range(1,10), 'SSE':SSE})\n",
        "  plt.figure(figsize=(12,6))\n",
        "  plt.plot(frame['Cluster'], frame['SSE'], marker='o')\n",
        "  plt.xlabel('Number of clusters')\n",
        "  plt.ylabel('Inertia')\n",
        "\n",
        "  kl = KneeLocator(range(1, 10), SSE, curve=\"convex\", direction=\"decreasing\")\n",
        "  print(\"The elbow is at cluster\")\n",
        "  print(kl.elbow)"
      ],
      "metadata": {
        "id": "2umEIKyXANgY"
      },
      "execution_count": null,
      "outputs": []
    },
    {
      "cell_type": "code",
      "source": [
        "def Silhouette_Method(X):\n",
        " \n",
        "  for i in [3, 4, 5, 6, 7, 8]:\n",
        "    km = KMeans(n_clusters=i, random_state=42)\n",
        "    km.fit_predict(X)\n",
        "    score = silhouette_score(X, km.labels_, metric='euclidean')\n",
        "    print('Silhouette Score for', i, 'Clusters: %.3f' % score)"
      ],
      "metadata": {
        "id": "i2JtE1rYXAe_"
      },
      "execution_count": null,
      "outputs": []
    },
    {
      "cell_type": "code",
      "source": [
        "def PCA_Variance_Graph(X_scaled, End_Range):\n",
        "    \n",
        "  pca = PCA()\n",
        "  pca.fit(X_scaled)\n",
        "  pca.explained_variance_ratio_\n",
        "\n",
        "  plt.figure(figsize= (12,6))\n",
        "  plt.plot(range(1,End_Range), pca.explained_variance_ratio_.cumsum(), marker='o')\n",
        "  plt.title('Variance by Components')\n",
        "  plt.xlabel('Number of Components')\n",
        "  plt.ylabel('Cumulative Explained Varience')"
      ],
      "metadata": {
        "id": "6iykeqOGlSzq"
      },
      "execution_count": null,
      "outputs": []
    },
    {
      "cell_type": "code",
      "source": [
        "def PCA_Function(X_scaled, n_components):\n",
        "\n",
        "  pca = PCA(n_components)\n",
        "\n",
        "  pca.fit(X_scaled)\n",
        "\n",
        "  pca.transform(X_scaled)\n",
        "\n",
        "  scores_pca = pca.transform(X_scaled)\n",
        "\n",
        "  return scores_pca"
      ],
      "metadata": {
        "id": "NnoIt7YTmiVP"
      },
      "execution_count": null,
      "outputs": []
    },
    {
      "cell_type": "code",
      "source": [
        "Order_Dataset = pd.read_csv(\"/content/drive/MyDrive/Order_Dataset.csv\")"
      ],
      "metadata": {
        "id": "chfSTrve8jt6"
      },
      "execution_count": null,
      "outputs": []
    },
    {
      "cell_type": "code",
      "source": [
        "# Creation of simple dataframe for KMeans\n",
        "\n",
        "Testing = Order_Dataset[['Seconds_Since_Last_Order', 'Sum_of_Prices', 'frequency']]"
      ],
      "metadata": {
        "id": "C_xRIn_R_c4C"
      },
      "execution_count": null,
      "outputs": []
    },
    {
      "cell_type": "code",
      "source": [
        "# Data standardising\n",
        "\n",
        "Testing_scaled = Data_Standardising(Testing)"
      ],
      "metadata": {
        "id": "JV_X8IO9bU_T"
      },
      "execution_count": null,
      "outputs": []
    },
    {
      "cell_type": "code",
      "source": [
        "# Shows graph with total number of PCA components\n",
        "\n",
        "Plot_End_Range = 4\n",
        "\n",
        "PCA_Variance_Graph(Testing_scaled, Plot_End_Range)"
      ],
      "metadata": {
        "colab": {
          "base_uri": "https://localhost:8080/",
          "height": 404
        },
        "id": "xAAbUsHLjCPF",
        "outputId": "7fb82dba-99a9-44cb-d452-407cdaf5d153"
      },
      "execution_count": null,
      "outputs": [
        {
          "output_type": "display_data",
          "data": {
            "text/plain": [
              "<Figure size 864x432 with 1 Axes>"
            ],
            "image/png": "[encoded data removed]"
          },
          "metadata": {
            "needs_background": "light"
          }
        }
      ]
    },
    {
      "cell_type": "code",
      "source": [
        "# Runs PCA on the dataframe, in this case two components will give 66% of the data and three components will give 100% of the data\n",
        "\n",
        "n_components = 3\n",
        "\n",
        "scores_pca = PCA_Function(Testing_scaled, n_components)"
      ],
      "metadata": {
        "id": "jWEWzFXJjCBk"
      },
      "execution_count": null,
      "outputs": []
    },
    {
      "cell_type": "code",
      "source": [
        "Elbow_Method(scores_pca)"
      ],
      "metadata": {
        "id": "PKqPxwn-rHIM",
        "colab": {
          "base_uri": "https://localhost:8080/",
          "height": 429
        },
        "outputId": "9532559d-db6d-432b-93a4-eb1f09e4d499"
      },
      "execution_count": null,
      "outputs": [
        {
          "output_type": "stream",
          "name": "stdout",
          "text": [
            "The elbow is at cluster\n",
            "4\n"
          ]
        },
        {
          "output_type": "display_data",
          "data": {
            "text/plain": [
              "<Figure size 864x432 with 1 Axes>"
            ],
            "image/png": "[encoded data removed]"
          },
          "metadata": {
            "needs_background": "light"
          }
        }
      ]
    },
    {
      "cell_type": "code",
      "source": [
        "# Maximium score for four clusters, agrees with the elbow method \n",
        "\n",
        "Silhouette_Method(scores_pca)"
      ],
      "metadata": {
        "id": "AFhjBF8Z2oHY",
        "colab": {
          "base_uri": "https://localhost:8080/"
        },
        "outputId": "fa556bc8-a8bc-42a4-b5c3-dca2e1660676"
      },
      "execution_count": null,
      "outputs": [
        {
          "output_type": "stream",
          "name": "stdout",
          "text": [
            "Silhouette Score for 3 Clusters: 0.458\n",
            "Silhouette Score for 4 Clusters: 0.493\n",
            "Silhouette Score for 5 Clusters: 0.424\n",
            "Silhouette Score for 6 Clusters: 0.440\n",
            "Silhouette Score for 7 Clusters: 0.441\n",
            "Silhouette Score for 8 Clusters: 0.447\n"
          ]
        }
      ]
    },
    {
      "cell_type": "code",
      "source": [
        "# Runs KMeans clustering with four clusters\n",
        "\n",
        "n_clusters = 4\n",
        "\n",
        "kmeans_pca = KMeans_Clustering(n_clusters, scores_pca)"
      ],
      "metadata": {
        "id": "4IMfG4KcAIMB"
      },
      "execution_count": null,
      "outputs": []
    },
    {
      "cell_type": "code",
      "source": [
        "# Adds three new component columns and a new cluster column to a new df_kmeans dataframe\n",
        "\n",
        "df_kmeans = pd.concat([Testing.reset_index(drop = True), pd.DataFrame(scores_pca)], axis = 1)\n",
        "df_kmeans.columns.values[-3:] = ['Component 1', 'Component 2', 'Component 3']\n",
        "df_kmeans['Cluster'] = kmeans_pca.labels_"
      ],
      "metadata": {
        "id": "praoM6pu7aud"
      },
      "execution_count": null,
      "outputs": []
    },
    {
      "cell_type": "code",
      "source": [
        "df_kmeans.head()"
      ],
      "metadata": {
        "id": "v6QXowWznp3q",
        "colab": {
          "base_uri": "https://localhost:8080/",
          "height": 206
        },
        "outputId": "fcf0655c-7903-4abd-f880-04931ff1bfcc"
      },
      "execution_count": null,
      "outputs": [
        {
          "output_type": "execute_result",
          "data": {
            "text/plain": [
              "   Seconds_Since_Last_Order  Sum_of_Prices  frequency  Component 1  \\\n",
              "0                15167013.0         129.90          1     0.036151   \n",
              "1                15425313.0          18.90          1    -0.352199   \n",
              "2                51936897.0          69.00          1    -0.662187   \n",
              "3                33276619.0          25.99          1    -0.564116   \n",
              "4                30428058.0         180.00          1     0.007702   \n",
              "\n",
              "   Component 2  Component 3  Cluster  \n",
              "0    -0.797733    -0.273511        3  \n",
              "1    -0.928137     0.113652        3  \n",
              "2     1.801694     0.491578        1  \n",
              "3     0.383136     0.358525        1  \n",
              "4     0.382481    -0.216229        1  "
            ],
            "text/html": [
              "\n",
              "  <div id=\"df-9fa316e3-98ca-4a6c-b571-a3cda4a0d4c6\">\n",
              "    <div class=\"colab-df-container\">\n",
              "      <div>\n",
              "<style scoped>\n",
              "    .dataframe tbody tr th:only-of-type {\n",
              "        vertical-align: middle;\n",
              "    }\n",
              "\n",
              "    .dataframe tbody tr th {\n",
              "        vertical-align: top;\n",
              "    }\n",
              "\n",
              "    .dataframe thead th {\n",
              "        text-align: right;\n",
              "    }\n",
              "</style>\n",
              "<table border=\"1\" class=\"dataframe\">\n",
              "  <thead>\n",
              "    <tr style=\"text-align: right;\">\n",
              "      <th></th>\n",
              "      <th>Seconds_Since_Last_Order</th>\n",
              "      <th>Sum_of_Prices</th>\n",
              "      <th>frequency</th>\n",
              "      <th>Component 1</th>\n",
              "      <th>Component 2</th>\n",
              "      <th>Component 3</th>\n",
              "      <th>Cluster</th>\n",
              "    </tr>\n",
              "  </thead>\n",
              "  <tbody>\n",
              "    <tr>\n",
              "      <th>0</th>\n",
              "      <td>15167013.0</td>\n",
              "      <td>129.90</td>\n",
              "      <td>1</td>\n",
              "      <td>0.036151</td>\n",
              "      <td>-0.797733</td>\n",
              "      <td>-0.273511</td>\n",
              "      <td>3</td>\n",
              "    </tr>\n",
              "    <tr>\n",
              "      <th>1</th>\n",
              "      <td>15425313.0</td>\n",
              "      <td>18.90</td>\n",
              "      <td>1</td>\n",
              "      <td>-0.352199</td>\n",
              "      <td>-0.928137</td>\n",
              "      <td>0.113652</td>\n",
              "      <td>3</td>\n",
              "    </tr>\n",
              "    <tr>\n",
              "      <th>2</th>\n",
              "      <td>51936897.0</td>\n",
              "      <td>69.00</td>\n",
              "      <td>1</td>\n",
              "      <td>-0.662187</td>\n",
              "      <td>1.801694</td>\n",
              "      <td>0.491578</td>\n",
              "      <td>1</td>\n",
              "    </tr>\n",
              "    <tr>\n",
              "      <th>3</th>\n",
              "      <td>33276619.0</td>\n",
              "      <td>25.99</td>\n",
              "      <td>1</td>\n",
              "      <td>-0.564116</td>\n",
              "      <td>0.383136</td>\n",
              "      <td>0.358525</td>\n",
              "      <td>1</td>\n",
              "    </tr>\n",
              "    <tr>\n",
              "      <th>4</th>\n",
              "      <td>30428058.0</td>\n",
              "      <td>180.00</td>\n",
              "      <td>1</td>\n",
              "      <td>0.007702</td>\n",
              "      <td>0.382481</td>\n",
              "      <td>-0.216229</td>\n",
              "      <td>1</td>\n",
              "    </tr>\n",
              "  </tbody>\n",
              "</table>\n",
              "</div>\n",
              "      <button class=\"colab-df-convert\" onclick=\"convertToInteractive('df-9fa316e3-98ca-4a6c-b571-a3cda4a0d4c6')\"\n",
              "              title=\"Convert this dataframe to an interactive table.\"\n",
              "              style=\"display:none;\">\n",
              "        \n",
              "  <svg xmlns=\"http://www.w3.org/2000/svg\" height=\"24px\"viewBox=\"0 0 24 24\"\n",
              "       width=\"24px\">\n",
              "    <path d=\"M0 0h24v24H0V0z\" fill=\"none\"/>\n",
              "    <path d=\"M18.56 5.44l.94 2.06.94-2.06 2.06-.94-2.06-.94-.94-2.06-.94 2.06-2.06.94zm-11 1L8.5 8.5l.94-2.06 2.06-.94-2.06-.94L8.5 2.5l-.94 2.06-2.06.94zm10 10l.94 2.06.94-2.06 2.06-.94-2.06-.94-.94-2.06-.94 2.06-2.06.94z\"/><path d=\"M17.41 7.96l-1.37-1.37c-.4-.4-.92-.59-1.43-.59-.52 0-1.04.2-1.43.59L10.3 9.45l-7.72 7.72c-.78.78-.78 2.05 0 2.83L4 21.41c.39.39.9.59 1.41.59.51 0 1.02-.2 1.41-.59l7.78-7.78 2.81-2.81c.8-.78.8-2.07 0-2.86zM5.41 20L4 18.59l7.72-7.72 1.47 1.35L5.41 20z\"/>\n",
              "  </svg>\n",
              "      </button>\n",
              "      \n",
              "  <style>\n",
              "    .colab-df-container {\n",
              "      display:flex;\n",
              "      flex-wrap:wrap;\n",
              "      gap: 12px;\n",
              "    }\n",
              "\n",
              "    .colab-df-convert {\n",
              "      background-color: #E8F0FE;\n",
              "      border: none;\n",
              "      border-radius: 50%;\n",
              "      cursor: pointer;\n",
              "      display: none;\n",
              "      fill: #1967D2;\n",
              "      height: 32px;\n",
              "      padding: 0 0 0 0;\n",
              "      width: 32px;\n",
              "    }\n",
              "\n",
              "    .colab-df-convert:hover {\n",
              "      background-color: #E2EBFA;\n",
              "      box-shadow: 0px 1px 2px rgba(60, 64, 67, 0.3), 0px 1px 3px 1px rgba(60, 64, 67, 0.15);\n",
              "      fill: #174EA6;\n",
              "    }\n",
              "\n",
              "    [theme=dark] .colab-df-convert {\n",
              "      background-color: #3B4455;\n",
              "      fill: #D2E3FC;\n",
              "    }\n",
              "\n",
              "    [theme=dark] .colab-df-convert:hover {\n",
              "      background-color: #434B5C;\n",
              "      box-shadow: 0px 1px 3px 1px rgba(0, 0, 0, 0.15);\n",
              "      filter: drop-shadow(0px 1px 2px rgba(0, 0, 0, 0.3));\n",
              "      fill: #FFFFFF;\n",
              "    }\n",
              "  </style>\n",
              "\n",
              "      <script>\n",
              "        const buttonEl =\n",
              "          document.querySelector('#df-9fa316e3-98ca-4a6c-b571-a3cda4a0d4c6 button.colab-df-convert');\n",
              "        buttonEl.style.display =\n",
              "          google.colab.kernel.accessAllowed ? 'block' : 'none';\n",
              "\n",
              "        async function convertToInteractive(key) {\n",
              "          const element = document.querySelector('#df-9fa316e3-98ca-4a6c-b571-a3cda4a0d4c6');\n",
              "          const dataTable =\n",
              "            await google.colab.kernel.invokeFunction('convertToInteractive',\n",
              "                                                     [key], {});\n",
              "          if (!dataTable) return;\n",
              "\n",
              "          const docLinkHtml = 'Like what you see? Visit the ' +\n",
              "            '<a target=\"_blank\" href=https://colab.research.google.com/notebooks/data_table.ipynb>data table notebook</a>'\n",
              "            + ' to learn more about interactive tables.';\n",
              "          element.innerHTML = '';\n",
              "          dataTable['output_type'] = 'display_data';\n",
              "          await google.colab.output.renderOutput(dataTable, element);\n",
              "          const docLink = document.createElement('div');\n",
              "          docLink.innerHTML = docLinkHtml;\n",
              "          element.appendChild(docLink);\n",
              "        }\n",
              "      </script>\n",
              "    </div>\n",
              "  </div>\n",
              "  "
            ]
          },
          "metadata": {},
          "execution_count": 19
        }
      ]
    },
    {
      "cell_type": "code",
      "source": [
        "x_axis = df_kmeans['Component 2']\n",
        "y_axis = df_kmeans['Component 1']\n",
        "  \n",
        "plt.figure(figsize=(12,6))\n",
        "sns.scatterplot(x_axis, y_axis, hue = df_kmeans['Cluster'], palette = ['g', 'r', 'c', 'm'])\n",
        "plt.title('Clusters by PCA Components')\n",
        "plt.show()"
      ],
      "metadata": {
        "id": "0ZjOoFg9oHg0",
        "colab": {
          "base_uri": "https://localhost:8080/",
          "height": 461
        },
        "outputId": "4d2763c1-0174-4690-9157-9ce6c892fd36"
      },
      "execution_count": null,
      "outputs": [
        {
          "output_type": "stream",
          "name": "stderr",
          "text": [
            "/usr/local/lib/python3.7/dist-packages/seaborn/_decorators.py:43: FutureWarning: Pass the following variables as keyword args: x, y. From version 0.12, the only valid positional argument will be `data`, and passing other arguments without an explicit keyword will result in an error or misinterpretation.\n",
            "  FutureWarning\n"
          ]
        },
        {
          "output_type": "display_data",
          "data": {
            "text/plain": [
              "<Figure size 864x432 with 1 Axes>"
            ],
            "image/png": "[encoded data removed]"
          },
          "metadata": {
            "needs_background": "light"
          }
        }
      ]
    },
    {
      "cell_type": "markdown",
      "source": [
        "KMeans runs well on the dataset so it will be tested with review score and average customer spend data"
      ],
      "metadata": {
        "id": "cXu9kNH9_rVC"
      }
    },
    {
      "cell_type": "code",
      "source": [
        "df = df_kmeans"
      ],
      "metadata": {
        "id": "Te77AbTLdPNr"
      },
      "execution_count": null,
      "outputs": []
    },
    {
      "cell_type": "code",
      "source": [
        "# Dividing up the data into individual clusters\n",
        "\n",
        "Cluster_0 = df.loc[df[\"Cluster\"] == 0]\n",
        "Cluster_1 = df.loc[df[\"Cluster\"] == 1]\n",
        "Cluster_2 = df.loc[df[\"Cluster\"] == 2]\n",
        "Cluster_3 = df.loc[df[\"Cluster\"] == 3]"
      ],
      "metadata": {
        "id": "Z8Jn1wWCPfy7"
      },
      "execution_count": null,
      "outputs": []
    },
    {
      "cell_type": "code",
      "source": [
        "#High spending customers\n",
        "Cluster_0.describe()"
      ],
      "metadata": {
        "id": "YpOJ2xPlnuV0",
        "colab": {
          "base_uri": "https://localhost:8080/",
          "height": 300
        },
        "outputId": "245a6941-fbf4-4f70-d5ab-584626878291"
      },
      "execution_count": null,
      "outputs": [
        {
          "output_type": "execute_result",
          "data": {
            "text/plain": [
              "       Seconds_Since_Last_Order  Sum_of_Prices    frequency  Component 1  \\\n",
              "count              2.566000e+03    2566.000000  2566.000000  2566.000000   \n",
              "mean               2.646377e+07    1009.198952     1.008963     2.967094   \n",
              "std                1.309815e+07     570.815779     0.094268     2.066820   \n",
              "min                5.627443e+06     548.000000     1.000000     1.232069   \n",
              "25%                1.558667e+07     659.000000     1.000000     1.712112   \n",
              "50%                2.526048e+07     809.100000     1.000000     2.290193   \n",
              "75%                3.557118e+07    1173.610000     1.000000     3.454698   \n",
              "max                6.550767e+07    7388.000000     2.000000    28.242201   \n",
              "\n",
              "       Component 2  Component 3  Cluster  \n",
              "count  2566.000000  2566.000000   2566.0  \n",
              "mean      1.207500    -3.107944      0.0  \n",
              "std       1.236489     1.946602      0.0  \n",
              "min      -0.812229   -23.158665      0.0  \n",
              "25%       0.314181    -3.607707      0.0  \n",
              "50%       1.004964    -2.486007      0.0  \n",
              "75%       1.926093    -1.912909      0.0  \n",
              "max      11.420214    -0.079778      0.0  "
            ],
            "text/html": [
              "\n",
              "  <div id=\"df-47785f7c-56e0-4538-8bc4-05d7393b5d41\">\n",
              "    <div class=\"colab-df-container\">\n",
              "      <div>\n",
              "<style scoped>\n",
              "    .dataframe tbody tr th:only-of-type {\n",
              "        vertical-align: middle;\n",
              "    }\n",
              "\n",
              "    .dataframe tbody tr th {\n",
              "        vertical-align: top;\n",
              "    }\n",
              "\n",
              "    .dataframe thead th {\n",
              "        text-align: right;\n",
              "    }\n",
              "</style>\n",
              "<table border=\"1\" class=\"dataframe\">\n",
              "  <thead>\n",
              "    <tr style=\"text-align: right;\">\n",
              "      <th></th>\n",
              "      <th>Seconds_Since_Last_Order</th>\n",
              "      <th>Sum_of_Prices</th>\n",
              "      <th>frequency</th>\n",
              "      <th>Component 1</th>\n",
              "      <th>Component 2</th>\n",
              "      <th>Component 3</th>\n",
              "      <th>Cluster</th>\n",
              "    </tr>\n",
              "  </thead>\n",
              "  <tbody>\n",
              "    <tr>\n",
              "      <th>count</th>\n",
              "      <td>2.566000e+03</td>\n",
              "      <td>2566.000000</td>\n",
              "      <td>2566.000000</td>\n",
              "      <td>2566.000000</td>\n",
              "      <td>2566.000000</td>\n",
              "      <td>2566.000000</td>\n",
              "      <td>2566.0</td>\n",
              "    </tr>\n",
              "    <tr>\n",
              "      <th>mean</th>\n",
              "      <td>2.646377e+07</td>\n",
              "      <td>1009.198952</td>\n",
              "      <td>1.008963</td>\n",
              "      <td>2.967094</td>\n",
              "      <td>1.207500</td>\n",
              "      <td>-3.107944</td>\n",
              "      <td>0.0</td>\n",
              "    </tr>\n",
              "    <tr>\n",
              "      <th>std</th>\n",
              "      <td>1.309815e+07</td>\n",
              "      <td>570.815779</td>\n",
              "      <td>0.094268</td>\n",
              "      <td>2.066820</td>\n",
              "      <td>1.236489</td>\n",
              "      <td>1.946602</td>\n",
              "      <td>0.0</td>\n",
              "    </tr>\n",
              "    <tr>\n",
              "      <th>min</th>\n",
              "      <td>5.627443e+06</td>\n",
              "      <td>548.000000</td>\n",
              "      <td>1.000000</td>\n",
              "      <td>1.232069</td>\n",
              "      <td>-0.812229</td>\n",
              "      <td>-23.158665</td>\n",
              "      <td>0.0</td>\n",
              "    </tr>\n",
              "    <tr>\n",
              "      <th>25%</th>\n",
              "      <td>1.558667e+07</td>\n",
              "      <td>659.000000</td>\n",
              "      <td>1.000000</td>\n",
              "      <td>1.712112</td>\n",
              "      <td>0.314181</td>\n",
              "      <td>-3.607707</td>\n",
              "      <td>0.0</td>\n",
              "    </tr>\n",
              "    <tr>\n",
              "      <th>50%</th>\n",
              "      <td>2.526048e+07</td>\n",
              "      <td>809.100000</td>\n",
              "      <td>1.000000</td>\n",
              "      <td>2.290193</td>\n",
              "      <td>1.004964</td>\n",
              "      <td>-2.486007</td>\n",
              "      <td>0.0</td>\n",
              "    </tr>\n",
              "    <tr>\n",
              "      <th>75%</th>\n",
              "      <td>3.557118e+07</td>\n",
              "      <td>1173.610000</td>\n",
              "      <td>1.000000</td>\n",
              "      <td>3.454698</td>\n",
              "      <td>1.926093</td>\n",
              "      <td>-1.912909</td>\n",
              "      <td>0.0</td>\n",
              "    </tr>\n",
              "    <tr>\n",
              "      <th>max</th>\n",
              "      <td>6.550767e+07</td>\n",
              "      <td>7388.000000</td>\n",
              "      <td>2.000000</td>\n",
              "      <td>28.242201</td>\n",
              "      <td>11.420214</td>\n",
              "      <td>-0.079778</td>\n",
              "      <td>0.0</td>\n",
              "    </tr>\n",
              "  </tbody>\n",
              "</table>\n",
              "</div>\n",
              "      <button class=\"colab-df-convert\" onclick=\"convertToInteractive('df-47785f7c-56e0-4538-8bc4-05d7393b5d41')\"\n",
              "              title=\"Convert this dataframe to an interactive table.\"\n",
              "              style=\"display:none;\">\n",
              "        \n",
              "  <svg xmlns=\"http://www.w3.org/2000/svg\" height=\"24px\"viewBox=\"0 0 24 24\"\n",
              "       width=\"24px\">\n",
              "    <path d=\"M0 0h24v24H0V0z\" fill=\"none\"/>\n",
              "    <path d=\"M18.56 5.44l.94 2.06.94-2.06 2.06-.94-2.06-.94-.94-2.06-.94 2.06-2.06.94zm-11 1L8.5 8.5l.94-2.06 2.06-.94-2.06-.94L8.5 2.5l-.94 2.06-2.06.94zm10 10l.94 2.06.94-2.06 2.06-.94-2.06-.94-.94-2.06-.94 2.06-2.06.94z\"/><path d=\"M17.41 7.96l-1.37-1.37c-.4-.4-.92-.59-1.43-.59-.52 0-1.04.2-1.43.59L10.3 9.45l-7.72 7.72c-.78.78-.78 2.05 0 2.83L4 21.41c.39.39.9.59 1.41.59.51 0 1.02-.2 1.41-.59l7.78-7.78 2.81-2.81c.8-.78.8-2.07 0-2.86zM5.41 20L4 18.59l7.72-7.72 1.47 1.35L5.41 20z\"/>\n",
              "  </svg>\n",
              "      </button>\n",
              "      \n",
              "  <style>\n",
              "    .colab-df-container {\n",
              "      display:flex;\n",
              "      flex-wrap:wrap;\n",
              "      gap: 12px;\n",
              "    }\n",
              "\n",
              "    .colab-df-convert {\n",
              "      background-color: #E8F0FE;\n",
              "      border: none;\n",
              "      border-radius: 50%;\n",
              "      cursor: pointer;\n",
              "      display: none;\n",
              "      fill: #1967D2;\n",
              "      height: 32px;\n",
              "      padding: 0 0 0 0;\n",
              "      width: 32px;\n",
              "    }\n",
              "\n",
              "    .colab-df-convert:hover {\n",
              "      background-color: #E2EBFA;\n",
              "      box-shadow: 0px 1px 2px rgba(60, 64, 67, 0.3), 0px 1px 3px 1px rgba(60, 64, 67, 0.15);\n",
              "      fill: #174EA6;\n",
              "    }\n",
              "\n",
              "    [theme=dark] .colab-df-convert {\n",
              "      background-color: #3B4455;\n",
              "      fill: #D2E3FC;\n",
              "    }\n",
              "\n",
              "    [theme=dark] .colab-df-convert:hover {\n",
              "      background-color: #434B5C;\n",
              "      box-shadow: 0px 1px 3px 1px rgba(0, 0, 0, 0.15);\n",
              "      filter: drop-shadow(0px 1px 2px rgba(0, 0, 0, 0.3));\n",
              "      fill: #FFFFFF;\n",
              "    }\n",
              "  </style>\n",
              "\n",
              "      <script>\n",
              "        const buttonEl =\n",
              "          document.querySelector('#df-47785f7c-56e0-4538-8bc4-05d7393b5d41 button.colab-df-convert');\n",
              "        buttonEl.style.display =\n",
              "          google.colab.kernel.accessAllowed ? 'block' : 'none';\n",
              "\n",
              "        async function convertToInteractive(key) {\n",
              "          const element = document.querySelector('#df-47785f7c-56e0-4538-8bc4-05d7393b5d41');\n",
              "          const dataTable =\n",
              "            await google.colab.kernel.invokeFunction('convertToInteractive',\n",
              "                                                     [key], {});\n",
              "          if (!dataTable) return;\n",
              "\n",
              "          const docLinkHtml = 'Like what you see? Visit the ' +\n",
              "            '<a target=\"_blank\" href=https://colab.research.google.com/notebooks/data_table.ipynb>data table notebook</a>'\n",
              "            + ' to learn more about interactive tables.';\n",
              "          element.innerHTML = '';\n",
              "          dataTable['output_type'] = 'display_data';\n",
              "          await google.colab.output.renderOutput(dataTable, element);\n",
              "          const docLink = document.createElement('div');\n",
              "          docLink.innerHTML = docLinkHtml;\n",
              "          element.appendChild(docLink);\n",
              "        }\n",
              "      </script>\n",
              "    </div>\n",
              "  </div>\n",
              "  "
            ]
          },
          "metadata": {},
          "execution_count": 23
        }
      ]
    },
    {
      "cell_type": "code",
      "source": [
        "#Less interesting customers\n",
        "Cluster_1.describe()"
      ],
      "metadata": {
        "id": "GbxTXwRUoR1_",
        "colab": {
          "base_uri": "https://localhost:8080/",
          "height": 300
        },
        "outputId": "01e29095-0fbb-468f-f3fd-19df64665dfd"
      },
      "execution_count": null,
      "outputs": [
        {
          "output_type": "execute_result",
          "data": {
            "text/plain": [
              "       Seconds_Since_Last_Order  Sum_of_Prices  frequency   Component 1  \\\n",
              "count              3.851500e+04   38515.000000    38515.0  38515.000000   \n",
              "mean               3.911867e+07     102.748712        1.0     -0.375329   \n",
              "std                8.333878e+06      90.825010        0.0      0.332166   \n",
              "min                2.788757e+07       1.200000        1.0     -1.053972   \n",
              "25%                3.146934e+07      39.995000        1.0     -0.583141   \n",
              "50%                3.803775e+07      75.000000        1.0     -0.452870   \n",
              "75%                4.553606e+07     129.990000        1.0     -0.250541   \n",
              "max                6.809308e+07     649.170000        1.0      1.289569   \n",
              "\n",
              "        Component 2   Component 3  Cluster  \n",
              "count  38515.000000  38515.000000  38515.0  \n",
              "mean       0.912348      0.181638      1.0  \n",
              "std        0.621685      0.336094      0.0  \n",
              "min       -0.034610     -1.497352      1.0  \n",
              "25%        0.370199      0.049532      1.0  \n",
              "50%        0.829499      0.253749      1.0  \n",
              "75%        1.373515      0.391821      1.0  \n",
              "max        3.565885      0.906494      1.0  "
            ],
            "text/html": [
              "\n",
              "  <div id=\"df-2c0efd59-c2b2-4f17-b356-347860cda3bd\">\n",
              "    <div class=\"colab-df-container\">\n",
              "      <div>\n",
              "<style scoped>\n",
              "    .dataframe tbody tr th:only-of-type {\n",
              "        vertical-align: middle;\n",
              "    }\n",
              "\n",
              "    .dataframe tbody tr th {\n",
              "        vertical-align: top;\n",
              "    }\n",
              "\n",
              "    .dataframe thead th {\n",
              "        text-align: right;\n",
              "    }\n",
              "</style>\n",
              "<table border=\"1\" class=\"dataframe\">\n",
              "  <thead>\n",
              "    <tr style=\"text-align: right;\">\n",
              "      <th></th>\n",
              "      <th>Seconds_Since_Last_Order</th>\n",
              "      <th>Sum_of_Prices</th>\n",
              "      <th>frequency</th>\n",
              "      <th>Component 1</th>\n",
              "      <th>Component 2</th>\n",
              "      <th>Component 3</th>\n",
              "      <th>Cluster</th>\n",
              "    </tr>\n",
              "  </thead>\n",
              "  <tbody>\n",
              "    <tr>\n",
              "      <th>count</th>\n",
              "      <td>3.851500e+04</td>\n",
              "      <td>38515.000000</td>\n",
              "      <td>38515.0</td>\n",
              "      <td>38515.000000</td>\n",
              "      <td>38515.000000</td>\n",
              "      <td>38515.000000</td>\n",
              "      <td>38515.0</td>\n",
              "    </tr>\n",
              "    <tr>\n",
              "      <th>mean</th>\n",
              "      <td>3.911867e+07</td>\n",
              "      <td>102.748712</td>\n",
              "      <td>1.0</td>\n",
              "      <td>-0.375329</td>\n",
              "      <td>0.912348</td>\n",
              "      <td>0.181638</td>\n",
              "      <td>1.0</td>\n",
              "    </tr>\n",
              "    <tr>\n",
              "      <th>std</th>\n",
              "      <td>8.333878e+06</td>\n",
              "      <td>90.825010</td>\n",
              "      <td>0.0</td>\n",
              "      <td>0.332166</td>\n",
              "      <td>0.621685</td>\n",
              "      <td>0.336094</td>\n",
              "      <td>0.0</td>\n",
              "    </tr>\n",
              "    <tr>\n",
              "      <th>min</th>\n",
              "      <td>2.788757e+07</td>\n",
              "      <td>1.200000</td>\n",
              "      <td>1.0</td>\n",
              "      <td>-1.053972</td>\n",
              "      <td>-0.034610</td>\n",
              "      <td>-1.497352</td>\n",
              "      <td>1.0</td>\n",
              "    </tr>\n",
              "    <tr>\n",
              "      <th>25%</th>\n",
              "      <td>3.146934e+07</td>\n",
              "      <td>39.995000</td>\n",
              "      <td>1.0</td>\n",
              "      <td>-0.583141</td>\n",
              "      <td>0.370199</td>\n",
              "      <td>0.049532</td>\n",
              "      <td>1.0</td>\n",
              "    </tr>\n",
              "    <tr>\n",
              "      <th>50%</th>\n",
              "      <td>3.803775e+07</td>\n",
              "      <td>75.000000</td>\n",
              "      <td>1.0</td>\n",
              "      <td>-0.452870</td>\n",
              "      <td>0.829499</td>\n",
              "      <td>0.253749</td>\n",
              "      <td>1.0</td>\n",
              "    </tr>\n",
              "    <tr>\n",
              "      <th>75%</th>\n",
              "      <td>4.553606e+07</td>\n",
              "      <td>129.990000</td>\n",
              "      <td>1.0</td>\n",
              "      <td>-0.250541</td>\n",
              "      <td>1.373515</td>\n",
              "      <td>0.391821</td>\n",
              "      <td>1.0</td>\n",
              "    </tr>\n",
              "    <tr>\n",
              "      <th>max</th>\n",
              "      <td>6.809308e+07</td>\n",
              "      <td>649.170000</td>\n",
              "      <td>1.0</td>\n",
              "      <td>1.289569</td>\n",
              "      <td>3.565885</td>\n",
              "      <td>0.906494</td>\n",
              "      <td>1.0</td>\n",
              "    </tr>\n",
              "  </tbody>\n",
              "</table>\n",
              "</div>\n",
              "      <button class=\"colab-df-convert\" onclick=\"convertToInteractive('df-2c0efd59-c2b2-4f17-b356-347860cda3bd')\"\n",
              "              title=\"Convert this dataframe to an interactive table.\"\n",
              "              style=\"display:none;\">\n",
              "        \n",
              "  <svg xmlns=\"http://www.w3.org/2000/svg\" height=\"24px\"viewBox=\"0 0 24 24\"\n",
              "       width=\"24px\">\n",
              "    <path d=\"M0 0h24v24H0V0z\" fill=\"none\"/>\n",
              "    <path d=\"M18.56 5.44l.94 2.06.94-2.06 2.06-.94-2.06-.94-.94-2.06-.94 2.06-2.06.94zm-11 1L8.5 8.5l.94-2.06 2.06-.94-2.06-.94L8.5 2.5l-.94 2.06-2.06.94zm10 10l.94 2.06.94-2.06 2.06-.94-2.06-.94-.94-2.06-.94 2.06-2.06.94z\"/><path d=\"M17.41 7.96l-1.37-1.37c-.4-.4-.92-.59-1.43-.59-.52 0-1.04.2-1.43.59L10.3 9.45l-7.72 7.72c-.78.78-.78 2.05 0 2.83L4 21.41c.39.39.9.59 1.41.59.51 0 1.02-.2 1.41-.59l7.78-7.78 2.81-2.81c.8-.78.8-2.07 0-2.86zM5.41 20L4 18.59l7.72-7.72 1.47 1.35L5.41 20z\"/>\n",
              "  </svg>\n",
              "      </button>\n",
              "      \n",
              "  <style>\n",
              "    .colab-df-container {\n",
              "      display:flex;\n",
              "      flex-wrap:wrap;\n",
              "      gap: 12px;\n",
              "    }\n",
              "\n",
              "    .colab-df-convert {\n",
              "      background-color: #E8F0FE;\n",
              "      border: none;\n",
              "      border-radius: 50%;\n",
              "      cursor: pointer;\n",
              "      display: none;\n",
              "      fill: #1967D2;\n",
              "      height: 32px;\n",
              "      padding: 0 0 0 0;\n",
              "      width: 32px;\n",
              "    }\n",
              "\n",
              "    .colab-df-convert:hover {\n",
              "      background-color: #E2EBFA;\n",
              "      box-shadow: 0px 1px 2px rgba(60, 64, 67, 0.3), 0px 1px 3px 1px rgba(60, 64, 67, 0.15);\n",
              "      fill: #174EA6;\n",
              "    }\n",
              "\n",
              "    [theme=dark] .colab-df-convert {\n",
              "      background-color: #3B4455;\n",
              "      fill: #D2E3FC;\n",
              "    }\n",
              "\n",
              "    [theme=dark] .colab-df-convert:hover {\n",
              "      background-color: #434B5C;\n",
              "      box-shadow: 0px 1px 3px 1px rgba(0, 0, 0, 0.15);\n",
              "      filter: drop-shadow(0px 1px 2px rgba(0, 0, 0, 0.3));\n",
              "      fill: #FFFFFF;\n",
              "    }\n",
              "  </style>\n",
              "\n",
              "      <script>\n",
              "        const buttonEl =\n",
              "          document.querySelector('#df-2c0efd59-c2b2-4f17-b356-347860cda3bd button.colab-df-convert');\n",
              "        buttonEl.style.display =\n",
              "          google.colab.kernel.accessAllowed ? 'block' : 'none';\n",
              "\n",
              "        async function convertToInteractive(key) {\n",
              "          const element = document.querySelector('#df-2c0efd59-c2b2-4f17-b356-347860cda3bd');\n",
              "          const dataTable =\n",
              "            await google.colab.kernel.invokeFunction('convertToInteractive',\n",
              "                                                     [key], {});\n",
              "          if (!dataTable) return;\n",
              "\n",
              "          const docLinkHtml = 'Like what you see? Visit the ' +\n",
              "            '<a target=\"_blank\" href=https://colab.research.google.com/notebooks/data_table.ipynb>data table notebook</a>'\n",
              "            + ' to learn more about interactive tables.';\n",
              "          element.innerHTML = '';\n",
              "          dataTable['output_type'] = 'display_data';\n",
              "          await google.colab.output.renderOutput(dataTable, element);\n",
              "          const docLink = document.createElement('div');\n",
              "          docLink.innerHTML = docLinkHtml;\n",
              "          element.appendChild(docLink);\n",
              "        }\n",
              "      </script>\n",
              "    </div>\n",
              "  </div>\n",
              "  "
            ]
          },
          "metadata": {},
          "execution_count": 24
        }
      ]
    },
    {
      "cell_type": "code",
      "source": [
        "#Returning customers\n",
        "Cluster_2.describe()"
      ],
      "metadata": {
        "id": "h8e9Zu4ioVjr",
        "colab": {
          "base_uri": "https://localhost:8080/",
          "height": 300
        },
        "outputId": "472194fa-fdd1-4ec9-da9e-763239b8f3bd"
      },
      "execution_count": null,
      "outputs": [
        {
          "output_type": "execute_result",
          "data": {
            "text/plain": [
              "       Seconds_Since_Last_Order  Sum_of_Prices    frequency  Component 1  \\\n",
              "count              2.660000e+03    2660.000000  2660.000000  2660.000000   \n",
              "mean               2.425523e+07     214.162203     2.113910     4.104935   \n",
              "std                1.237929e+07     178.960581     0.516186     2.071576   \n",
              "min                5.151183e+06      11.980000     2.000000     2.595527   \n",
              "25%                1.443485e+07      99.980000     2.000000     3.316516   \n",
              "50%                2.241972e+07     163.900000     2.000000     3.578857   \n",
              "75%                3.267237e+07     270.077500     2.000000     4.025931   \n",
              "max                6.528789e+07    1690.920000    16.000000    54.710120   \n",
              "\n",
              "       Component 2  Component 3  Cluster  \n",
              "count  2660.000000  2660.000000   2660.0  \n",
              "mean     -0.115964     3.449858      2.0  \n",
              "std       0.921461     1.747047      0.0  \n",
              "min      -1.905345    -0.501706      2.0  \n",
              "25%      -0.856704     2.899363      2.0  \n",
              "50%      -0.235810     3.260732      2.0  \n",
              "75%       0.493233     3.543463      2.0  \n",
              "max       3.247816    49.732804      2.0  "
            ],
            "text/html": [
              "\n",
              "  <div id=\"df-17fa7b31-b453-406f-98dc-604f8bb094d2\">\n",
              "    <div class=\"colab-df-container\">\n",
              "      <div>\n",
              "<style scoped>\n",
              "    .dataframe tbody tr th:only-of-type {\n",
              "        vertical-align: middle;\n",
              "    }\n",
              "\n",
              "    .dataframe tbody tr th {\n",
              "        vertical-align: top;\n",
              "    }\n",
              "\n",
              "    .dataframe thead th {\n",
              "        text-align: right;\n",
              "    }\n",
              "</style>\n",
              "<table border=\"1\" class=\"dataframe\">\n",
              "  <thead>\n",
              "    <tr style=\"text-align: right;\">\n",
              "      <th></th>\n",
              "      <th>Seconds_Since_Last_Order</th>\n",
              "      <th>Sum_of_Prices</th>\n",
              "      <th>frequency</th>\n",
              "      <th>Component 1</th>\n",
              "      <th>Component 2</th>\n",
              "      <th>Component 3</th>\n",
              "      <th>Cluster</th>\n",
              "    </tr>\n",
              "  </thead>\n",
              "  <tbody>\n",
              "    <tr>\n",
              "      <th>count</th>\n",
              "      <td>2.660000e+03</td>\n",
              "      <td>2660.000000</td>\n",
              "      <td>2660.000000</td>\n",
              "      <td>2660.000000</td>\n",
              "      <td>2660.000000</td>\n",
              "      <td>2660.000000</td>\n",
              "      <td>2660.0</td>\n",
              "    </tr>\n",
              "    <tr>\n",
              "      <th>mean</th>\n",
              "      <td>2.425523e+07</td>\n",
              "      <td>214.162203</td>\n",
              "      <td>2.113910</td>\n",
              "      <td>4.104935</td>\n",
              "      <td>-0.115964</td>\n",
              "      <td>3.449858</td>\n",
              "      <td>2.0</td>\n",
              "    </tr>\n",
              "    <tr>\n",
              "      <th>std</th>\n",
              "      <td>1.237929e+07</td>\n",
              "      <td>178.960581</td>\n",
              "      <td>0.516186</td>\n",
              "      <td>2.071576</td>\n",
              "      <td>0.921461</td>\n",
              "      <td>1.747047</td>\n",
              "      <td>0.0</td>\n",
              "    </tr>\n",
              "    <tr>\n",
              "      <th>min</th>\n",
              "      <td>5.151183e+06</td>\n",
              "      <td>11.980000</td>\n",
              "      <td>2.000000</td>\n",
              "      <td>2.595527</td>\n",
              "      <td>-1.905345</td>\n",
              "      <td>-0.501706</td>\n",
              "      <td>2.0</td>\n",
              "    </tr>\n",
              "    <tr>\n",
              "      <th>25%</th>\n",
              "      <td>1.443485e+07</td>\n",
              "      <td>99.980000</td>\n",
              "      <td>2.000000</td>\n",
              "      <td>3.316516</td>\n",
              "      <td>-0.856704</td>\n",
              "      <td>2.899363</td>\n",
              "      <td>2.0</td>\n",
              "    </tr>\n",
              "    <tr>\n",
              "      <th>50%</th>\n",
              "      <td>2.241972e+07</td>\n",
              "      <td>163.900000</td>\n",
              "      <td>2.000000</td>\n",
              "      <td>3.578857</td>\n",
              "      <td>-0.235810</td>\n",
              "      <td>3.260732</td>\n",
              "      <td>2.0</td>\n",
              "    </tr>\n",
              "    <tr>\n",
              "      <th>75%</th>\n",
              "      <td>3.267237e+07</td>\n",
              "      <td>270.077500</td>\n",
              "      <td>2.000000</td>\n",
              "      <td>4.025931</td>\n",
              "      <td>0.493233</td>\n",
              "      <td>3.543463</td>\n",
              "      <td>2.0</td>\n",
              "    </tr>\n",
              "    <tr>\n",
              "      <th>max</th>\n",
              "      <td>6.528789e+07</td>\n",
              "      <td>1690.920000</td>\n",
              "      <td>16.000000</td>\n",
              "      <td>54.710120</td>\n",
              "      <td>3.247816</td>\n",
              "      <td>49.732804</td>\n",
              "      <td>2.0</td>\n",
              "    </tr>\n",
              "  </tbody>\n",
              "</table>\n",
              "</div>\n",
              "      <button class=\"colab-df-convert\" onclick=\"convertToInteractive('df-17fa7b31-b453-406f-98dc-604f8bb094d2')\"\n",
              "              title=\"Convert this dataframe to an interactive table.\"\n",
              "              style=\"display:none;\">\n",
              "        \n",
              "  <svg xmlns=\"http://www.w3.org/2000/svg\" height=\"24px\"viewBox=\"0 0 24 24\"\n",
              "       width=\"24px\">\n",
              "    <path d=\"M0 0h24v24H0V0z\" fill=\"none\"/>\n",
              "    <path d=\"M18.56 5.44l.94 2.06.94-2.06 2.06-.94-2.06-.94-.94-2.06-.94 2.06-2.06.94zm-11 1L8.5 8.5l.94-2.06 2.06-.94-2.06-.94L8.5 2.5l-.94 2.06-2.06.94zm10 10l.94 2.06.94-2.06 2.06-.94-2.06-.94-.94-2.06-.94 2.06-2.06.94z\"/><path d=\"M17.41 7.96l-1.37-1.37c-.4-.4-.92-.59-1.43-.59-.52 0-1.04.2-1.43.59L10.3 9.45l-7.72 7.72c-.78.78-.78 2.05 0 2.83L4 21.41c.39.39.9.59 1.41.59.51 0 1.02-.2 1.41-.59l7.78-7.78 2.81-2.81c.8-.78.8-2.07 0-2.86zM5.41 20L4 18.59l7.72-7.72 1.47 1.35L5.41 20z\"/>\n",
              "  </svg>\n",
              "      </button>\n",
              "      \n",
              "  <style>\n",
              "    .colab-df-container {\n",
              "      display:flex;\n",
              "      flex-wrap:wrap;\n",
              "      gap: 12px;\n",
              "    }\n",
              "\n",
              "    .colab-df-convert {\n",
              "      background-color: #E8F0FE;\n",
              "      border: none;\n",
              "      border-radius: 50%;\n",
              "      cursor: pointer;\n",
              "      display: none;\n",
              "      fill: #1967D2;\n",
              "      height: 32px;\n",
              "      padding: 0 0 0 0;\n",
              "      width: 32px;\n",
              "    }\n",
              "\n",
              "    .colab-df-convert:hover {\n",
              "      background-color: #E2EBFA;\n",
              "      box-shadow: 0px 1px 2px rgba(60, 64, 67, 0.3), 0px 1px 3px 1px rgba(60, 64, 67, 0.15);\n",
              "      fill: #174EA6;\n",
              "    }\n",
              "\n",
              "    [theme=dark] .colab-df-convert {\n",
              "      background-color: #3B4455;\n",
              "      fill: #D2E3FC;\n",
              "    }\n",
              "\n",
              "    [theme=dark] .colab-df-convert:hover {\n",
              "      background-color: #434B5C;\n",
              "      box-shadow: 0px 1px 3px 1px rgba(0, 0, 0, 0.15);\n",
              "      filter: drop-shadow(0px 1px 2px rgba(0, 0, 0, 0.3));\n",
              "      fill: #FFFFFF;\n",
              "    }\n",
              "  </style>\n",
              "\n",
              "      <script>\n",
              "        const buttonEl =\n",
              "          document.querySelector('#df-17fa7b31-b453-406f-98dc-604f8bb094d2 button.colab-df-convert');\n",
              "        buttonEl.style.display =\n",
              "          google.colab.kernel.accessAllowed ? 'block' : 'none';\n",
              "\n",
              "        async function convertToInteractive(key) {\n",
              "          const element = document.querySelector('#df-17fa7b31-b453-406f-98dc-604f8bb094d2');\n",
              "          const dataTable =\n",
              "            await google.colab.kernel.invokeFunction('convertToInteractive',\n",
              "                                                     [key], {});\n",
              "          if (!dataTable) return;\n",
              "\n",
              "          const docLinkHtml = 'Like what you see? Visit the ' +\n",
              "            '<a target=\"_blank\" href=https://colab.research.google.com/notebooks/data_table.ipynb>data table notebook</a>'\n",
              "            + ' to learn more about interactive tables.';\n",
              "          element.innerHTML = '';\n",
              "          dataTable['output_type'] = 'display_data';\n",
              "          await google.colab.output.renderOutput(dataTable, element);\n",
              "          const docLink = document.createElement('div');\n",
              "          docLink.innerHTML = docLinkHtml;\n",
              "          element.appendChild(docLink);\n",
              "        }\n",
              "      </script>\n",
              "    </div>\n",
              "  </div>\n",
              "  "
            ]
          },
          "metadata": {},
          "execution_count": 25
        }
      ]
    },
    {
      "cell_type": "code",
      "source": [
        "#Customers that have ordered recently\n",
        "Cluster_3.describe()"
      ],
      "metadata": {
        "id": "aEA6OCMuoaim",
        "colab": {
          "base_uri": "https://localhost:8080/",
          "height": 300
        },
        "outputId": "7468236a-fc6c-4050-880a-bce826e6271e"
      },
      "execution_count": null,
      "outputs": [
        {
          "output_type": "execute_result",
          "data": {
            "text/plain": [
              "       Seconds_Since_Last_Order  Sum_of_Prices  frequency   Component 1  \\\n",
              "count              5.222200e+04   52222.000000    52222.0  52222.000000   \n",
              "mean               1.664941e+07     102.626519        1.0     -0.078068   \n",
              "std                6.267127e+06      89.383415        0.0      0.321626   \n",
              "min                5.561963e+06       0.850000        1.0     -0.561437   \n",
              "25%                1.117541e+07      40.000000        1.0     -0.291005   \n",
              "50%                1.678923e+07      78.000000        1.0     -0.155929   \n",
              "75%                2.196153e+07     132.910000        1.0      0.040823   \n",
              "max                2.788130e+07     585.000000        1.0      1.735126   \n",
              "\n",
              "        Component 2   Component 3  Cluster  \n",
              "count  52222.000000  52222.000000  52222.0  \n",
              "mean      -0.726304     -0.156973      3.0  \n",
              "std        0.471480      0.323615      0.0  \n",
              "min       -1.662303     -1.982447      3.0  \n",
              "25%       -1.127522     -0.279247      3.0  \n",
              "50%       -0.714254     -0.083237      3.0  \n",
              "75%       -0.337903      0.056975      3.0  \n",
              "max        0.627209      0.345222      3.0  "
            ],
            "text/html": [
              "\n",
              "  <div id=\"df-ba6689bc-7a76-4da2-896b-9db5715c9610\">\n",
              "    <div class=\"colab-df-container\">\n",
              "      <div>\n",
              "<style scoped>\n",
              "    .dataframe tbody tr th:only-of-type {\n",
              "        vertical-align: middle;\n",
              "    }\n",
              "\n",
              "    .dataframe tbody tr th {\n",
              "        vertical-align: top;\n",
              "    }\n",
              "\n",
              "    .dataframe thead th {\n",
              "        text-align: right;\n",
              "    }\n",
              "</style>\n",
              "<table border=\"1\" class=\"dataframe\">\n",
              "  <thead>\n",
              "    <tr style=\"text-align: right;\">\n",
              "      <th></th>\n",
              "      <th>Seconds_Since_Last_Order</th>\n",
              "      <th>Sum_of_Prices</th>\n",
              "      <th>frequency</th>\n",
              "      <th>Component 1</th>\n",
              "      <th>Component 2</th>\n",
              "      <th>Component 3</th>\n",
              "      <th>Cluster</th>\n",
              "    </tr>\n",
              "  </thead>\n",
              "  <tbody>\n",
              "    <tr>\n",
              "      <th>count</th>\n",
              "      <td>5.222200e+04</td>\n",
              "      <td>52222.000000</td>\n",
              "      <td>52222.0</td>\n",
              "      <td>52222.000000</td>\n",
              "      <td>52222.000000</td>\n",
              "      <td>52222.000000</td>\n",
              "      <td>52222.0</td>\n",
              "    </tr>\n",
              "    <tr>\n",
              "      <th>mean</th>\n",
              "      <td>1.664941e+07</td>\n",
              "      <td>102.626519</td>\n",
              "      <td>1.0</td>\n",
              "      <td>-0.078068</td>\n",
              "      <td>-0.726304</td>\n",
              "      <td>-0.156973</td>\n",
              "      <td>3.0</td>\n",
              "    </tr>\n",
              "    <tr>\n",
              "      <th>std</th>\n",
              "      <td>6.267127e+06</td>\n",
              "      <td>89.383415</td>\n",
              "      <td>0.0</td>\n",
              "      <td>0.321626</td>\n",
              "      <td>0.471480</td>\n",
              "      <td>0.323615</td>\n",
              "      <td>0.0</td>\n",
              "    </tr>\n",
              "    <tr>\n",
              "      <th>min</th>\n",
              "      <td>5.561963e+06</td>\n",
              "      <td>0.850000</td>\n",
              "      <td>1.0</td>\n",
              "      <td>-0.561437</td>\n",
              "      <td>-1.662303</td>\n",
              "      <td>-1.982447</td>\n",
              "      <td>3.0</td>\n",
              "    </tr>\n",
              "    <tr>\n",
              "      <th>25%</th>\n",
              "      <td>1.117541e+07</td>\n",
              "      <td>40.000000</td>\n",
              "      <td>1.0</td>\n",
              "      <td>-0.291005</td>\n",
              "      <td>-1.127522</td>\n",
              "      <td>-0.279247</td>\n",
              "      <td>3.0</td>\n",
              "    </tr>\n",
              "    <tr>\n",
              "      <th>50%</th>\n",
              "      <td>1.678923e+07</td>\n",
              "      <td>78.000000</td>\n",
              "      <td>1.0</td>\n",
              "      <td>-0.155929</td>\n",
              "      <td>-0.714254</td>\n",
              "      <td>-0.083237</td>\n",
              "      <td>3.0</td>\n",
              "    </tr>\n",
              "    <tr>\n",
              "      <th>75%</th>\n",
              "      <td>2.196153e+07</td>\n",
              "      <td>132.910000</td>\n",
              "      <td>1.0</td>\n",
              "      <td>0.040823</td>\n",
              "      <td>-0.337903</td>\n",
              "      <td>0.056975</td>\n",
              "      <td>3.0</td>\n",
              "    </tr>\n",
              "    <tr>\n",
              "      <th>max</th>\n",
              "      <td>2.788130e+07</td>\n",
              "      <td>585.000000</td>\n",
              "      <td>1.0</td>\n",
              "      <td>1.735126</td>\n",
              "      <td>0.627209</td>\n",
              "      <td>0.345222</td>\n",
              "      <td>3.0</td>\n",
              "    </tr>\n",
              "  </tbody>\n",
              "</table>\n",
              "</div>\n",
              "      <button class=\"colab-df-convert\" onclick=\"convertToInteractive('df-ba6689bc-7a76-4da2-896b-9db5715c9610')\"\n",
              "              title=\"Convert this dataframe to an interactive table.\"\n",
              "              style=\"display:none;\">\n",
              "        \n",
              "  <svg xmlns=\"http://www.w3.org/2000/svg\" height=\"24px\"viewBox=\"0 0 24 24\"\n",
              "       width=\"24px\">\n",
              "    <path d=\"M0 0h24v24H0V0z\" fill=\"none\"/>\n",
              "    <path d=\"M18.56 5.44l.94 2.06.94-2.06 2.06-.94-2.06-.94-.94-2.06-.94 2.06-2.06.94zm-11 1L8.5 8.5l.94-2.06 2.06-.94-2.06-.94L8.5 2.5l-.94 2.06-2.06.94zm10 10l.94 2.06.94-2.06 2.06-.94-2.06-.94-.94-2.06-.94 2.06-2.06.94z\"/><path d=\"M17.41 7.96l-1.37-1.37c-.4-.4-.92-.59-1.43-.59-.52 0-1.04.2-1.43.59L10.3 9.45l-7.72 7.72c-.78.78-.78 2.05 0 2.83L4 21.41c.39.39.9.59 1.41.59.51 0 1.02-.2 1.41-.59l7.78-7.78 2.81-2.81c.8-.78.8-2.07 0-2.86zM5.41 20L4 18.59l7.72-7.72 1.47 1.35L5.41 20z\"/>\n",
              "  </svg>\n",
              "      </button>\n",
              "      \n",
              "  <style>\n",
              "    .colab-df-container {\n",
              "      display:flex;\n",
              "      flex-wrap:wrap;\n",
              "      gap: 12px;\n",
              "    }\n",
              "\n",
              "    .colab-df-convert {\n",
              "      background-color: #E8F0FE;\n",
              "      border: none;\n",
              "      border-radius: 50%;\n",
              "      cursor: pointer;\n",
              "      display: none;\n",
              "      fill: #1967D2;\n",
              "      height: 32px;\n",
              "      padding: 0 0 0 0;\n",
              "      width: 32px;\n",
              "    }\n",
              "\n",
              "    .colab-df-convert:hover {\n",
              "      background-color: #E2EBFA;\n",
              "      box-shadow: 0px 1px 2px rgba(60, 64, 67, 0.3), 0px 1px 3px 1px rgba(60, 64, 67, 0.15);\n",
              "      fill: #174EA6;\n",
              "    }\n",
              "\n",
              "    [theme=dark] .colab-df-convert {\n",
              "      background-color: #3B4455;\n",
              "      fill: #D2E3FC;\n",
              "    }\n",
              "\n",
              "    [theme=dark] .colab-df-convert:hover {\n",
              "      background-color: #434B5C;\n",
              "      box-shadow: 0px 1px 3px 1px rgba(0, 0, 0, 0.15);\n",
              "      filter: drop-shadow(0px 1px 2px rgba(0, 0, 0, 0.3));\n",
              "      fill: #FFFFFF;\n",
              "    }\n",
              "  </style>\n",
              "\n",
              "      <script>\n",
              "        const buttonEl =\n",
              "          document.querySelector('#df-ba6689bc-7a76-4da2-896b-9db5715c9610 button.colab-df-convert');\n",
              "        buttonEl.style.display =\n",
              "          google.colab.kernel.accessAllowed ? 'block' : 'none';\n",
              "\n",
              "        async function convertToInteractive(key) {\n",
              "          const element = document.querySelector('#df-ba6689bc-7a76-4da2-896b-9db5715c9610');\n",
              "          const dataTable =\n",
              "            await google.colab.kernel.invokeFunction('convertToInteractive',\n",
              "                                                     [key], {});\n",
              "          if (!dataTable) return;\n",
              "\n",
              "          const docLinkHtml = 'Like what you see? Visit the ' +\n",
              "            '<a target=\"_blank\" href=https://colab.research.google.com/notebooks/data_table.ipynb>data table notebook</a>'\n",
              "            + ' to learn more about interactive tables.';\n",
              "          element.innerHTML = '';\n",
              "          dataTable['output_type'] = 'display_data';\n",
              "          await google.colab.output.renderOutput(dataTable, element);\n",
              "          const docLink = document.createElement('div');\n",
              "          docLink.innerHTML = docLinkHtml;\n",
              "          element.appendChild(docLink);\n",
              "        }\n",
              "      </script>\n",
              "    </div>\n",
              "  </div>\n",
              "  "
            ]
          },
          "metadata": {},
          "execution_count": 26
        }
      ]
    },
    {
      "cell_type": "code",
      "source": [
        "Cluster_0.boxplot(column = \"Seconds_Since_Last_Order\", vert=False)\n",
        "plt.show()"
      ],
      "metadata": {
        "colab": {
          "base_uri": "https://localhost:8080/",
          "height": 278
        },
        "id": "dwhzepcghSxG",
        "outputId": "c73dd01d-873e-4159-9987-773364b006c6"
      },
      "execution_count": null,
      "outputs": [
        {
          "output_type": "display_data",
          "data": {
            "text/plain": [
              "<Figure size 432x288 with 1 Axes>"
            ],
            "image/png": "[encoded data removed]"
          },
          "metadata": {
            "needs_background": "light"
          }
        }
      ]
    },
    {
      "cell_type": "code",
      "source": [
        "Cluster_1.boxplot(column = \"Seconds_Since_Last_Order\", vert=False)\n",
        "plt.show()"
      ],
      "metadata": {
        "id": "27ofANCUSxeU",
        "colab": {
          "base_uri": "https://localhost:8080/",
          "height": 278
        },
        "outputId": "e381808a-2a34-4465-c8f4-0c45c20b2709"
      },
      "execution_count": null,
      "outputs": [
        {
          "output_type": "display_data",
          "data": {
            "text/plain": [
              "<Figure size 432x288 with 1 Axes>"
            ],
            "image/png": "[encoded data removed]"
          },
          "metadata": {
            "needs_background": "light"
          }
        }
      ]
    },
    {
      "cell_type": "code",
      "source": [
        "Cluster_2.boxplot(column = \"Seconds_Since_Last_Order\", vert=False)\n",
        "plt.show()"
      ],
      "metadata": {
        "id": "o1cK-hIoSyU_",
        "colab": {
          "base_uri": "https://localhost:8080/",
          "height": 278
        },
        "outputId": "3faddcfe-a82b-488e-940a-b17194d6337d"
      },
      "execution_count": null,
      "outputs": [
        {
          "output_type": "display_data",
          "data": {
            "text/plain": [
              "<Figure size 432x288 with 1 Axes>"
            ],
            "image/png": "[encoded data removed]"
          },
          "metadata": {
            "needs_background": "light"
          }
        }
      ]
    },
    {
      "cell_type": "code",
      "source": [
        "Cluster_3.boxplot(column = \"Seconds_Since_Last_Order\", vert=False)\n",
        "plt.show()"
      ],
      "metadata": {
        "id": "HWSvIcmLSzTD",
        "colab": {
          "base_uri": "https://localhost:8080/",
          "height": 278
        },
        "outputId": "0e4675e7-5c27-4058-fe3b-b2e7cd804342"
      },
      "execution_count": null,
      "outputs": [
        {
          "output_type": "display_data",
          "data": {
            "text/plain": [
              "<Figure size 432x288 with 1 Axes>"
            ],
            "image/png": "[encoded data removed]"
          },
          "metadata": {
            "needs_background": "light"
          }
        }
      ]
    },
    {
      "cell_type": "code",
      "source": [
        "Cluster_0.boxplot(column = \"Sum_of_Prices\", vert=False)\n",
        "plt.show()"
      ],
      "metadata": {
        "id": "Kk7jNvQJS2m4",
        "colab": {
          "base_uri": "https://localhost:8080/",
          "height": 265
        },
        "outputId": "9b50096a-ea68-42ef-c174-8f002ae8bfea"
      },
      "execution_count": null,
      "outputs": [
        {
          "output_type": "display_data",
          "data": {
            "text/plain": [
              "<Figure size 432x288 with 1 Axes>"
            ],
            "image/png": "[encoded data removed]"
          },
          "metadata": {
            "needs_background": "light"
          }
        }
      ]
    },
    {
      "cell_type": "code",
      "source": [
        "Cluster_1.boxplot(column = \"Sum_of_Prices\", vert=False)\n",
        "plt.show()"
      ],
      "metadata": {
        "id": "4PlRSBbtVcA1",
        "colab": {
          "base_uri": "https://localhost:8080/",
          "height": 265
        },
        "outputId": "0c6a0a98-ae3c-488f-9140-1f9b8db83c8e"
      },
      "execution_count": null,
      "outputs": [
        {
          "output_type": "display_data",
          "data": {
            "text/plain": [
              "<Figure size 432x288 with 1 Axes>"
            ],
            "image/png": "[encoded data removed]"
          },
          "metadata": {
            "needs_background": "light"
          }
        }
      ]
    },
    {
      "cell_type": "code",
      "source": [
        "Cluster_2.boxplot(column = \"Sum_of_Prices\", vert=False)\n",
        "plt.show()"
      ],
      "metadata": {
        "id": "3kR9aSdWVcsu",
        "colab": {
          "base_uri": "https://localhost:8080/",
          "height": 265
        },
        "outputId": "1ec64eb1-fe28-4d38-f02c-13216c56bbc9"
      },
      "execution_count": null,
      "outputs": [
        {
          "output_type": "display_data",
          "data": {
            "text/plain": [
              "<Figure size 432x288 with 1 Axes>"
            ],
            "image/png": "[encoded data removed]"
          },
          "metadata": {
            "needs_background": "light"
          }
        }
      ]
    },
    {
      "cell_type": "code",
      "source": [
        "Cluster_3.boxplot(column = \"Sum_of_Prices\", vert=False)\n",
        "plt.show()"
      ],
      "metadata": {
        "id": "bh9ZtsMxVdW0",
        "colab": {
          "base_uri": "https://localhost:8080/",
          "height": 265
        },
        "outputId": "d61ec564-d846-4fa2-fb32-6096a27d0bab"
      },
      "execution_count": null,
      "outputs": [
        {
          "output_type": "display_data",
          "data": {
            "text/plain": [
              "<Figure size 432x288 with 1 Axes>"
            ],
            "image/png": "[encoded data removed]"
          },
          "metadata": {
            "needs_background": "light"
          }
        }
      ]
    },
    {
      "cell_type": "code",
      "source": [
        "Cluster_0.boxplot(column = \"frequency\", vert=False)\n",
        "plt.show()"
      ],
      "metadata": {
        "colab": {
          "base_uri": "https://localhost:8080/",
          "height": 265
        },
        "id": "9jvcFTp8hjDj",
        "outputId": "347d5adc-bc3a-41ad-86e7-496e5e7ea4cc"
      },
      "execution_count": null,
      "outputs": [
        {
          "output_type": "display_data",
          "data": {
            "text/plain": [
              "<Figure size 432x288 with 1 Axes>"
            ],
            "image/png": "[encoded data removed]"
          },
          "metadata": {
            "needs_background": "light"
          }
        }
      ]
    },
    {
      "cell_type": "code",
      "source": [
        "Cluster_1.boxplot(column = \"frequency\", vert=False)\n",
        "plt.show()"
      ],
      "metadata": {
        "colab": {
          "base_uri": "https://localhost:8080/",
          "height": 265
        },
        "id": "WYbS-HYhhkf_",
        "outputId": "9dc325b3-7bb8-4b88-e05b-784439216b23"
      },
      "execution_count": null,
      "outputs": [
        {
          "output_type": "display_data",
          "data": {
            "text/plain": [
              "<Figure size 432x288 with 1 Axes>"
            ],
            "image/png": "[encoded data removed]"
          },
          "metadata": {
            "needs_background": "light"
          }
        }
      ]
    },
    {
      "cell_type": "code",
      "source": [
        "Cluster_2.boxplot(column = \"frequency\", vert=False)\n",
        "plt.show()"
      ],
      "metadata": {
        "colab": {
          "base_uri": "https://localhost:8080/",
          "height": 265
        },
        "id": "b2Q6txPLhjzc",
        "outputId": "274db3d7-257f-486e-ddd5-bdfaabc772ef"
      },
      "execution_count": null,
      "outputs": [
        {
          "output_type": "display_data",
          "data": {
            "text/plain": [
              "<Figure size 432x288 with 1 Axes>"
            ],
            "image/png": "[encoded data removed]"
          },
          "metadata": {
            "needs_background": "light"
          }
        }
      ]
    },
    {
      "cell_type": "code",
      "source": [
        "Cluster_3.boxplot(column = \"frequency\", vert=False)\n",
        "plt.show()"
      ],
      "metadata": {
        "colab": {
          "base_uri": "https://localhost:8080/",
          "height": 265
        },
        "id": "OGM1CoEahZln",
        "outputId": "1ba2e984-6091-4815-855c-d244364b16e1"
      },
      "execution_count": null,
      "outputs": [
        {
          "output_type": "display_data",
          "data": {
            "text/plain": [
              "<Figure size 432x288 with 1 Axes>"
            ],
            "image/png": "[encoded data removed]"
          },
          "metadata": {
            "needs_background": "light"
          }
        }
      ]
    },
    {
      "cell_type": "code",
      "source": [
        "df_kmeans.to_csv('/content/drive/MyDrive/df_kmeans.csv')"
      ],
      "metadata": {
        "id": "eLAgoR30U9Ke"
      },
      "execution_count": null,
      "outputs": []
    },
    {
      "cell_type": "markdown",
      "source": [
        "# KMeans with Review Score"
      ],
      "metadata": {
        "id": "tp853r5v5gHw"
      }
    },
    {
      "cell_type": "code",
      "source": [
        "# Creating a new simple dataframe with review score, Seconds_Since_Last_Order', 'Sum_of_Prices' and 'frequency'\n",
        "\n",
        "Testing2 = Order_Dataset[['review_score', 'Seconds_Since_Last_Order', 'Sum_of_Prices', 'frequency']]"
      ],
      "metadata": {
        "id": "TDvHrNO2sU9B"
      },
      "execution_count": null,
      "outputs": []
    },
    {
      "cell_type": "code",
      "source": [
        "Testing2_scaled = Data_Standardising(Testing2)"
      ],
      "metadata": {
        "id": "sfaN4UNLsdZk"
      },
      "execution_count": null,
      "outputs": []
    },
    {
      "cell_type": "code",
      "source": [
        "# Shows graph with total number of PCA components\n",
        "\n",
        "Plot_End_Range = 5\n",
        "\n",
        "PCA_Variance_Graph(Testing2_scaled, Plot_End_Range)"
      ],
      "metadata": {
        "id": "KDXyy0g6slpr",
        "colab": {
          "base_uri": "https://localhost:8080/"
        },
        "outputId": "cb96a1e8-8f2d-476e-8035-cd5a7bf7de3d"
      },
      "execution_count": null,
      "outputs": [
        {
          "output_type": "display_data",
          "data": {
            "text/plain": [
              "<Figure size 864x432 with 1 Axes>"
            ],
            "image/png": "[encoded data removed]"
          },
          "metadata": {
            "needs_background": "light"
          }
        }
      ]
    },
    {
      "cell_type": "code",
      "source": [
        "# Runs PCA on the dataframe, in this case three components will give 75% of the data and four components will give 100% of the data\n",
        "\n",
        "n_components = 4\n",
        "\n",
        "scores_pca2 = PCA_Function(Testing2_scaled, n_components)"
      ],
      "metadata": {
        "id": "WnuEUh44sxYY"
      },
      "execution_count": null,
      "outputs": []
    },
    {
      "cell_type": "code",
      "source": [
        "Elbow_Method(scores_pca2)"
      ],
      "metadata": {
        "id": "V1Ij--NSsnHE",
        "colab": {
          "base_uri": "https://localhost:8080/"
        },
        "outputId": "e84769c3-1537-4c03-ec9e-19b2c582ee6e"
      },
      "execution_count": null,
      "outputs": [
        {
          "output_type": "stream",
          "name": "stdout",
          "text": [
            "The elbow is at cluster\n",
            "5\n"
          ]
        },
        {
          "output_type": "display_data",
          "data": {
            "text/plain": [
              "<Figure size 864x432 with 1 Axes>"
            ],
            "image/png": "[encoded data removed]"
          },
          "metadata": {
            "needs_background": "light"
          }
        }
      ]
    },
    {
      "cell_type": "code",
      "source": [
        "# The Silhouette Method suggests five or six clusters\n",
        "\n",
        "Silhouette_Method(scores_pca2)"
      ],
      "metadata": {
        "id": "g0uug6ccCZp-",
        "colab": {
          "base_uri": "https://localhost:8080/"
        },
        "outputId": "fe45b833-c067-4b54-b457-25d3038c309b"
      },
      "execution_count": null,
      "outputs": [
        {
          "output_type": "stream",
          "name": "stdout",
          "text": [
            "Silhouette Score for 3 Clusters: 0.405\n",
            "Silhouette Score for 4 Clusters: 0.394\n",
            "Silhouette Score for 5 Clusters: 0.417\n",
            "Silhouette Score for 6 Clusters: 0.425\n",
            "Silhouette Score for 7 Clusters: 0.352\n",
            "Silhouette Score for 8 Clusters: 0.353\n"
          ]
        }
      ]
    },
    {
      "cell_type": "code",
      "source": [
        "# Runs KMeans clustering with five clusters\n",
        "\n",
        "n_clusters = 5\n",
        "\n",
        "kmeans_pca2 = KMeans_Clustering(n_clusters, scores_pca2)"
      ],
      "metadata": {
        "id": "iYitbqSMuh94"
      },
      "execution_count": null,
      "outputs": []
    },
    {
      "cell_type": "code",
      "source": [
        "# Adds four new component columns and a new cluster column to a new df_kmeans2 dataframe\n",
        "\n",
        "df_kmeans2 = pd.concat([Testing2.reset_index(drop = True), pd.DataFrame(scores_pca2)], axis = 1)\n",
        "df_kmeans2.columns.values[-4:] = ['Component 1', 'Component 2', 'Component 3', 'Component 4']\n",
        "df_kmeans2['Cluster'] = kmeans_pca2.labels_"
      ],
      "metadata": {
        "id": "druoZb_yu39R"
      },
      "execution_count": null,
      "outputs": []
    },
    {
      "cell_type": "code",
      "source": [
        "x_axis = df_kmeans2['Component 2']\n",
        "y_axis = df_kmeans2['Component 1']\n",
        "  \n",
        "plt.figure(figsize=(12,6))\n",
        "sns.scatterplot(x_axis, y_axis, hue = df_kmeans2['Cluster'], palette = ['g', 'r', 'b', 'c', 'm'])\n",
        "plt.title('Clusters by PCA Components')\n",
        "plt.show()"
      ],
      "metadata": {
        "id": "QpDK6G5DvHE6",
        "colab": {
          "base_uri": "https://localhost:8080/"
        },
        "outputId": "b39a84f7-4bc2-45a6-a4e8-a098a44f5005"
      },
      "execution_count": null,
      "outputs": [
        {
          "output_type": "stream",
          "name": "stderr",
          "text": [
            "/usr/local/lib/python3.7/dist-packages/seaborn/_decorators.py:43: FutureWarning: Pass the following variables as keyword args: x, y. From version 0.12, the only valid positional argument will be `data`, and passing other arguments without an explicit keyword will result in an error or misinterpretation.\n",
            "  FutureWarning\n"
          ]
        },
        {
          "output_type": "display_data",
          "data": {
            "text/plain": [
              "<Figure size 864x432 with 1 Axes>"
            ],
            "image/png": "[encoded data removed]"
          },
          "metadata": {
            "needs_background": "light"
          }
        }
      ]
    },
    {
      "cell_type": "code",
      "source": [
        "df = df_kmeans2"
      ],
      "metadata": {
        "id": "ZS5qB3ukvw4r"
      },
      "execution_count": null,
      "outputs": []
    },
    {
      "cell_type": "code",
      "source": [
        "# Dividing the data into separate clusters\n",
        "\n",
        "Cluster_0 = df.loc[df[\"Cluster\"] == 0]\n",
        "Cluster_1 = df.loc[df[\"Cluster\"] == 1]\n",
        "Cluster_2 = df.loc[df[\"Cluster\"] == 2]\n",
        "Cluster_3 = df.loc[df[\"Cluster\"] == 3]\n",
        "Cluster_4 = df.loc[df[\"Cluster\"] == 4]"
      ],
      "metadata": {
        "id": "od3KPIjpvv8T"
      },
      "execution_count": null,
      "outputs": []
    },
    {
      "cell_type": "code",
      "source": [
        "#Customers giving good reviews, but never returning to the website\n",
        "Cluster_0.describe()"
      ],
      "metadata": {
        "id": "v5xAjmXVv7V1",
        "colab": {
          "base_uri": "https://localhost:8080/"
        },
        "outputId": "04b2b237-e528-4c1e-adea-ce5633d92528"
      },
      "execution_count": null,
      "outputs": [
        {
          "output_type": "execute_result",
          "data": {
            "text/plain": [
              "       review_score  Seconds_Since_Last_Order  Sum_of_Prices  frequency  \\\n",
              "count  31954.000000              3.195400e+04   31954.000000    31954.0   \n",
              "mean       4.624711              3.955315e+07     105.536796        1.0   \n",
              "std        0.604377              8.229981e+06      98.322415        0.0   \n",
              "min        2.000000              2.768330e+07       2.290000        1.0   \n",
              "25%        4.000000              3.226677e+07      40.000000        1.0   \n",
              "50%        5.000000              3.871298e+07      75.000000        1.0   \n",
              "75%        5.000000              4.576310e+07     131.900000        1.0   \n",
              "max        5.000000              6.560299e+07     689.990000        1.0   \n",
              "\n",
              "        Component 1   Component 2   Component 3   Component 4  Cluster  \n",
              "count  31954.000000  31954.000000  31954.000000  31954.000000  31954.0  \n",
              "mean      -0.362909      0.356811      0.979639      0.091580      0.0  \n",
              "std        0.358099      0.564089      0.514432      0.362722      0.0  \n",
              "min       -1.108038     -0.544183     -0.104659     -1.814264      0.0  \n",
              "25%       -0.581499     -0.076806      0.616255     -0.036843      0.0  \n",
              "50%       -0.444426      0.276867      0.938201      0.170157      0.0  \n",
              "75%       -0.239736      0.704862      1.339415      0.313278      0.0  \n",
              "max        1.524336      3.274063      2.823448      0.990457      0.0  "
            ],
            "text/html": [
              "\n",
              "  <div id=\"df-beeb8b8a-a00d-4458-998e-a8f1dcbe1079\">\n",
              "    <div class=\"colab-df-container\">\n",
              "      <div>\n",
              "<style scoped>\n",
              "    .dataframe tbody tr th:only-of-type {\n",
              "        vertical-align: middle;\n",
              "    }\n",
              "\n",
              "    .dataframe tbody tr th {\n",
              "        vertical-align: top;\n",
              "    }\n",
              "\n",
              "    .dataframe thead th {\n",
              "        text-align: right;\n",
              "    }\n",
              "</style>\n",
              "<table border=\"1\" class=\"dataframe\">\n",
              "  <thead>\n",
              "    <tr style=\"text-align: right;\">\n",
              "      <th></th>\n",
              "      <th>review_score</th>\n",
              "      <th>Seconds_Since_Last_Order</th>\n",
              "      <th>Sum_of_Prices</th>\n",
              "      <th>frequency</th>\n",
              "      <th>Component 1</th>\n",
              "      <th>Component 2</th>\n",
              "      <th>Component 3</th>\n",
              "      <th>Component 4</th>\n",
              "      <th>Cluster</th>\n",
              "    </tr>\n",
              "  </thead>\n",
              "  <tbody>\n",
              "    <tr>\n",
              "      <th>count</th>\n",
              "      <td>31954.000000</td>\n",
              "      <td>3.195400e+04</td>\n",
              "      <td>31954.000000</td>\n",
              "      <td>31954.0</td>\n",
              "      <td>31954.000000</td>\n",
              "      <td>31954.000000</td>\n",
              "      <td>31954.000000</td>\n",
              "      <td>31954.000000</td>\n",
              "      <td>31954.0</td>\n",
              "    </tr>\n",
              "    <tr>\n",
              "      <th>mean</th>\n",
              "      <td>4.624711</td>\n",
              "      <td>3.955315e+07</td>\n",
              "      <td>105.536796</td>\n",
              "      <td>1.0</td>\n",
              "      <td>-0.362909</td>\n",
              "      <td>0.356811</td>\n",
              "      <td>0.979639</td>\n",
              "      <td>0.091580</td>\n",
              "      <td>0.0</td>\n",
              "    </tr>\n",
              "    <tr>\n",
              "      <th>std</th>\n",
              "      <td>0.604377</td>\n",
              "      <td>8.229981e+06</td>\n",
              "      <td>98.322415</td>\n",
              "      <td>0.0</td>\n",
              "      <td>0.358099</td>\n",
              "      <td>0.564089</td>\n",
              "      <td>0.514432</td>\n",
              "      <td>0.362722</td>\n",
              "      <td>0.0</td>\n",
              "    </tr>\n",
              "    <tr>\n",
              "      <th>min</th>\n",
              "      <td>2.000000</td>\n",
              "      <td>2.768330e+07</td>\n",
              "      <td>2.290000</td>\n",
              "      <td>1.0</td>\n",
              "      <td>-1.108038</td>\n",
              "      <td>-0.544183</td>\n",
              "      <td>-0.104659</td>\n",
              "      <td>-1.814264</td>\n",
              "      <td>0.0</td>\n",
              "    </tr>\n",
              "    <tr>\n",
              "      <th>25%</th>\n",
              "      <td>4.000000</td>\n",
              "      <td>3.226677e+07</td>\n",
              "      <td>40.000000</td>\n",
              "      <td>1.0</td>\n",
              "      <td>-0.581499</td>\n",
              "      <td>-0.076806</td>\n",
              "      <td>0.616255</td>\n",
              "      <td>-0.036843</td>\n",
              "      <td>0.0</td>\n",
              "    </tr>\n",
              "    <tr>\n",
              "      <th>50%</th>\n",
              "      <td>5.000000</td>\n",
              "      <td>3.871298e+07</td>\n",
              "      <td>75.000000</td>\n",
              "      <td>1.0</td>\n",
              "      <td>-0.444426</td>\n",
              "      <td>0.276867</td>\n",
              "      <td>0.938201</td>\n",
              "      <td>0.170157</td>\n",
              "      <td>0.0</td>\n",
              "    </tr>\n",
              "    <tr>\n",
              "      <th>75%</th>\n",
              "      <td>5.000000</td>\n",
              "      <td>4.576310e+07</td>\n",
              "      <td>131.900000</td>\n",
              "      <td>1.0</td>\n",
              "      <td>-0.239736</td>\n",
              "      <td>0.704862</td>\n",
              "      <td>1.339415</td>\n",
              "      <td>0.313278</td>\n",
              "      <td>0.0</td>\n",
              "    </tr>\n",
              "    <tr>\n",
              "      <th>max</th>\n",
              "      <td>5.000000</td>\n",
              "      <td>6.560299e+07</td>\n",
              "      <td>689.990000</td>\n",
              "      <td>1.0</td>\n",
              "      <td>1.524336</td>\n",
              "      <td>3.274063</td>\n",
              "      <td>2.823448</td>\n",
              "      <td>0.990457</td>\n",
              "      <td>0.0</td>\n",
              "    </tr>\n",
              "  </tbody>\n",
              "</table>\n",
              "</div>\n",
              "      <button class=\"colab-df-convert\" onclick=\"convertToInteractive('df-beeb8b8a-a00d-4458-998e-a8f1dcbe1079')\"\n",
              "              title=\"Convert this dataframe to an interactive table.\"\n",
              "              style=\"display:none;\">\n",
              "        \n",
              "  <svg xmlns=\"http://www.w3.org/2000/svg\" height=\"24px\"viewBox=\"0 0 24 24\"\n",
              "       width=\"24px\">\n",
              "    <path d=\"M0 0h24v24H0V0z\" fill=\"none\"/>\n",
              "    <path d=\"M18.56 5.44l.94 2.06.94-2.06 2.06-.94-2.06-.94-.94-2.06-.94 2.06-2.06.94zm-11 1L8.5 8.5l.94-2.06 2.06-.94-2.06-.94L8.5 2.5l-.94 2.06-2.06.94zm10 10l.94 2.06.94-2.06 2.06-.94-2.06-.94-.94-2.06-.94 2.06-2.06.94z\"/><path d=\"M17.41 7.96l-1.37-1.37c-.4-.4-.92-.59-1.43-.59-.52 0-1.04.2-1.43.59L10.3 9.45l-7.72 7.72c-.78.78-.78 2.05 0 2.83L4 21.41c.39.39.9.59 1.41.59.51 0 1.02-.2 1.41-.59l7.78-7.78 2.81-2.81c.8-.78.8-2.07 0-2.86zM5.41 20L4 18.59l7.72-7.72 1.47 1.35L5.41 20z\"/>\n",
              "  </svg>\n",
              "      </button>\n",
              "      \n",
              "  <style>\n",
              "    .colab-df-container {\n",
              "      display:flex;\n",
              "      flex-wrap:wrap;\n",
              "      gap: 12px;\n",
              "    }\n",
              "\n",
              "    .colab-df-convert {\n",
              "      background-color: #E8F0FE;\n",
              "      border: none;\n",
              "      border-radius: 50%;\n",
              "      cursor: pointer;\n",
              "      display: none;\n",
              "      fill: #1967D2;\n",
              "      height: 32px;\n",
              "      padding: 0 0 0 0;\n",
              "      width: 32px;\n",
              "    }\n",
              "\n",
              "    .colab-df-convert:hover {\n",
              "      background-color: #E2EBFA;\n",
              "      box-shadow: 0px 1px 2px rgba(60, 64, 67, 0.3), 0px 1px 3px 1px rgba(60, 64, 67, 0.15);\n",
              "      fill: #174EA6;\n",
              "    }\n",
              "\n",
              "    [theme=dark] .colab-df-convert {\n",
              "      background-color: #3B4455;\n",
              "      fill: #D2E3FC;\n",
              "    }\n",
              "\n",
              "    [theme=dark] .colab-df-convert:hover {\n",
              "      background-color: #434B5C;\n",
              "      box-shadow: 0px 1px 3px 1px rgba(0, 0, 0, 0.15);\n",
              "      filter: drop-shadow(0px 1px 2px rgba(0, 0, 0, 0.3));\n",
              "      fill: #FFFFFF;\n",
              "    }\n",
              "  </style>\n",
              "\n",
              "      <script>\n",
              "        const buttonEl =\n",
              "          document.querySelector('#df-beeb8b8a-a00d-4458-998e-a8f1dcbe1079 button.colab-df-convert');\n",
              "        buttonEl.style.display =\n",
              "          google.colab.kernel.accessAllowed ? 'block' : 'none';\n",
              "\n",
              "        async function convertToInteractive(key) {\n",
              "          const element = document.querySelector('#df-beeb8b8a-a00d-4458-998e-a8f1dcbe1079');\n",
              "          const dataTable =\n",
              "            await google.colab.kernel.invokeFunction('convertToInteractive',\n",
              "                                                     [key], {});\n",
              "          if (!dataTable) return;\n",
              "\n",
              "          const docLinkHtml = 'Like what you see? Visit the ' +\n",
              "            '<a target=\"_blank\" href=https://colab.research.google.com/notebooks/data_table.ipynb>data table notebook</a>'\n",
              "            + ' to learn more about interactive tables.';\n",
              "          element.innerHTML = '';\n",
              "          dataTable['output_type'] = 'display_data';\n",
              "          await google.colab.output.renderOutput(dataTable, element);\n",
              "          const docLink = document.createElement('div');\n",
              "          docLink.innerHTML = docLinkHtml;\n",
              "          element.appendChild(docLink);\n",
              "        }\n",
              "      </script>\n",
              "    </div>\n",
              "  </div>\n",
              "  "
            ]
          },
          "metadata": {},
          "execution_count": 51
        }
      ]
    },
    {
      "cell_type": "code",
      "source": [
        "#Customers giving poor reviews, hence never returning to the website\n",
        "Cluster_1.describe()"
      ],
      "metadata": {
        "id": "hyWkjHTkv8Fg",
        "colab": {
          "base_uri": "https://localhost:8080/"
        },
        "outputId": "944a4509-8e80-4862-dc6d-6c15eb238dd2"
      },
      "execution_count": null,
      "outputs": [
        {
          "output_type": "execute_result",
          "data": {
            "text/plain": [
              "       review_score  Seconds_Since_Last_Order  Sum_of_Prices  frequency  \\\n",
              "count  17174.000000              1.717400e+04   17174.000000    17174.0   \n",
              "mean       1.661523              2.616543e+07     110.515507        1.0   \n",
              "std        0.847734              1.121621e+07     107.317220        0.0   \n",
              "min        1.000000              5.571241e+06       1.200000        1.0   \n",
              "25%        1.000000              1.904511e+07      41.900000        1.0   \n",
              "50%        1.000000              2.448023e+07      79.000000        1.0   \n",
              "75%        2.000000              3.120371e+07     139.890000        1.0   \n",
              "max        3.000000              6.809308e+07     719.880000        1.0   \n",
              "\n",
              "        Component 1   Component 2   Component 3   Component 4  Cluster  \n",
              "count  17174.000000  17174.000000  17174.000000  17174.000000  17174.0  \n",
              "mean      -0.255841      1.271627     -1.282947      0.211422      1.0  \n",
              "std        0.400304      0.746524      0.736255      0.402908      0.0  \n",
              "min       -1.152185     -0.055229     -2.774642     -1.988700      1.0  \n",
              "25%       -0.491475      0.683619     -1.892032      0.068478      1.0  \n",
              "50%       -0.334329      1.223128     -1.314302      0.283585      1.0  \n",
              "75%       -0.118151      1.739201     -0.688242      0.449952      1.0  \n",
              "max        2.009459      4.278384      0.725167      1.104919      1.0  "
            ],
            "text/html": [
              "\n",
              "  <div id=\"df-db378114-64c7-4acc-935a-96ece7a39fc5\">\n",
              "    <div class=\"colab-df-container\">\n",
              "      <div>\n",
              "<style scoped>\n",
              "    .dataframe tbody tr th:only-of-type {\n",
              "        vertical-align: middle;\n",
              "    }\n",
              "\n",
              "    .dataframe tbody tr th {\n",
              "        vertical-align: top;\n",
              "    }\n",
              "\n",
              "    .dataframe thead th {\n",
              "        text-align: right;\n",
              "    }\n",
              "</style>\n",
              "<table border=\"1\" class=\"dataframe\">\n",
              "  <thead>\n",
              "    <tr style=\"text-align: right;\">\n",
              "      <th></th>\n",
              "      <th>review_score</th>\n",
              "      <th>Seconds_Since_Last_Order</th>\n",
              "      <th>Sum_of_Prices</th>\n",
              "      <th>frequency</th>\n",
              "      <th>Component 1</th>\n",
              "      <th>Component 2</th>\n",
              "      <th>Component 3</th>\n",
              "      <th>Component 4</th>\n",
              "      <th>Cluster</th>\n",
              "    </tr>\n",
              "  </thead>\n",
              "  <tbody>\n",
              "    <tr>\n",
              "      <th>count</th>\n",
              "      <td>17174.000000</td>\n",
              "      <td>1.717400e+04</td>\n",
              "      <td>17174.000000</td>\n",
              "      <td>17174.0</td>\n",
              "      <td>17174.000000</td>\n",
              "      <td>17174.000000</td>\n",
              "      <td>17174.000000</td>\n",
              "      <td>17174.000000</td>\n",
              "      <td>17174.0</td>\n",
              "    </tr>\n",
              "    <tr>\n",
              "      <th>mean</th>\n",
              "      <td>1.661523</td>\n",
              "      <td>2.616543e+07</td>\n",
              "      <td>110.515507</td>\n",
              "      <td>1.0</td>\n",
              "      <td>-0.255841</td>\n",
              "      <td>1.271627</td>\n",
              "      <td>-1.282947</td>\n",
              "      <td>0.211422</td>\n",
              "      <td>1.0</td>\n",
              "    </tr>\n",
              "    <tr>\n",
              "      <th>std</th>\n",
              "      <td>0.847734</td>\n",
              "      <td>1.121621e+07</td>\n",
              "      <td>107.317220</td>\n",
              "      <td>0.0</td>\n",
              "      <td>0.400304</td>\n",
              "      <td>0.746524</td>\n",
              "      <td>0.736255</td>\n",
              "      <td>0.402908</td>\n",
              "      <td>0.0</td>\n",
              "    </tr>\n",
              "    <tr>\n",
              "      <th>min</th>\n",
              "      <td>1.000000</td>\n",
              "      <td>5.571241e+06</td>\n",
              "      <td>1.200000</td>\n",
              "      <td>1.0</td>\n",
              "      <td>-1.152185</td>\n",
              "      <td>-0.055229</td>\n",
              "      <td>-2.774642</td>\n",
              "      <td>-1.988700</td>\n",
              "      <td>1.0</td>\n",
              "    </tr>\n",
              "    <tr>\n",
              "      <th>25%</th>\n",
              "      <td>1.000000</td>\n",
              "      <td>1.904511e+07</td>\n",
              "      <td>41.900000</td>\n",
              "      <td>1.0</td>\n",
              "      <td>-0.491475</td>\n",
              "      <td>0.683619</td>\n",
              "      <td>-1.892032</td>\n",
              "      <td>0.068478</td>\n",
              "      <td>1.0</td>\n",
              "    </tr>\n",
              "    <tr>\n",
              "      <th>50%</th>\n",
              "      <td>1.000000</td>\n",
              "      <td>2.448023e+07</td>\n",
              "      <td>79.000000</td>\n",
              "      <td>1.0</td>\n",
              "      <td>-0.334329</td>\n",
              "      <td>1.223128</td>\n",
              "      <td>-1.314302</td>\n",
              "      <td>0.283585</td>\n",
              "      <td>1.0</td>\n",
              "    </tr>\n",
              "    <tr>\n",
              "      <th>75%</th>\n",
              "      <td>2.000000</td>\n",
              "      <td>3.120371e+07</td>\n",
              "      <td>139.890000</td>\n",
              "      <td>1.0</td>\n",
              "      <td>-0.118151</td>\n",
              "      <td>1.739201</td>\n",
              "      <td>-0.688242</td>\n",
              "      <td>0.449952</td>\n",
              "      <td>1.0</td>\n",
              "    </tr>\n",
              "    <tr>\n",
              "      <th>max</th>\n",
              "      <td>3.000000</td>\n",
              "      <td>6.809308e+07</td>\n",
              "      <td>719.880000</td>\n",
              "      <td>1.0</td>\n",
              "      <td>2.009459</td>\n",
              "      <td>4.278384</td>\n",
              "      <td>0.725167</td>\n",
              "      <td>1.104919</td>\n",
              "      <td>1.0</td>\n",
              "    </tr>\n",
              "  </tbody>\n",
              "</table>\n",
              "</div>\n",
              "      <button class=\"colab-df-convert\" onclick=\"convertToInteractive('df-db378114-64c7-4acc-935a-96ece7a39fc5')\"\n",
              "              title=\"Convert this dataframe to an interactive table.\"\n",
              "              style=\"display:none;\">\n",
              "        \n",
              "  <svg xmlns=\"http://www.w3.org/2000/svg\" height=\"24px\"viewBox=\"0 0 24 24\"\n",
              "       width=\"24px\">\n",
              "    <path d=\"M0 0h24v24H0V0z\" fill=\"none\"/>\n",
              "    <path d=\"M18.56 5.44l.94 2.06.94-2.06 2.06-.94-2.06-.94-.94-2.06-.94 2.06-2.06.94zm-11 1L8.5 8.5l.94-2.06 2.06-.94-2.06-.94L8.5 2.5l-.94 2.06-2.06.94zm10 10l.94 2.06.94-2.06 2.06-.94-2.06-.94-.94-2.06-.94 2.06-2.06.94z\"/><path d=\"M17.41 7.96l-1.37-1.37c-.4-.4-.92-.59-1.43-.59-.52 0-1.04.2-1.43.59L10.3 9.45l-7.72 7.72c-.78.78-.78 2.05 0 2.83L4 21.41c.39.39.9.59 1.41.59.51 0 1.02-.2 1.41-.59l7.78-7.78 2.81-2.81c.8-.78.8-2.07 0-2.86zM5.41 20L4 18.59l7.72-7.72 1.47 1.35L5.41 20z\"/>\n",
              "  </svg>\n",
              "      </button>\n",
              "      \n",
              "  <style>\n",
              "    .colab-df-container {\n",
              "      display:flex;\n",
              "      flex-wrap:wrap;\n",
              "      gap: 12px;\n",
              "    }\n",
              "\n",
              "    .colab-df-convert {\n",
              "      background-color: #E8F0FE;\n",
              "      border: none;\n",
              "      border-radius: 50%;\n",
              "      cursor: pointer;\n",
              "      display: none;\n",
              "      fill: #1967D2;\n",
              "      height: 32px;\n",
              "      padding: 0 0 0 0;\n",
              "      width: 32px;\n",
              "    }\n",
              "\n",
              "    .colab-df-convert:hover {\n",
              "      background-color: #E2EBFA;\n",
              "      box-shadow: 0px 1px 2px rgba(60, 64, 67, 0.3), 0px 1px 3px 1px rgba(60, 64, 67, 0.15);\n",
              "      fill: #174EA6;\n",
              "    }\n",
              "\n",
              "    [theme=dark] .colab-df-convert {\n",
              "      background-color: #3B4455;\n",
              "      fill: #D2E3FC;\n",
              "    }\n",
              "\n",
              "    [theme=dark] .colab-df-convert:hover {\n",
              "      background-color: #434B5C;\n",
              "      box-shadow: 0px 1px 3px 1px rgba(0, 0, 0, 0.15);\n",
              "      filter: drop-shadow(0px 1px 2px rgba(0, 0, 0, 0.3));\n",
              "      fill: #FFFFFF;\n",
              "    }\n",
              "  </style>\n",
              "\n",
              "      <script>\n",
              "        const buttonEl =\n",
              "          document.querySelector('#df-db378114-64c7-4acc-935a-96ece7a39fc5 button.colab-df-convert');\n",
              "        buttonEl.style.display =\n",
              "          google.colab.kernel.accessAllowed ? 'block' : 'none';\n",
              "\n",
              "        async function convertToInteractive(key) {\n",
              "          const element = document.querySelector('#df-db378114-64c7-4acc-935a-96ece7a39fc5');\n",
              "          const dataTable =\n",
              "            await google.colab.kernel.invokeFunction('convertToInteractive',\n",
              "                                                     [key], {});\n",
              "          if (!dataTable) return;\n",
              "\n",
              "          const docLinkHtml = 'Like what you see? Visit the ' +\n",
              "            '<a target=\"_blank\" href=https://colab.research.google.com/notebooks/data_table.ipynb>data table notebook</a>'\n",
              "            + ' to learn more about interactive tables.';\n",
              "          element.innerHTML = '';\n",
              "          dataTable['output_type'] = 'display_data';\n",
              "          await google.colab.output.renderOutput(dataTable, element);\n",
              "          const docLink = document.createElement('div');\n",
              "          docLink.innerHTML = docLinkHtml;\n",
              "          element.appendChild(docLink);\n",
              "        }\n",
              "      </script>\n",
              "    </div>\n",
              "  </div>\n",
              "  "
            ]
          },
          "metadata": {},
          "execution_count": 52
        }
      ]
    },
    {
      "cell_type": "code",
      "source": [
        "#High spending customers\n",
        "Cluster_2.describe()"
      ],
      "metadata": {
        "id": "S5k_LuTBv87k",
        "colab": {
          "base_uri": "https://localhost:8080/"
        },
        "outputId": "16f517fe-8667-4b9d-8843-68645b282f78"
      },
      "execution_count": null,
      "outputs": [
        {
          "output_type": "execute_result",
          "data": {
            "text/plain": [
              "       review_score  Seconds_Since_Last_Order  Sum_of_Prices    frequency  \\\n",
              "count   1974.000000              1.974000e+03    1974.000000  1974.000000   \n",
              "mean       4.119048              2.623279e+07    1129.434539     1.011651   \n",
              "std        1.353231              1.340797e+07     600.439443     0.107338   \n",
              "min        1.000000              5.627443e+06     599.000000     1.000000   \n",
              "25%        4.000000              1.507441e+07     759.000000     1.000000   \n",
              "50%        5.000000              2.455988e+07     899.990000     1.000000   \n",
              "75%        5.000000              3.630301e+07    1299.650000     1.000000   \n",
              "max        5.000000              6.550767e+07    7388.000000     2.000000   \n",
              "\n",
              "       Component 1  Component 2  Component 3  Component 4  Cluster  \n",
              "count  1974.000000  1974.000000  1974.000000  1974.000000   1974.0  \n",
              "mean      3.369814     1.334845     0.477869    -3.517083      2.0  \n",
              "std       2.159751     1.310442     1.048406     2.036518      0.0  \n",
              "min       1.360601    -0.710699    -2.323313   -22.985322      2.0  \n",
              "25%       2.076058     0.370850    -0.128745    -4.057938      2.0  \n",
              "50%       2.642593     1.155069     0.429968    -2.835455      2.0  \n",
              "75%       3.872274     2.001634     1.189376    -2.287235      2.0  \n",
              "max      28.064300    10.249722     5.402195     0.182822      2.0  "
            ],
            "text/html": [
              "\n",
              "  <div id=\"df-0de2fcf1-ec2d-4102-8f24-0a94160801f3\">\n",
              "    <div class=\"colab-df-container\">\n",
              "      <div>\n",
              "<style scoped>\n",
              "    .dataframe tbody tr th:only-of-type {\n",
              "        vertical-align: middle;\n",
              "    }\n",
              "\n",
              "    .dataframe tbody tr th {\n",
              "        vertical-align: top;\n",
              "    }\n",
              "\n",
              "    .dataframe thead th {\n",
              "        text-align: right;\n",
              "    }\n",
              "</style>\n",
              "<table border=\"1\" class=\"dataframe\">\n",
              "  <thead>\n",
              "    <tr style=\"text-align: right;\">\n",
              "      <th></th>\n",
              "      <th>review_score</th>\n",
              "      <th>Seconds_Since_Last_Order</th>\n",
              "      <th>Sum_of_Prices</th>\n",
              "      <th>frequency</th>\n",
              "      <th>Component 1</th>\n",
              "      <th>Component 2</th>\n",
              "      <th>Component 3</th>\n",
              "      <th>Component 4</th>\n",
              "      <th>Cluster</th>\n",
              "    </tr>\n",
              "  </thead>\n",
              "  <tbody>\n",
              "    <tr>\n",
              "      <th>count</th>\n",
              "      <td>1974.000000</td>\n",
              "      <td>1.974000e+03</td>\n",
              "      <td>1974.000000</td>\n",
              "      <td>1974.000000</td>\n",
              "      <td>1974.000000</td>\n",
              "      <td>1974.000000</td>\n",
              "      <td>1974.000000</td>\n",
              "      <td>1974.000000</td>\n",
              "      <td>1974.0</td>\n",
              "    </tr>\n",
              "    <tr>\n",
              "      <th>mean</th>\n",
              "      <td>4.119048</td>\n",
              "      <td>2.623279e+07</td>\n",
              "      <td>1129.434539</td>\n",
              "      <td>1.011651</td>\n",
              "      <td>3.369814</td>\n",
              "      <td>1.334845</td>\n",
              "      <td>0.477869</td>\n",
              "      <td>-3.517083</td>\n",
              "      <td>2.0</td>\n",
              "    </tr>\n",
              "    <tr>\n",
              "      <th>std</th>\n",
              "      <td>1.353231</td>\n",
              "      <td>1.340797e+07</td>\n",
              "      <td>600.439443</td>\n",
              "      <td>0.107338</td>\n",
              "      <td>2.159751</td>\n",
              "      <td>1.310442</td>\n",
              "      <td>1.048406</td>\n",
              "      <td>2.036518</td>\n",
              "      <td>0.0</td>\n",
              "    </tr>\n",
              "    <tr>\n",
              "      <th>min</th>\n",
              "      <td>1.000000</td>\n",
              "      <td>5.627443e+06</td>\n",
              "      <td>599.000000</td>\n",
              "      <td>1.000000</td>\n",
              "      <td>1.360601</td>\n",
              "      <td>-0.710699</td>\n",
              "      <td>-2.323313</td>\n",
              "      <td>-22.985322</td>\n",
              "      <td>2.0</td>\n",
              "    </tr>\n",
              "    <tr>\n",
              "      <th>25%</th>\n",
              "      <td>4.000000</td>\n",
              "      <td>1.507441e+07</td>\n",
              "      <td>759.000000</td>\n",
              "      <td>1.000000</td>\n",
              "      <td>2.076058</td>\n",
              "      <td>0.370850</td>\n",
              "      <td>-0.128745</td>\n",
              "      <td>-4.057938</td>\n",
              "      <td>2.0</td>\n",
              "    </tr>\n",
              "    <tr>\n",
              "      <th>50%</th>\n",
              "      <td>5.000000</td>\n",
              "      <td>2.455988e+07</td>\n",
              "      <td>899.990000</td>\n",
              "      <td>1.000000</td>\n",
              "      <td>2.642593</td>\n",
              "      <td>1.155069</td>\n",
              "      <td>0.429968</td>\n",
              "      <td>-2.835455</td>\n",
              "      <td>2.0</td>\n",
              "    </tr>\n",
              "    <tr>\n",
              "      <th>75%</th>\n",
              "      <td>5.000000</td>\n",
              "      <td>3.630301e+07</td>\n",
              "      <td>1299.650000</td>\n",
              "      <td>1.000000</td>\n",
              "      <td>3.872274</td>\n",
              "      <td>2.001634</td>\n",
              "      <td>1.189376</td>\n",
              "      <td>-2.287235</td>\n",
              "      <td>2.0</td>\n",
              "    </tr>\n",
              "    <tr>\n",
              "      <th>max</th>\n",
              "      <td>5.000000</td>\n",
              "      <td>6.550767e+07</td>\n",
              "      <td>7388.000000</td>\n",
              "      <td>2.000000</td>\n",
              "      <td>28.064300</td>\n",
              "      <td>10.249722</td>\n",
              "      <td>5.402195</td>\n",
              "      <td>0.182822</td>\n",
              "      <td>2.0</td>\n",
              "    </tr>\n",
              "  </tbody>\n",
              "</table>\n",
              "</div>\n",
              "      <button class=\"colab-df-convert\" onclick=\"convertToInteractive('df-0de2fcf1-ec2d-4102-8f24-0a94160801f3')\"\n",
              "              title=\"Convert this dataframe to an interactive table.\"\n",
              "              style=\"display:none;\">\n",
              "        \n",
              "  <svg xmlns=\"http://www.w3.org/2000/svg\" height=\"24px\"viewBox=\"0 0 24 24\"\n",
              "       width=\"24px\">\n",
              "    <path d=\"M0 0h24v24H0V0z\" fill=\"none\"/>\n",
              "    <path d=\"M18.56 5.44l.94 2.06.94-2.06 2.06-.94-2.06-.94-.94-2.06-.94 2.06-2.06.94zm-11 1L8.5 8.5l.94-2.06 2.06-.94-2.06-.94L8.5 2.5l-.94 2.06-2.06.94zm10 10l.94 2.06.94-2.06 2.06-.94-2.06-.94-.94-2.06-.94 2.06-2.06.94z\"/><path d=\"M17.41 7.96l-1.37-1.37c-.4-.4-.92-.59-1.43-.59-.52 0-1.04.2-1.43.59L10.3 9.45l-7.72 7.72c-.78.78-.78 2.05 0 2.83L4 21.41c.39.39.9.59 1.41.59.51 0 1.02-.2 1.41-.59l7.78-7.78 2.81-2.81c.8-.78.8-2.07 0-2.86zM5.41 20L4 18.59l7.72-7.72 1.47 1.35L5.41 20z\"/>\n",
              "  </svg>\n",
              "      </button>\n",
              "      \n",
              "  <style>\n",
              "    .colab-df-container {\n",
              "      display:flex;\n",
              "      flex-wrap:wrap;\n",
              "      gap: 12px;\n",
              "    }\n",
              "\n",
              "    .colab-df-convert {\n",
              "      background-color: #E8F0FE;\n",
              "      border: none;\n",
              "      border-radius: 50%;\n",
              "      cursor: pointer;\n",
              "      display: none;\n",
              "      fill: #1967D2;\n",
              "      height: 32px;\n",
              "      padding: 0 0 0 0;\n",
              "      width: 32px;\n",
              "    }\n",
              "\n",
              "    .colab-df-convert:hover {\n",
              "      background-color: #E2EBFA;\n",
              "      box-shadow: 0px 1px 2px rgba(60, 64, 67, 0.3), 0px 1px 3px 1px rgba(60, 64, 67, 0.15);\n",
              "      fill: #174EA6;\n",
              "    }\n",
              "\n",
              "    [theme=dark] .colab-df-convert {\n",
              "      background-color: #3B4455;\n",
              "      fill: #D2E3FC;\n",
              "    }\n",
              "\n",
              "    [theme=dark] .colab-df-convert:hover {\n",
              "      background-color: #434B5C;\n",
              "      box-shadow: 0px 1px 3px 1px rgba(0, 0, 0, 0.15);\n",
              "      filter: drop-shadow(0px 1px 2px rgba(0, 0, 0, 0.3));\n",
              "      fill: #FFFFFF;\n",
              "    }\n",
              "  </style>\n",
              "\n",
              "      <script>\n",
              "        const buttonEl =\n",
              "          document.querySelector('#df-0de2fcf1-ec2d-4102-8f24-0a94160801f3 button.colab-df-convert');\n",
              "        buttonEl.style.display =\n",
              "          google.colab.kernel.accessAllowed ? 'block' : 'none';\n",
              "\n",
              "        async function convertToInteractive(key) {\n",
              "          const element = document.querySelector('#df-0de2fcf1-ec2d-4102-8f24-0a94160801f3');\n",
              "          const dataTable =\n",
              "            await google.colab.kernel.invokeFunction('convertToInteractive',\n",
              "                                                     [key], {});\n",
              "          if (!dataTable) return;\n",
              "\n",
              "          const docLinkHtml = 'Like what you see? Visit the ' +\n",
              "            '<a target=\"_blank\" href=https://colab.research.google.com/notebooks/data_table.ipynb>data table notebook</a>'\n",
              "            + ' to learn more about interactive tables.';\n",
              "          element.innerHTML = '';\n",
              "          dataTable['output_type'] = 'display_data';\n",
              "          await google.colab.output.renderOutput(dataTable, element);\n",
              "          const docLink = document.createElement('div');\n",
              "          docLink.innerHTML = docLinkHtml;\n",
              "          element.appendChild(docLink);\n",
              "        }\n",
              "      </script>\n",
              "    </div>\n",
              "  </div>\n",
              "  "
            ]
          },
          "metadata": {},
          "execution_count": 53
        }
      ]
    },
    {
      "cell_type": "code",
      "source": [
        "#Returning customers\n",
        "Cluster_3.describe()"
      ],
      "metadata": {
        "id": "FWI_XKeLv9id",
        "colab": {
          "base_uri": "https://localhost:8080/"
        },
        "outputId": "35dad824-4a2f-4ed8-9123-268e3b81c014"
      },
      "execution_count": null,
      "outputs": [
        {
          "output_type": "execute_result",
          "data": {
            "text/plain": [
              "       review_score  Seconds_Since_Last_Order  Sum_of_Prices    frequency  \\\n",
              "count   2660.000000              2.660000e+03    2660.000000  2660.000000   \n",
              "mean       4.178947              2.425523e+07     214.162203     2.113910   \n",
              "std        1.292618              1.237929e+07     178.960581     0.516186   \n",
              "min        1.000000              5.151183e+06      11.980000     2.000000   \n",
              "25%        4.000000              1.443485e+07      99.980000     2.000000   \n",
              "50%        5.000000              2.241972e+07     163.900000     2.000000   \n",
              "75%        5.000000              3.267237e+07     270.077500     2.000000   \n",
              "max        5.000000              6.528789e+07    1690.920000    16.000000   \n",
              "\n",
              "       Component 1  Component 2  Component 3  Component 4  Cluster  \n",
              "count  2660.000000  2660.000000  2660.000000  2660.000000   2660.0  \n",
              "mean      4.114884    -0.233362     0.275790     3.421512      3.0  \n",
              "std       2.075878     0.966734     0.940072     1.734419      0.0  \n",
              "min       2.501555    -3.529534    -2.405295    -0.571442      3.0  \n",
              "25%       3.330680    -0.985019    -0.247197     2.866303      3.0  \n",
              "50%       3.589306    -0.397484     0.267307     3.235344      3.0  \n",
              "75%       4.038092     0.374378     0.929145     3.517507      3.0  \n",
              "max      54.850008     4.010041     3.747464    49.351982      3.0  "
            ],
            "text/html": [
              "\n",
              "  <div id=\"df-5afc9eb0-141c-48b2-92a2-c1ad898ae7ff\">\n",
              "    <div class=\"colab-df-container\">\n",
              "      <div>\n",
              "<style scoped>\n",
              "    .dataframe tbody tr th:only-of-type {\n",
              "        vertical-align: middle;\n",
              "    }\n",
              "\n",
              "    .dataframe tbody tr th {\n",
              "        vertical-align: top;\n",
              "    }\n",
              "\n",
              "    .dataframe thead th {\n",
              "        text-align: right;\n",
              "    }\n",
              "</style>\n",
              "<table border=\"1\" class=\"dataframe\">\n",
              "  <thead>\n",
              "    <tr style=\"text-align: right;\">\n",
              "      <th></th>\n",
              "      <th>review_score</th>\n",
              "      <th>Seconds_Since_Last_Order</th>\n",
              "      <th>Sum_of_Prices</th>\n",
              "      <th>frequency</th>\n",
              "      <th>Component 1</th>\n",
              "      <th>Component 2</th>\n",
              "      <th>Component 3</th>\n",
              "      <th>Component 4</th>\n",
              "      <th>Cluster</th>\n",
              "    </tr>\n",
              "  </thead>\n",
              "  <tbody>\n",
              "    <tr>\n",
              "      <th>count</th>\n",
              "      <td>2660.000000</td>\n",
              "      <td>2.660000e+03</td>\n",
              "      <td>2660.000000</td>\n",
              "      <td>2660.000000</td>\n",
              "      <td>2660.000000</td>\n",
              "      <td>2660.000000</td>\n",
              "      <td>2660.000000</td>\n",
              "      <td>2660.000000</td>\n",
              "      <td>2660.0</td>\n",
              "    </tr>\n",
              "    <tr>\n",
              "      <th>mean</th>\n",
              "      <td>4.178947</td>\n",
              "      <td>2.425523e+07</td>\n",
              "      <td>214.162203</td>\n",
              "      <td>2.113910</td>\n",
              "      <td>4.114884</td>\n",
              "      <td>-0.233362</td>\n",
              "      <td>0.275790</td>\n",
              "      <td>3.421512</td>\n",
              "      <td>3.0</td>\n",
              "    </tr>\n",
              "    <tr>\n",
              "      <th>std</th>\n",
              "      <td>1.292618</td>\n",
              "      <td>1.237929e+07</td>\n",
              "      <td>178.960581</td>\n",
              "      <td>0.516186</td>\n",
              "      <td>2.075878</td>\n",
              "      <td>0.966734</td>\n",
              "      <td>0.940072</td>\n",
              "      <td>1.734419</td>\n",
              "      <td>0.0</td>\n",
              "    </tr>\n",
              "    <tr>\n",
              "      <th>min</th>\n",
              "      <td>1.000000</td>\n",
              "      <td>5.151183e+06</td>\n",
              "      <td>11.980000</td>\n",
              "      <td>2.000000</td>\n",
              "      <td>2.501555</td>\n",
              "      <td>-3.529534</td>\n",
              "      <td>-2.405295</td>\n",
              "      <td>-0.571442</td>\n",
              "      <td>3.0</td>\n",
              "    </tr>\n",
              "    <tr>\n",
              "      <th>25%</th>\n",
              "      <td>4.000000</td>\n",
              "      <td>1.443485e+07</td>\n",
              "      <td>99.980000</td>\n",
              "      <td>2.000000</td>\n",
              "      <td>3.330680</td>\n",
              "      <td>-0.985019</td>\n",
              "      <td>-0.247197</td>\n",
              "      <td>2.866303</td>\n",
              "      <td>3.0</td>\n",
              "    </tr>\n",
              "    <tr>\n",
              "      <th>50%</th>\n",
              "      <td>5.000000</td>\n",
              "      <td>2.241972e+07</td>\n",
              "      <td>163.900000</td>\n",
              "      <td>2.000000</td>\n",
              "      <td>3.589306</td>\n",
              "      <td>-0.397484</td>\n",
              "      <td>0.267307</td>\n",
              "      <td>3.235344</td>\n",
              "      <td>3.0</td>\n",
              "    </tr>\n",
              "    <tr>\n",
              "      <th>75%</th>\n",
              "      <td>5.000000</td>\n",
              "      <td>3.267237e+07</td>\n",
              "      <td>270.077500</td>\n",
              "      <td>2.000000</td>\n",
              "      <td>4.038092</td>\n",
              "      <td>0.374378</td>\n",
              "      <td>0.929145</td>\n",
              "      <td>3.517507</td>\n",
              "      <td>3.0</td>\n",
              "    </tr>\n",
              "    <tr>\n",
              "      <th>max</th>\n",
              "      <td>5.000000</td>\n",
              "      <td>6.528789e+07</td>\n",
              "      <td>1690.920000</td>\n",
              "      <td>16.000000</td>\n",
              "      <td>54.850008</td>\n",
              "      <td>4.010041</td>\n",
              "      <td>3.747464</td>\n",
              "      <td>49.351982</td>\n",
              "      <td>3.0</td>\n",
              "    </tr>\n",
              "  </tbody>\n",
              "</table>\n",
              "</div>\n",
              "      <button class=\"colab-df-convert\" onclick=\"convertToInteractive('df-5afc9eb0-141c-48b2-92a2-c1ad898ae7ff')\"\n",
              "              title=\"Convert this dataframe to an interactive table.\"\n",
              "              style=\"display:none;\">\n",
              "        \n",
              "  <svg xmlns=\"http://www.w3.org/2000/svg\" height=\"24px\"viewBox=\"0 0 24 24\"\n",
              "       width=\"24px\">\n",
              "    <path d=\"M0 0h24v24H0V0z\" fill=\"none\"/>\n",
              "    <path d=\"M18.56 5.44l.94 2.06.94-2.06 2.06-.94-2.06-.94-.94-2.06-.94 2.06-2.06.94zm-11 1L8.5 8.5l.94-2.06 2.06-.94-2.06-.94L8.5 2.5l-.94 2.06-2.06.94zm10 10l.94 2.06.94-2.06 2.06-.94-2.06-.94-.94-2.06-.94 2.06-2.06.94z\"/><path d=\"M17.41 7.96l-1.37-1.37c-.4-.4-.92-.59-1.43-.59-.52 0-1.04.2-1.43.59L10.3 9.45l-7.72 7.72c-.78.78-.78 2.05 0 2.83L4 21.41c.39.39.9.59 1.41.59.51 0 1.02-.2 1.41-.59l7.78-7.78 2.81-2.81c.8-.78.8-2.07 0-2.86zM5.41 20L4 18.59l7.72-7.72 1.47 1.35L5.41 20z\"/>\n",
              "  </svg>\n",
              "      </button>\n",
              "      \n",
              "  <style>\n",
              "    .colab-df-container {\n",
              "      display:flex;\n",
              "      flex-wrap:wrap;\n",
              "      gap: 12px;\n",
              "    }\n",
              "\n",
              "    .colab-df-convert {\n",
              "      background-color: #E8F0FE;\n",
              "      border: none;\n",
              "      border-radius: 50%;\n",
              "      cursor: pointer;\n",
              "      display: none;\n",
              "      fill: #1967D2;\n",
              "      height: 32px;\n",
              "      padding: 0 0 0 0;\n",
              "      width: 32px;\n",
              "    }\n",
              "\n",
              "    .colab-df-convert:hover {\n",
              "      background-color: #E2EBFA;\n",
              "      box-shadow: 0px 1px 2px rgba(60, 64, 67, 0.3), 0px 1px 3px 1px rgba(60, 64, 67, 0.15);\n",
              "      fill: #174EA6;\n",
              "    }\n",
              "\n",
              "    [theme=dark] .colab-df-convert {\n",
              "      background-color: #3B4455;\n",
              "      fill: #D2E3FC;\n",
              "    }\n",
              "\n",
              "    [theme=dark] .colab-df-convert:hover {\n",
              "      background-color: #434B5C;\n",
              "      box-shadow: 0px 1px 3px 1px rgba(0, 0, 0, 0.15);\n",
              "      filter: drop-shadow(0px 1px 2px rgba(0, 0, 0, 0.3));\n",
              "      fill: #FFFFFF;\n",
              "    }\n",
              "  </style>\n",
              "\n",
              "      <script>\n",
              "        const buttonEl =\n",
              "          document.querySelector('#df-5afc9eb0-141c-48b2-92a2-c1ad898ae7ff button.colab-df-convert');\n",
              "        buttonEl.style.display =\n",
              "          google.colab.kernel.accessAllowed ? 'block' : 'none';\n",
              "\n",
              "        async function convertToInteractive(key) {\n",
              "          const element = document.querySelector('#df-5afc9eb0-141c-48b2-92a2-c1ad898ae7ff');\n",
              "          const dataTable =\n",
              "            await google.colab.kernel.invokeFunction('convertToInteractive',\n",
              "                                                     [key], {});\n",
              "          if (!dataTable) return;\n",
              "\n",
              "          const docLinkHtml = 'Like what you see? Visit the ' +\n",
              "            '<a target=\"_blank\" href=https://colab.research.google.com/notebooks/data_table.ipynb>data table notebook</a>'\n",
              "            + ' to learn more about interactive tables.';\n",
              "          element.innerHTML = '';\n",
              "          dataTable['output_type'] = 'display_data';\n",
              "          await google.colab.output.renderOutput(dataTable, element);\n",
              "          const docLink = document.createElement('div');\n",
              "          docLink.innerHTML = docLinkHtml;\n",
              "          element.appendChild(docLink);\n",
              "        }\n",
              "      </script>\n",
              "    </div>\n",
              "  </div>\n",
              "  "
            ]
          },
          "metadata": {},
          "execution_count": 54
        }
      ]
    },
    {
      "cell_type": "code",
      "source": [
        "#Customers giving good reviews, with a recent order but never returning to the website\n",
        "Cluster_4.describe()"
      ],
      "metadata": {
        "id": "7sL6kBHuwQCk",
        "colab": {
          "base_uri": "https://localhost:8080/"
        },
        "outputId": "bda54373-112e-493e-b567-31205c52444b"
      },
      "execution_count": null,
      "outputs": [
        {
          "output_type": "execute_result",
          "data": {
            "text/plain": [
              "       review_score  Seconds_Since_Last_Order  Sum_of_Prices  frequency  \\\n",
              "count  42201.000000              4.220100e+04   42201.000000    42201.0   \n",
              "mean       4.675553              1.608960e+07     104.417274        1.0   \n",
              "std        0.555790              6.284451e+06      94.752648        0.0   \n",
              "min        3.000000              5.561963e+06       0.850000        1.0   \n",
              "25%        4.000000              1.057675e+07      39.990000        1.0   \n",
              "50%        5.000000              1.582079e+07      78.000000        1.0   \n",
              "75%        5.000000              2.145950e+07     134.170000        1.0   \n",
              "max        5.000000              2.791126e+07     650.000000        1.0   \n",
              "\n",
              "        Component 1   Component 2   Component 3   Component 4  Cluster  \n",
              "count  42201.000000  42201.000000  42201.000000  42201.000000  42201.0  \n",
              "mean      -0.038089     -0.835399     -0.259401     -0.206531      4.0  \n",
              "std        0.338366      0.425931      0.468132      0.341278      0.0  \n",
              "min       -0.545740     -1.659587     -1.736531     -2.245873      4.0  \n",
              "25%       -0.254861     -1.167312     -0.539667     -0.323441      4.0  \n",
              "50%       -0.118889     -0.849353     -0.236045     -0.126505      4.0  \n",
              "75%        0.077986     -0.542892      0.084874      0.013105      4.0  \n",
              "max        1.985528      0.709232      0.759721      0.334988      4.0  "
            ],
            "text/html": [
              "\n",
              "  <div id=\"df-0054c384-4863-410f-85ad-f4ac2d7d4857\">\n",
              "    <div class=\"colab-df-container\">\n",
              "      <div>\n",
              "<style scoped>\n",
              "    .dataframe tbody tr th:only-of-type {\n",
              "        vertical-align: middle;\n",
              "    }\n",
              "\n",
              "    .dataframe tbody tr th {\n",
              "        vertical-align: top;\n",
              "    }\n",
              "\n",
              "    .dataframe thead th {\n",
              "        text-align: right;\n",
              "    }\n",
              "</style>\n",
              "<table border=\"1\" class=\"dataframe\">\n",
              "  <thead>\n",
              "    <tr style=\"text-align: right;\">\n",
              "      <th></th>\n",
              "      <th>review_score</th>\n",
              "      <th>Seconds_Since_Last_Order</th>\n",
              "      <th>Sum_of_Prices</th>\n",
              "      <th>frequency</th>\n",
              "      <th>Component 1</th>\n",
              "      <th>Component 2</th>\n",
              "      <th>Component 3</th>\n",
              "      <th>Component 4</th>\n",
              "      <th>Cluster</th>\n",
              "    </tr>\n",
              "  </thead>\n",
              "  <tbody>\n",
              "    <tr>\n",
              "      <th>count</th>\n",
              "      <td>42201.000000</td>\n",
              "      <td>4.220100e+04</td>\n",
              "      <td>42201.000000</td>\n",
              "      <td>42201.0</td>\n",
              "      <td>42201.000000</td>\n",
              "      <td>42201.000000</td>\n",
              "      <td>42201.000000</td>\n",
              "      <td>42201.000000</td>\n",
              "      <td>42201.0</td>\n",
              "    </tr>\n",
              "    <tr>\n",
              "      <th>mean</th>\n",
              "      <td>4.675553</td>\n",
              "      <td>1.608960e+07</td>\n",
              "      <td>104.417274</td>\n",
              "      <td>1.0</td>\n",
              "      <td>-0.038089</td>\n",
              "      <td>-0.835399</td>\n",
              "      <td>-0.259401</td>\n",
              "      <td>-0.206531</td>\n",
              "      <td>4.0</td>\n",
              "    </tr>\n",
              "    <tr>\n",
              "      <th>std</th>\n",
              "      <td>0.555790</td>\n",
              "      <td>6.284451e+06</td>\n",
              "      <td>94.752648</td>\n",
              "      <td>0.0</td>\n",
              "      <td>0.338366</td>\n",
              "      <td>0.425931</td>\n",
              "      <td>0.468132</td>\n",
              "      <td>0.341278</td>\n",
              "      <td>0.0</td>\n",
              "    </tr>\n",
              "    <tr>\n",
              "      <th>min</th>\n",
              "      <td>3.000000</td>\n",
              "      <td>5.561963e+06</td>\n",
              "      <td>0.850000</td>\n",
              "      <td>1.0</td>\n",
              "      <td>-0.545740</td>\n",
              "      <td>-1.659587</td>\n",
              "      <td>-1.736531</td>\n",
              "      <td>-2.245873</td>\n",
              "      <td>4.0</td>\n",
              "    </tr>\n",
              "    <tr>\n",
              "      <th>25%</th>\n",
              "      <td>4.000000</td>\n",
              "      <td>1.057675e+07</td>\n",
              "      <td>39.990000</td>\n",
              "      <td>1.0</td>\n",
              "      <td>-0.254861</td>\n",
              "      <td>-1.167312</td>\n",
              "      <td>-0.539667</td>\n",
              "      <td>-0.323441</td>\n",
              "      <td>4.0</td>\n",
              "    </tr>\n",
              "    <tr>\n",
              "      <th>50%</th>\n",
              "      <td>5.000000</td>\n",
              "      <td>1.582079e+07</td>\n",
              "      <td>78.000000</td>\n",
              "      <td>1.0</td>\n",
              "      <td>-0.118889</td>\n",
              "      <td>-0.849353</td>\n",
              "      <td>-0.236045</td>\n",
              "      <td>-0.126505</td>\n",
              "      <td>4.0</td>\n",
              "    </tr>\n",
              "    <tr>\n",
              "      <th>75%</th>\n",
              "      <td>5.000000</td>\n",
              "      <td>2.145950e+07</td>\n",
              "      <td>134.170000</td>\n",
              "      <td>1.0</td>\n",
              "      <td>0.077986</td>\n",
              "      <td>-0.542892</td>\n",
              "      <td>0.084874</td>\n",
              "      <td>0.013105</td>\n",
              "      <td>4.0</td>\n",
              "    </tr>\n",
              "    <tr>\n",
              "      <th>max</th>\n",
              "      <td>5.000000</td>\n",
              "      <td>2.791126e+07</td>\n",
              "      <td>650.000000</td>\n",
              "      <td>1.0</td>\n",
              "      <td>1.985528</td>\n",
              "      <td>0.709232</td>\n",
              "      <td>0.759721</td>\n",
              "      <td>0.334988</td>\n",
              "      <td>4.0</td>\n",
              "    </tr>\n",
              "  </tbody>\n",
              "</table>\n",
              "</div>\n",
              "      <button class=\"colab-df-convert\" onclick=\"convertToInteractive('df-0054c384-4863-410f-85ad-f4ac2d7d4857')\"\n",
              "              title=\"Convert this dataframe to an interactive table.\"\n",
              "              style=\"display:none;\">\n",
              "        \n",
              "  <svg xmlns=\"http://www.w3.org/2000/svg\" height=\"24px\"viewBox=\"0 0 24 24\"\n",
              "       width=\"24px\">\n",
              "    <path d=\"M0 0h24v24H0V0z\" fill=\"none\"/>\n",
              "    <path d=\"M18.56 5.44l.94 2.06.94-2.06 2.06-.94-2.06-.94-.94-2.06-.94 2.06-2.06.94zm-11 1L8.5 8.5l.94-2.06 2.06-.94-2.06-.94L8.5 2.5l-.94 2.06-2.06.94zm10 10l.94 2.06.94-2.06 2.06-.94-2.06-.94-.94-2.06-.94 2.06-2.06.94z\"/><path d=\"M17.41 7.96l-1.37-1.37c-.4-.4-.92-.59-1.43-.59-.52 0-1.04.2-1.43.59L10.3 9.45l-7.72 7.72c-.78.78-.78 2.05 0 2.83L4 21.41c.39.39.9.59 1.41.59.51 0 1.02-.2 1.41-.59l7.78-7.78 2.81-2.81c.8-.78.8-2.07 0-2.86zM5.41 20L4 18.59l7.72-7.72 1.47 1.35L5.41 20z\"/>\n",
              "  </svg>\n",
              "      </button>\n",
              "      \n",
              "  <style>\n",
              "    .colab-df-container {\n",
              "      display:flex;\n",
              "      flex-wrap:wrap;\n",
              "      gap: 12px;\n",
              "    }\n",
              "\n",
              "    .colab-df-convert {\n",
              "      background-color: #E8F0FE;\n",
              "      border: none;\n",
              "      border-radius: 50%;\n",
              "      cursor: pointer;\n",
              "      display: none;\n",
              "      fill: #1967D2;\n",
              "      height: 32px;\n",
              "      padding: 0 0 0 0;\n",
              "      width: 32px;\n",
              "    }\n",
              "\n",
              "    .colab-df-convert:hover {\n",
              "      background-color: #E2EBFA;\n",
              "      box-shadow: 0px 1px 2px rgba(60, 64, 67, 0.3), 0px 1px 3px 1px rgba(60, 64, 67, 0.15);\n",
              "      fill: #174EA6;\n",
              "    }\n",
              "\n",
              "    [theme=dark] .colab-df-convert {\n",
              "      background-color: #3B4455;\n",
              "      fill: #D2E3FC;\n",
              "    }\n",
              "\n",
              "    [theme=dark] .colab-df-convert:hover {\n",
              "      background-color: #434B5C;\n",
              "      box-shadow: 0px 1px 3px 1px rgba(0, 0, 0, 0.15);\n",
              "      filter: drop-shadow(0px 1px 2px rgba(0, 0, 0, 0.3));\n",
              "      fill: #FFFFFF;\n",
              "    }\n",
              "  </style>\n",
              "\n",
              "      <script>\n",
              "        const buttonEl =\n",
              "          document.querySelector('#df-0054c384-4863-410f-85ad-f4ac2d7d4857 button.colab-df-convert');\n",
              "        buttonEl.style.display =\n",
              "          google.colab.kernel.accessAllowed ? 'block' : 'none';\n",
              "\n",
              "        async function convertToInteractive(key) {\n",
              "          const element = document.querySelector('#df-0054c384-4863-410f-85ad-f4ac2d7d4857');\n",
              "          const dataTable =\n",
              "            await google.colab.kernel.invokeFunction('convertToInteractive',\n",
              "                                                     [key], {});\n",
              "          if (!dataTable) return;\n",
              "\n",
              "          const docLinkHtml = 'Like what you see? Visit the ' +\n",
              "            '<a target=\"_blank\" href=https://colab.research.google.com/notebooks/data_table.ipynb>data table notebook</a>'\n",
              "            + ' to learn more about interactive tables.';\n",
              "          element.innerHTML = '';\n",
              "          dataTable['output_type'] = 'display_data';\n",
              "          await google.colab.output.renderOutput(dataTable, element);\n",
              "          const docLink = document.createElement('div');\n",
              "          docLink.innerHTML = docLinkHtml;\n",
              "          element.appendChild(docLink);\n",
              "        }\n",
              "      </script>\n",
              "    </div>\n",
              "  </div>\n",
              "  "
            ]
          },
          "metadata": {},
          "execution_count": 55
        }
      ]
    },
    {
      "cell_type": "markdown",
      "source": [
        "# KMeans with Review Score and Average Price"
      ],
      "metadata": {
        "id": "rIZT51_W9nm-"
      }
    },
    {
      "cell_type": "code",
      "source": [
        "# Creating a new simple dataframe with review score, Seconds_Since_Last_Order', 'Average_Price' and 'frequency'\n",
        "\n",
        "Testing3 = Order_Dataset[['review_score', 'Seconds_Since_Last_Order', 'Average_Price', 'frequency']]"
      ],
      "metadata": {
        "id": "L9qqQd_Vkk5B"
      },
      "execution_count": null,
      "outputs": []
    },
    {
      "cell_type": "code",
      "source": [
        "Testing3_scaled = Data_Standardising(Testing3)"
      ],
      "metadata": {
        "id": "R2Jkf9K1kk5C"
      },
      "execution_count": null,
      "outputs": []
    },
    {
      "cell_type": "code",
      "source": [
        "# Shows graph with total number of PCA components\n",
        "\n",
        "Plot_End_Range = 5\n",
        "\n",
        "PCA_Variance_Graph(Testing2_scaled, Plot_End_Range)"
      ],
      "metadata": {
        "colab": {
          "base_uri": "https://localhost:8080/"
        },
        "outputId": "8fc4221c-ae61-4fc2-aa1a-55b29cd5b390",
        "id": "wn5IXHKakk5E"
      },
      "execution_count": null,
      "outputs": [
        {
          "output_type": "display_data",
          "data": {
            "text/plain": [
              "<Figure size 864x432 with 1 Axes>"
            ],
            "image/png": "[encoded data removed]"
          },
          "metadata": {
            "needs_background": "light"
          }
        }
      ]
    },
    {
      "cell_type": "code",
      "source": [
        "# Runs PCA on the dataframe, in this case three components will give 75% of the data and four components will give 100% of the data\n",
        "\n",
        "n_components = 4\n",
        "\n",
        "scores_pca3 = PCA_Function(Testing3_scaled, n_components)"
      ],
      "metadata": {
        "id": "c0vsHfh6kk5H"
      },
      "execution_count": null,
      "outputs": []
    },
    {
      "cell_type": "code",
      "source": [
        "Elbow_Method(scores_pca3)"
      ],
      "metadata": {
        "colab": {
          "base_uri": "https://localhost:8080/"
        },
        "outputId": "a1448857-a9de-459a-c385-0508197ed0bb",
        "id": "Md6Tygdzkk5I"
      },
      "execution_count": null,
      "outputs": [
        {
          "output_type": "stream",
          "name": "stdout",
          "text": [
            "The elbow is at cluster\n",
            "5\n"
          ]
        },
        {
          "output_type": "display_data",
          "data": {
            "text/plain": [
              "<Figure size 864x432 with 1 Axes>"
            ],
            "image/png": "[encoded data removed]"
          },
          "metadata": {
            "needs_background": "light"
          }
        }
      ]
    },
    {
      "cell_type": "code",
      "source": [
        "# The Silhouette Method suggests either five or six clusters\n",
        "\n",
        "Silhouette_Method(scores_pca3)"
      ],
      "metadata": {
        "colab": {
          "base_uri": "https://localhost:8080/"
        },
        "id": "4ElQGgVikk5J",
        "outputId": "68891bf4-5ca9-4995-aa37-ae39257c2a67"
      },
      "execution_count": null,
      "outputs": [
        {
          "output_type": "stream",
          "name": "stdout",
          "text": [
            "Silhouette Score for 3 Clusters: 0.404\n",
            "Silhouette Score for 4 Clusters: 0.393\n",
            "Silhouette Score for 5 Clusters: 0.418\n",
            "Silhouette Score for 6 Clusters: 0.424\n",
            "Silhouette Score for 7 Clusters: 0.351\n",
            "Silhouette Score for 8 Clusters: 0.352\n"
          ]
        }
      ]
    },
    {
      "cell_type": "code",
      "source": [
        "# Runs KMeans clustering with five clusters\n",
        "\n",
        "n_clusters = 5\n",
        "\n",
        "kmeans_pca3 = KMeans_Clustering(n_clusters, scores_pca3)"
      ],
      "metadata": {
        "id": "cn19eGdmkk5K"
      },
      "execution_count": null,
      "outputs": []
    },
    {
      "cell_type": "code",
      "source": [
        "# Adds four new component columns and a new cluster column to a new df_kmeans3 dataframe\n",
        "\n",
        "df_kmeans3 = pd.concat([Testing3.reset_index(drop = True), pd.DataFrame(scores_pca3)], axis = 1)\n",
        "df_kmeans3.columns.values[-4:] = ['Component 1', 'Component 2', 'Component 3', 'Component 4']\n",
        "df_kmeans3['Cluster'] = kmeans_pca2.labels_"
      ],
      "metadata": {
        "id": "Ao8Zqsr3kk5K"
      },
      "execution_count": null,
      "outputs": []
    },
    {
      "cell_type": "code",
      "source": [
        "x_axis = df_kmeans2['Component 2']\n",
        "y_axis = df_kmeans2['Component 1']\n",
        "  \n",
        "plt.figure(figsize=(12,6))\n",
        "sns.scatterplot(x_axis, y_axis, hue = df_kmeans3['Cluster'], palette = ['g', 'r', 'b', 'c', 'm'])\n",
        "plt.title('Clusters by PCA Components')\n",
        "plt.show()"
      ],
      "metadata": {
        "colab": {
          "base_uri": "https://localhost:8080/"
        },
        "outputId": "5711f7bf-cd35-4425-937c-7e80c44a3602",
        "id": "pbmyhA0okk5L"
      },
      "execution_count": null,
      "outputs": [
        {
          "output_type": "stream",
          "name": "stderr",
          "text": [
            "/usr/local/lib/python3.7/dist-packages/seaborn/_decorators.py:43: FutureWarning: Pass the following variables as keyword args: x, y. From version 0.12, the only valid positional argument will be `data`, and passing other arguments without an explicit keyword will result in an error or misinterpretation.\n",
            "  FutureWarning\n"
          ]
        },
        {
          "output_type": "display_data",
          "data": {
            "text/plain": [
              "<Figure size 864x432 with 1 Axes>"
            ],
            "image/png": "[encoded data removed]"
          },
          "metadata": {
            "needs_background": "light"
          }
        }
      ]
    },
    {
      "cell_type": "code",
      "source": [
        "df = df_kmeans3"
      ],
      "metadata": {
        "id": "uIkrHvLWkk5M"
      },
      "execution_count": null,
      "outputs": []
    },
    {
      "cell_type": "code",
      "source": [
        "# Dividing the data into separate clusters\n",
        "\n",
        "Cluster_0 = df.loc[df[\"Cluster\"] == 0]\n",
        "Cluster_1 = df.loc[df[\"Cluster\"] == 1]\n",
        "Cluster_2 = df.loc[df[\"Cluster\"] == 2]\n",
        "Cluster_3 = df.loc[df[\"Cluster\"] == 3]\n",
        "Cluster_4 = df.loc[df[\"Cluster\"] == 4]"
      ],
      "metadata": {
        "id": "njADHE0Fkk5N"
      },
      "execution_count": null,
      "outputs": []
    },
    {
      "cell_type": "code",
      "source": [
        "#Customers giving good reviews, but never returning to the website\n",
        "Cluster_0.describe()"
      ],
      "metadata": {
        "colab": {
          "base_uri": "https://localhost:8080/"
        },
        "outputId": "664d3849-743e-412f-a6d1-d9119eb2fc4d",
        "id": "oi13e5S6kk5O"
      },
      "execution_count": null,
      "outputs": [
        {
          "output_type": "execute_result",
          "data": {
            "text/plain": [
              "       review_score  Seconds_Since_Last_Order  Average_Price  frequency  \\\n",
              "count  31954.000000              3.195400e+04   31954.000000    31954.0   \n",
              "mean       4.624711              3.955315e+07     105.536796        1.0   \n",
              "std        0.604377              8.229981e+06      98.322415        0.0   \n",
              "min        2.000000              2.768330e+07       2.290000        1.0   \n",
              "25%        4.000000              3.226677e+07      40.000000        1.0   \n",
              "50%        5.000000              3.871298e+07      75.000000        1.0   \n",
              "75%        5.000000              4.576310e+07     131.900000        1.0   \n",
              "max        5.000000              6.560299e+07     689.990000        1.0   \n",
              "\n",
              "        Component 1   Component 2   Component 3   Component 4  Cluster  \n",
              "count  31954.000000  31954.000000  31954.000000  31954.000000  31954.0  \n",
              "mean      -0.410577     -0.664582     -0.379360      0.685252      0.0  \n",
              "std        0.474155      0.530073      0.375524      0.456924      0.0  \n",
              "min       -3.228311     -2.098269     -1.195488     -0.229156      0.0  \n",
              "25%       -0.717658     -1.008647     -0.599064      0.320110      0.0  \n",
              "50%       -0.349097     -0.705301     -0.541778      0.637871      0.0  \n",
              "75%       -0.052975     -0.415188     -0.034887      0.999835      0.0  \n",
              "max        0.401020      1.994025      1.282508      3.005366      0.0  "
            ],
            "text/html": [
              "\n",
              "  <div id=\"df-0576e8bc-7764-4f2e-9937-db6c67fd96fc\">\n",
              "    <div class=\"colab-df-container\">\n",
              "      <div>\n",
              "<style scoped>\n",
              "    .dataframe tbody tr th:only-of-type {\n",
              "        vertical-align: middle;\n",
              "    }\n",
              "\n",
              "    .dataframe tbody tr th {\n",
              "        vertical-align: top;\n",
              "    }\n",
              "\n",
              "    .dataframe thead th {\n",
              "        text-align: right;\n",
              "    }\n",
              "</style>\n",
              "<table border=\"1\" class=\"dataframe\">\n",
              "  <thead>\n",
              "    <tr style=\"text-align: right;\">\n",
              "      <th></th>\n",
              "      <th>review_score</th>\n",
              "      <th>Seconds_Since_Last_Order</th>\n",
              "      <th>Average_Price</th>\n",
              "      <th>frequency</th>\n",
              "      <th>Component 1</th>\n",
              "      <th>Component 2</th>\n",
              "      <th>Component 3</th>\n",
              "      <th>Component 4</th>\n",
              "      <th>Cluster</th>\n",
              "    </tr>\n",
              "  </thead>\n",
              "  <tbody>\n",
              "    <tr>\n",
              "      <th>count</th>\n",
              "      <td>31954.000000</td>\n",
              "      <td>3.195400e+04</td>\n",
              "      <td>31954.000000</td>\n",
              "      <td>31954.0</td>\n",
              "      <td>31954.000000</td>\n",
              "      <td>31954.000000</td>\n",
              "      <td>31954.000000</td>\n",
              "      <td>31954.000000</td>\n",
              "      <td>31954.0</td>\n",
              "    </tr>\n",
              "    <tr>\n",
              "      <th>mean</th>\n",
              "      <td>4.624711</td>\n",
              "      <td>3.955315e+07</td>\n",
              "      <td>105.536796</td>\n",
              "      <td>1.0</td>\n",
              "      <td>-0.410577</td>\n",
              "      <td>-0.664582</td>\n",
              "      <td>-0.379360</td>\n",
              "      <td>0.685252</td>\n",
              "      <td>0.0</td>\n",
              "    </tr>\n",
              "    <tr>\n",
              "      <th>std</th>\n",
              "      <td>0.604377</td>\n",
              "      <td>8.229981e+06</td>\n",
              "      <td>98.322415</td>\n",
              "      <td>0.0</td>\n",
              "      <td>0.474155</td>\n",
              "      <td>0.530073</td>\n",
              "      <td>0.375524</td>\n",
              "      <td>0.456924</td>\n",
              "      <td>0.0</td>\n",
              "    </tr>\n",
              "    <tr>\n",
              "      <th>min</th>\n",
              "      <td>2.000000</td>\n",
              "      <td>2.768330e+07</td>\n",
              "      <td>2.290000</td>\n",
              "      <td>1.0</td>\n",
              "      <td>-3.228311</td>\n",
              "      <td>-2.098269</td>\n",
              "      <td>-1.195488</td>\n",
              "      <td>-0.229156</td>\n",
              "      <td>0.0</td>\n",
              "    </tr>\n",
              "    <tr>\n",
              "      <th>25%</th>\n",
              "      <td>4.000000</td>\n",
              "      <td>3.226677e+07</td>\n",
              "      <td>40.000000</td>\n",
              "      <td>1.0</td>\n",
              "      <td>-0.717658</td>\n",
              "      <td>-1.008647</td>\n",
              "      <td>-0.599064</td>\n",
              "      <td>0.320110</td>\n",
              "      <td>0.0</td>\n",
              "    </tr>\n",
              "    <tr>\n",
              "      <th>50%</th>\n",
              "      <td>5.000000</td>\n",
              "      <td>3.871298e+07</td>\n",
              "      <td>75.000000</td>\n",
              "      <td>1.0</td>\n",
              "      <td>-0.349097</td>\n",
              "      <td>-0.705301</td>\n",
              "      <td>-0.541778</td>\n",
              "      <td>0.637871</td>\n",
              "      <td>0.0</td>\n",
              "    </tr>\n",
              "    <tr>\n",
              "      <th>75%</th>\n",
              "      <td>5.000000</td>\n",
              "      <td>4.576310e+07</td>\n",
              "      <td>131.900000</td>\n",
              "      <td>1.0</td>\n",
              "      <td>-0.052975</td>\n",
              "      <td>-0.415188</td>\n",
              "      <td>-0.034887</td>\n",
              "      <td>0.999835</td>\n",
              "      <td>0.0</td>\n",
              "    </tr>\n",
              "    <tr>\n",
              "      <th>max</th>\n",
              "      <td>5.000000</td>\n",
              "      <td>6.560299e+07</td>\n",
              "      <td>689.990000</td>\n",
              "      <td>1.0</td>\n",
              "      <td>0.401020</td>\n",
              "      <td>1.994025</td>\n",
              "      <td>1.282508</td>\n",
              "      <td>3.005366</td>\n",
              "      <td>0.0</td>\n",
              "    </tr>\n",
              "  </tbody>\n",
              "</table>\n",
              "</div>\n",
              "      <button class=\"colab-df-convert\" onclick=\"convertToInteractive('df-0576e8bc-7764-4f2e-9937-db6c67fd96fc')\"\n",
              "              title=\"Convert this dataframe to an interactive table.\"\n",
              "              style=\"display:none;\">\n",
              "        \n",
              "  <svg xmlns=\"http://www.w3.org/2000/svg\" height=\"24px\"viewBox=\"0 0 24 24\"\n",
              "       width=\"24px\">\n",
              "    <path d=\"M0 0h24v24H0V0z\" fill=\"none\"/>\n",
              "    <path d=\"M18.56 5.44l.94 2.06.94-2.06 2.06-.94-2.06-.94-.94-2.06-.94 2.06-2.06.94zm-11 1L8.5 8.5l.94-2.06 2.06-.94-2.06-.94L8.5 2.5l-.94 2.06-2.06.94zm10 10l.94 2.06.94-2.06 2.06-.94-2.06-.94-.94-2.06-.94 2.06-2.06.94z\"/><path d=\"M17.41 7.96l-1.37-1.37c-.4-.4-.92-.59-1.43-.59-.52 0-1.04.2-1.43.59L10.3 9.45l-7.72 7.72c-.78.78-.78 2.05 0 2.83L4 21.41c.39.39.9.59 1.41.59.51 0 1.02-.2 1.41-.59l7.78-7.78 2.81-2.81c.8-.78.8-2.07 0-2.86zM5.41 20L4 18.59l7.72-7.72 1.47 1.35L5.41 20z\"/>\n",
              "  </svg>\n",
              "      </button>\n",
              "      \n",
              "  <style>\n",
              "    .colab-df-container {\n",
              "      display:flex;\n",
              "      flex-wrap:wrap;\n",
              "      gap: 12px;\n",
              "    }\n",
              "\n",
              "    .colab-df-convert {\n",
              "      background-color: #E8F0FE;\n",
              "      border: none;\n",
              "      border-radius: 50%;\n",
              "      cursor: pointer;\n",
              "      display: none;\n",
              "      fill: #1967D2;\n",
              "      height: 32px;\n",
              "      padding: 0 0 0 0;\n",
              "      width: 32px;\n",
              "    }\n",
              "\n",
              "    .colab-df-convert:hover {\n",
              "      background-color: #E2EBFA;\n",
              "      box-shadow: 0px 1px 2px rgba(60, 64, 67, 0.3), 0px 1px 3px 1px rgba(60, 64, 67, 0.15);\n",
              "      fill: #174EA6;\n",
              "    }\n",
              "\n",
              "    [theme=dark] .colab-df-convert {\n",
              "      background-color: #3B4455;\n",
              "      fill: #D2E3FC;\n",
              "    }\n",
              "\n",
              "    [theme=dark] .colab-df-convert:hover {\n",
              "      background-color: #434B5C;\n",
              "      box-shadow: 0px 1px 3px 1px rgba(0, 0, 0, 0.15);\n",
              "      filter: drop-shadow(0px 1px 2px rgba(0, 0, 0, 0.3));\n",
              "      fill: #FFFFFF;\n",
              "    }\n",
              "  </style>\n",
              "\n",
              "      <script>\n",
              "        const buttonEl =\n",
              "          document.querySelector('#df-0576e8bc-7764-4f2e-9937-db6c67fd96fc button.colab-df-convert');\n",
              "        buttonEl.style.display =\n",
              "          google.colab.kernel.accessAllowed ? 'block' : 'none';\n",
              "\n",
              "        async function convertToInteractive(key) {\n",
              "          const element = document.querySelector('#df-0576e8bc-7764-4f2e-9937-db6c67fd96fc');\n",
              "          const dataTable =\n",
              "            await google.colab.kernel.invokeFunction('convertToInteractive',\n",
              "                                                     [key], {});\n",
              "          if (!dataTable) return;\n",
              "\n",
              "          const docLinkHtml = 'Like what you see? Visit the ' +\n",
              "            '<a target=\"_blank\" href=https://colab.research.google.com/notebooks/data_table.ipynb>data table notebook</a>'\n",
              "            + ' to learn more about interactive tables.';\n",
              "          element.innerHTML = '';\n",
              "          dataTable['output_type'] = 'display_data';\n",
              "          await google.colab.output.renderOutput(dataTable, element);\n",
              "          const docLink = document.createElement('div');\n",
              "          docLink.innerHTML = docLinkHtml;\n",
              "          element.appendChild(docLink);\n",
              "        }\n",
              "      </script>\n",
              "    </div>\n",
              "  </div>\n",
              "  "
            ]
          },
          "metadata": {},
          "execution_count": 67
        }
      ]
    },
    {
      "cell_type": "code",
      "source": [
        "#Customers giving poor reviews, hence never returning to the website\n",
        "Cluster_1.describe()"
      ],
      "metadata": {
        "colab": {
          "base_uri": "https://localhost:8080/"
        },
        "outputId": "b80c30d9-6d3f-4ff7-a284-94c9332ed3ea",
        "id": "_5RiSu_5kk5P"
      },
      "execution_count": null,
      "outputs": [
        {
          "output_type": "execute_result",
          "data": {
            "text/plain": [
              "       review_score  Seconds_Since_Last_Order  Average_Price  frequency  \\\n",
              "count  17174.000000              1.717400e+04   17174.000000    17174.0   \n",
              "mean       1.661523              2.616543e+07     110.515507        1.0   \n",
              "std        0.847734              1.121621e+07     107.317220        0.0   \n",
              "min        1.000000              5.571241e+06       1.200000        1.0   \n",
              "25%        1.000000              1.904511e+07      41.900000        1.0   \n",
              "50%        1.000000              2.448023e+07      79.000000        1.0   \n",
              "75%        2.000000              3.120371e+07     139.890000        1.0   \n",
              "max        3.000000              6.809308e+07     719.880000        1.0   \n",
              "\n",
              "        Component 1   Component 2   Component 3   Component 4  Cluster  \n",
              "count  17174.000000  17174.000000  17174.000000  17174.000000  17174.0  \n",
              "mean      -0.956789      0.083828      1.377357     -0.742165      1.0  \n",
              "std        0.618093      0.637196      0.512329      0.621970      0.0  \n",
              "min       -3.888573     -1.773654      0.068233     -2.104486      1.0  \n",
              "25%       -1.322134     -0.303113      0.805320     -1.199551      1.0  \n",
              "50%       -0.871825      0.034272      1.686036     -0.763891      1.0  \n",
              "75%       -0.479369      0.419239      1.815355     -0.327970      1.0  \n",
              "max        0.192059      3.433614      1.888973      1.960221      1.0  "
            ],
            "text/html": [
              "\n",
              "  <div id=\"df-b53e2401-1f70-48ac-8fd8-c0fae5fff24a\">\n",
              "    <div class=\"colab-df-container\">\n",
              "      <div>\n",
              "<style scoped>\n",
              "    .dataframe tbody tr th:only-of-type {\n",
              "        vertical-align: middle;\n",
              "    }\n",
              "\n",
              "    .dataframe tbody tr th {\n",
              "        vertical-align: top;\n",
              "    }\n",
              "\n",
              "    .dataframe thead th {\n",
              "        text-align: right;\n",
              "    }\n",
              "</style>\n",
              "<table border=\"1\" class=\"dataframe\">\n",
              "  <thead>\n",
              "    <tr style=\"text-align: right;\">\n",
              "      <th></th>\n",
              "      <th>review_score</th>\n",
              "      <th>Seconds_Since_Last_Order</th>\n",
              "      <th>Average_Price</th>\n",
              "      <th>frequency</th>\n",
              "      <th>Component 1</th>\n",
              "      <th>Component 2</th>\n",
              "      <th>Component 3</th>\n",
              "      <th>Component 4</th>\n",
              "      <th>Cluster</th>\n",
              "    </tr>\n",
              "  </thead>\n",
              "  <tbody>\n",
              "    <tr>\n",
              "      <th>count</th>\n",
              "      <td>17174.000000</td>\n",
              "      <td>1.717400e+04</td>\n",
              "      <td>17174.000000</td>\n",
              "      <td>17174.0</td>\n",
              "      <td>17174.000000</td>\n",
              "      <td>17174.000000</td>\n",
              "      <td>17174.000000</td>\n",
              "      <td>17174.000000</td>\n",
              "      <td>17174.0</td>\n",
              "    </tr>\n",
              "    <tr>\n",
              "      <th>mean</th>\n",
              "      <td>1.661523</td>\n",
              "      <td>2.616543e+07</td>\n",
              "      <td>110.515507</td>\n",
              "      <td>1.0</td>\n",
              "      <td>-0.956789</td>\n",
              "      <td>0.083828</td>\n",
              "      <td>1.377357</td>\n",
              "      <td>-0.742165</td>\n",
              "      <td>1.0</td>\n",
              "    </tr>\n",
              "    <tr>\n",
              "      <th>std</th>\n",
              "      <td>0.847734</td>\n",
              "      <td>1.121621e+07</td>\n",
              "      <td>107.317220</td>\n",
              "      <td>0.0</td>\n",
              "      <td>0.618093</td>\n",
              "      <td>0.637196</td>\n",
              "      <td>0.512329</td>\n",
              "      <td>0.621970</td>\n",
              "      <td>0.0</td>\n",
              "    </tr>\n",
              "    <tr>\n",
              "      <th>min</th>\n",
              "      <td>1.000000</td>\n",
              "      <td>5.571241e+06</td>\n",
              "      <td>1.200000</td>\n",
              "      <td>1.0</td>\n",
              "      <td>-3.888573</td>\n",
              "      <td>-1.773654</td>\n",
              "      <td>0.068233</td>\n",
              "      <td>-2.104486</td>\n",
              "      <td>1.0</td>\n",
              "    </tr>\n",
              "    <tr>\n",
              "      <th>25%</th>\n",
              "      <td>1.000000</td>\n",
              "      <td>1.904511e+07</td>\n",
              "      <td>41.900000</td>\n",
              "      <td>1.0</td>\n",
              "      <td>-1.322134</td>\n",
              "      <td>-0.303113</td>\n",
              "      <td>0.805320</td>\n",
              "      <td>-1.199551</td>\n",
              "      <td>1.0</td>\n",
              "    </tr>\n",
              "    <tr>\n",
              "      <th>50%</th>\n",
              "      <td>1.000000</td>\n",
              "      <td>2.448023e+07</td>\n",
              "      <td>79.000000</td>\n",
              "      <td>1.0</td>\n",
              "      <td>-0.871825</td>\n",
              "      <td>0.034272</td>\n",
              "      <td>1.686036</td>\n",
              "      <td>-0.763891</td>\n",
              "      <td>1.0</td>\n",
              "    </tr>\n",
              "    <tr>\n",
              "      <th>75%</th>\n",
              "      <td>2.000000</td>\n",
              "      <td>3.120371e+07</td>\n",
              "      <td>139.890000</td>\n",
              "      <td>1.0</td>\n",
              "      <td>-0.479369</td>\n",
              "      <td>0.419239</td>\n",
              "      <td>1.815355</td>\n",
              "      <td>-0.327970</td>\n",
              "      <td>1.0</td>\n",
              "    </tr>\n",
              "    <tr>\n",
              "      <th>max</th>\n",
              "      <td>3.000000</td>\n",
              "      <td>6.809308e+07</td>\n",
              "      <td>719.880000</td>\n",
              "      <td>1.0</td>\n",
              "      <td>0.192059</td>\n",
              "      <td>3.433614</td>\n",
              "      <td>1.888973</td>\n",
              "      <td>1.960221</td>\n",
              "      <td>1.0</td>\n",
              "    </tr>\n",
              "  </tbody>\n",
              "</table>\n",
              "</div>\n",
              "      <button class=\"colab-df-convert\" onclick=\"convertToInteractive('df-b53e2401-1f70-48ac-8fd8-c0fae5fff24a')\"\n",
              "              title=\"Convert this dataframe to an interactive table.\"\n",
              "              style=\"display:none;\">\n",
              "        \n",
              "  <svg xmlns=\"http://www.w3.org/2000/svg\" height=\"24px\"viewBox=\"0 0 24 24\"\n",
              "       width=\"24px\">\n",
              "    <path d=\"M0 0h24v24H0V0z\" fill=\"none\"/>\n",
              "    <path d=\"M18.56 5.44l.94 2.06.94-2.06 2.06-.94-2.06-.94-.94-2.06-.94 2.06-2.06.94zm-11 1L8.5 8.5l.94-2.06 2.06-.94-2.06-.94L8.5 2.5l-.94 2.06-2.06.94zm10 10l.94 2.06.94-2.06 2.06-.94-2.06-.94-.94-2.06-.94 2.06-2.06.94z\"/><path d=\"M17.41 7.96l-1.37-1.37c-.4-.4-.92-.59-1.43-.59-.52 0-1.04.2-1.43.59L10.3 9.45l-7.72 7.72c-.78.78-.78 2.05 0 2.83L4 21.41c.39.39.9.59 1.41.59.51 0 1.02-.2 1.41-.59l7.78-7.78 2.81-2.81c.8-.78.8-2.07 0-2.86zM5.41 20L4 18.59l7.72-7.72 1.47 1.35L5.41 20z\"/>\n",
              "  </svg>\n",
              "      </button>\n",
              "      \n",
              "  <style>\n",
              "    .colab-df-container {\n",
              "      display:flex;\n",
              "      flex-wrap:wrap;\n",
              "      gap: 12px;\n",
              "    }\n",
              "\n",
              "    .colab-df-convert {\n",
              "      background-color: #E8F0FE;\n",
              "      border: none;\n",
              "      border-radius: 50%;\n",
              "      cursor: pointer;\n",
              "      display: none;\n",
              "      fill: #1967D2;\n",
              "      height: 32px;\n",
              "      padding: 0 0 0 0;\n",
              "      width: 32px;\n",
              "    }\n",
              "\n",
              "    .colab-df-convert:hover {\n",
              "      background-color: #E2EBFA;\n",
              "      box-shadow: 0px 1px 2px rgba(60, 64, 67, 0.3), 0px 1px 3px 1px rgba(60, 64, 67, 0.15);\n",
              "      fill: #174EA6;\n",
              "    }\n",
              "\n",
              "    [theme=dark] .colab-df-convert {\n",
              "      background-color: #3B4455;\n",
              "      fill: #D2E3FC;\n",
              "    }\n",
              "\n",
              "    [theme=dark] .colab-df-convert:hover {\n",
              "      background-color: #434B5C;\n",
              "      box-shadow: 0px 1px 3px 1px rgba(0, 0, 0, 0.15);\n",
              "      filter: drop-shadow(0px 1px 2px rgba(0, 0, 0, 0.3));\n",
              "      fill: #FFFFFF;\n",
              "    }\n",
              "  </style>\n",
              "\n",
              "      <script>\n",
              "        const buttonEl =\n",
              "          document.querySelector('#df-b53e2401-1f70-48ac-8fd8-c0fae5fff24a button.colab-df-convert');\n",
              "        buttonEl.style.display =\n",
              "          google.colab.kernel.accessAllowed ? 'block' : 'none';\n",
              "\n",
              "        async function convertToInteractive(key) {\n",
              "          const element = document.querySelector('#df-b53e2401-1f70-48ac-8fd8-c0fae5fff24a');\n",
              "          const dataTable =\n",
              "            await google.colab.kernel.invokeFunction('convertToInteractive',\n",
              "                                                     [key], {});\n",
              "          if (!dataTable) return;\n",
              "\n",
              "          const docLinkHtml = 'Like what you see? Visit the ' +\n",
              "            '<a target=\"_blank\" href=https://colab.research.google.com/notebooks/data_table.ipynb>data table notebook</a>'\n",
              "            + ' to learn more about interactive tables.';\n",
              "          element.innerHTML = '';\n",
              "          dataTable['output_type'] = 'display_data';\n",
              "          await google.colab.output.renderOutput(dataTable, element);\n",
              "          const docLink = document.createElement('div');\n",
              "          docLink.innerHTML = docLinkHtml;\n",
              "          element.appendChild(docLink);\n",
              "        }\n",
              "      </script>\n",
              "    </div>\n",
              "  </div>\n",
              "  "
            ]
          },
          "metadata": {},
          "execution_count": 68
        }
      ]
    },
    {
      "cell_type": "code",
      "source": [
        "#High spending customers\n",
        "Cluster_2.describe()"
      ],
      "metadata": {
        "colab": {
          "base_uri": "https://localhost:8080/"
        },
        "outputId": "a5b9e70d-a3bd-45ff-93db-c1f30e88b92d",
        "id": "D_YjsBZCkk5Q"
      },
      "execution_count": null,
      "outputs": [
        {
          "output_type": "execute_result",
          "data": {
            "text/plain": [
              "       review_score  Seconds_Since_Last_Order  Average_Price    frequency  \\\n",
              "count   1974.000000              1.974000e+03    1974.000000  1974.000000   \n",
              "mean       4.119048              2.623279e+07    1117.432490     1.011651   \n",
              "std        1.353231              1.340797e+07     578.329666     0.107338   \n",
              "min        1.000000              5.627443e+06     599.000000     1.000000   \n",
              "25%        4.000000              1.507441e+07     750.000000     1.000000   \n",
              "50%        5.000000              2.455988e+07     899.300000     1.000000   \n",
              "75%        5.000000              3.630301e+07    1299.000000     1.000000   \n",
              "max        5.000000              6.550767e+07    6735.000000     2.000000   \n",
              "\n",
              "       Component 1  Component 2  Component 3  Component 4  Cluster  \n",
              "count  1974.000000  1974.000000  1974.000000  1974.000000   1974.0  \n",
              "mean     -1.978252     4.339664    -1.082780     1.640395      2.0  \n",
              "std       1.434522     2.590988     1.009535     1.270898      0.0  \n",
              "min     -13.801754     1.134225    -7.373375    -0.693138      2.0  \n",
              "25%      -2.613550     2.764480    -1.569971     0.749511      2.0  \n",
              "50%      -1.763852     3.615790    -1.252234     1.419073      2.0  \n",
              "75%      -1.021805     5.011959    -0.636929     2.287708      2.0  \n",
              "max       2.467566    29.776452     4.122538    12.790354      2.0  "
            ],
            "text/html": [
              "\n",
              "  <div id=\"df-68314eee-a696-441b-ac9e-45725f72a0c6\">\n",
              "    <div class=\"colab-df-container\">\n",
              "      <div>\n",
              "<style scoped>\n",
              "    .dataframe tbody tr th:only-of-type {\n",
              "        vertical-align: middle;\n",
              "    }\n",
              "\n",
              "    .dataframe tbody tr th {\n",
              "        vertical-align: top;\n",
              "    }\n",
              "\n",
              "    .dataframe thead th {\n",
              "        text-align: right;\n",
              "    }\n",
              "</style>\n",
              "<table border=\"1\" class=\"dataframe\">\n",
              "  <thead>\n",
              "    <tr style=\"text-align: right;\">\n",
              "      <th></th>\n",
              "      <th>review_score</th>\n",
              "      <th>Seconds_Since_Last_Order</th>\n",
              "      <th>Average_Price</th>\n",
              "      <th>frequency</th>\n",
              "      <th>Component 1</th>\n",
              "      <th>Component 2</th>\n",
              "      <th>Component 3</th>\n",
              "      <th>Component 4</th>\n",
              "      <th>Cluster</th>\n",
              "    </tr>\n",
              "  </thead>\n",
              "  <tbody>\n",
              "    <tr>\n",
              "      <th>count</th>\n",
              "      <td>1974.000000</td>\n",
              "      <td>1.974000e+03</td>\n",
              "      <td>1974.000000</td>\n",
              "      <td>1974.000000</td>\n",
              "      <td>1974.000000</td>\n",
              "      <td>1974.000000</td>\n",
              "      <td>1974.000000</td>\n",
              "      <td>1974.000000</td>\n",
              "      <td>1974.0</td>\n",
              "    </tr>\n",
              "    <tr>\n",
              "      <th>mean</th>\n",
              "      <td>4.119048</td>\n",
              "      <td>2.623279e+07</td>\n",
              "      <td>1117.432490</td>\n",
              "      <td>1.011651</td>\n",
              "      <td>-1.978252</td>\n",
              "      <td>4.339664</td>\n",
              "      <td>-1.082780</td>\n",
              "      <td>1.640395</td>\n",
              "      <td>2.0</td>\n",
              "    </tr>\n",
              "    <tr>\n",
              "      <th>std</th>\n",
              "      <td>1.353231</td>\n",
              "      <td>1.340797e+07</td>\n",
              "      <td>578.329666</td>\n",
              "      <td>0.107338</td>\n",
              "      <td>1.434522</td>\n",
              "      <td>2.590988</td>\n",
              "      <td>1.009535</td>\n",
              "      <td>1.270898</td>\n",
              "      <td>0.0</td>\n",
              "    </tr>\n",
              "    <tr>\n",
              "      <th>min</th>\n",
              "      <td>1.000000</td>\n",
              "      <td>5.627443e+06</td>\n",
              "      <td>599.000000</td>\n",
              "      <td>1.000000</td>\n",
              "      <td>-13.801754</td>\n",
              "      <td>1.134225</td>\n",
              "      <td>-7.373375</td>\n",
              "      <td>-0.693138</td>\n",
              "      <td>2.0</td>\n",
              "    </tr>\n",
              "    <tr>\n",
              "      <th>25%</th>\n",
              "      <td>4.000000</td>\n",
              "      <td>1.507441e+07</td>\n",
              "      <td>750.000000</td>\n",
              "      <td>1.000000</td>\n",
              "      <td>-2.613550</td>\n",
              "      <td>2.764480</td>\n",
              "      <td>-1.569971</td>\n",
              "      <td>0.749511</td>\n",
              "      <td>2.0</td>\n",
              "    </tr>\n",
              "    <tr>\n",
              "      <th>50%</th>\n",
              "      <td>5.000000</td>\n",
              "      <td>2.455988e+07</td>\n",
              "      <td>899.300000</td>\n",
              "      <td>1.000000</td>\n",
              "      <td>-1.763852</td>\n",
              "      <td>3.615790</td>\n",
              "      <td>-1.252234</td>\n",
              "      <td>1.419073</td>\n",
              "      <td>2.0</td>\n",
              "    </tr>\n",
              "    <tr>\n",
              "      <th>75%</th>\n",
              "      <td>5.000000</td>\n",
              "      <td>3.630301e+07</td>\n",
              "      <td>1299.000000</td>\n",
              "      <td>1.000000</td>\n",
              "      <td>-1.021805</td>\n",
              "      <td>5.011959</td>\n",
              "      <td>-0.636929</td>\n",
              "      <td>2.287708</td>\n",
              "      <td>2.0</td>\n",
              "    </tr>\n",
              "    <tr>\n",
              "      <th>max</th>\n",
              "      <td>5.000000</td>\n",
              "      <td>6.550767e+07</td>\n",
              "      <td>6735.000000</td>\n",
              "      <td>2.000000</td>\n",
              "      <td>2.467566</td>\n",
              "      <td>29.776452</td>\n",
              "      <td>4.122538</td>\n",
              "      <td>12.790354</td>\n",
              "      <td>2.0</td>\n",
              "    </tr>\n",
              "  </tbody>\n",
              "</table>\n",
              "</div>\n",
              "      <button class=\"colab-df-convert\" onclick=\"convertToInteractive('df-68314eee-a696-441b-ac9e-45725f72a0c6')\"\n",
              "              title=\"Convert this dataframe to an interactive table.\"\n",
              "              style=\"display:none;\">\n",
              "        \n",
              "  <svg xmlns=\"http://www.w3.org/2000/svg\" height=\"24px\"viewBox=\"0 0 24 24\"\n",
              "       width=\"24px\">\n",
              "    <path d=\"M0 0h24v24H0V0z\" fill=\"none\"/>\n",
              "    <path d=\"M18.56 5.44l.94 2.06.94-2.06 2.06-.94-2.06-.94-.94-2.06-.94 2.06-2.06.94zm-11 1L8.5 8.5l.94-2.06 2.06-.94-2.06-.94L8.5 2.5l-.94 2.06-2.06.94zm10 10l.94 2.06.94-2.06 2.06-.94-2.06-.94-.94-2.06-.94 2.06-2.06.94z\"/><path d=\"M17.41 7.96l-1.37-1.37c-.4-.4-.92-.59-1.43-.59-.52 0-1.04.2-1.43.59L10.3 9.45l-7.72 7.72c-.78.78-.78 2.05 0 2.83L4 21.41c.39.39.9.59 1.41.59.51 0 1.02-.2 1.41-.59l7.78-7.78 2.81-2.81c.8-.78.8-2.07 0-2.86zM5.41 20L4 18.59l7.72-7.72 1.47 1.35L5.41 20z\"/>\n",
              "  </svg>\n",
              "      </button>\n",
              "      \n",
              "  <style>\n",
              "    .colab-df-container {\n",
              "      display:flex;\n",
              "      flex-wrap:wrap;\n",
              "      gap: 12px;\n",
              "    }\n",
              "\n",
              "    .colab-df-convert {\n",
              "      background-color: #E8F0FE;\n",
              "      border: none;\n",
              "      border-radius: 50%;\n",
              "      cursor: pointer;\n",
              "      display: none;\n",
              "      fill: #1967D2;\n",
              "      height: 32px;\n",
              "      padding: 0 0 0 0;\n",
              "      width: 32px;\n",
              "    }\n",
              "\n",
              "    .colab-df-convert:hover {\n",
              "      background-color: #E2EBFA;\n",
              "      box-shadow: 0px 1px 2px rgba(60, 64, 67, 0.3), 0px 1px 3px 1px rgba(60, 64, 67, 0.15);\n",
              "      fill: #174EA6;\n",
              "    }\n",
              "\n",
              "    [theme=dark] .colab-df-convert {\n",
              "      background-color: #3B4455;\n",
              "      fill: #D2E3FC;\n",
              "    }\n",
              "\n",
              "    [theme=dark] .colab-df-convert:hover {\n",
              "      background-color: #434B5C;\n",
              "      box-shadow: 0px 1px 3px 1px rgba(0, 0, 0, 0.15);\n",
              "      filter: drop-shadow(0px 1px 2px rgba(0, 0, 0, 0.3));\n",
              "      fill: #FFFFFF;\n",
              "    }\n",
              "  </style>\n",
              "\n",
              "      <script>\n",
              "        const buttonEl =\n",
              "          document.querySelector('#df-68314eee-a696-441b-ac9e-45725f72a0c6 button.colab-df-convert');\n",
              "        buttonEl.style.display =\n",
              "          google.colab.kernel.accessAllowed ? 'block' : 'none';\n",
              "\n",
              "        async function convertToInteractive(key) {\n",
              "          const element = document.querySelector('#df-68314eee-a696-441b-ac9e-45725f72a0c6');\n",
              "          const dataTable =\n",
              "            await google.colab.kernel.invokeFunction('convertToInteractive',\n",
              "                                                     [key], {});\n",
              "          if (!dataTable) return;\n",
              "\n",
              "          const docLinkHtml = 'Like what you see? Visit the ' +\n",
              "            '<a target=\"_blank\" href=https://colab.research.google.com/notebooks/data_table.ipynb>data table notebook</a>'\n",
              "            + ' to learn more about interactive tables.';\n",
              "          element.innerHTML = '';\n",
              "          dataTable['output_type'] = 'display_data';\n",
              "          await google.colab.output.renderOutput(dataTable, element);\n",
              "          const docLink = document.createElement('div');\n",
              "          docLink.innerHTML = docLinkHtml;\n",
              "          element.appendChild(docLink);\n",
              "        }\n",
              "      </script>\n",
              "    </div>\n",
              "  </div>\n",
              "  "
            ]
          },
          "metadata": {},
          "execution_count": 69
        }
      ]
    },
    {
      "cell_type": "code",
      "source": [
        "#Returning customers\n",
        "Cluster_3.describe()"
      ],
      "metadata": {
        "colab": {
          "base_uri": "https://localhost:8080/"
        },
        "outputId": "8a62fe3b-dc10-4b98-e966-eaad86039a0b",
        "id": "yt_oGSAtkk5R"
      },
      "execution_count": null,
      "outputs": [
        {
          "output_type": "execute_result",
          "data": {
            "text/plain": [
              "       review_score  Seconds_Since_Last_Order  Average_Price    frequency  \\\n",
              "count   2660.000000              2.660000e+03    2660.000000  2660.000000   \n",
              "mean       4.178947              2.425523e+07     101.219529     2.113910   \n",
              "std        1.292618              1.237929e+07      80.105155     0.516186   \n",
              "min        1.000000              5.151183e+06       5.990000     2.000000   \n",
              "25%        4.000000              1.443485e+07      49.322500     2.000000   \n",
              "50%        5.000000              2.241972e+07      79.625000     2.000000   \n",
              "75%        5.000000              3.267237e+07     129.000000     2.000000   \n",
              "max        5.000000              6.528789e+07     587.450000    16.000000   \n",
              "\n",
              "       Component 1  Component 2  Component 3  Component 4  Cluster  \n",
              "count  2660.000000  2660.000000  2660.000000  2660.000000   2660.0  \n",
              "mean      3.126938     0.786826     3.056117     2.977910      3.0  \n",
              "std       1.635971     0.736481     1.633469     1.611757      0.0  \n",
              "min       0.343319    -1.200507     1.741317     0.843251      3.0  \n",
              "25%       2.362251     0.349328     2.257736     2.171913      3.0  \n",
              "50%       2.994955     0.771319     2.314220     2.662539      3.0  \n",
              "75%       3.521939     1.145694     3.443485     3.342710      3.0  \n",
              "max      42.339333    11.849434    42.134201    41.871726      3.0  "
            ],
            "text/html": [
              "\n",
              "  <div id=\"df-99c6f898-c633-49e0-ad66-75ec1cee55aa\">\n",
              "    <div class=\"colab-df-container\">\n",
              "      <div>\n",
              "<style scoped>\n",
              "    .dataframe tbody tr th:only-of-type {\n",
              "        vertical-align: middle;\n",
              "    }\n",
              "\n",
              "    .dataframe tbody tr th {\n",
              "        vertical-align: top;\n",
              "    }\n",
              "\n",
              "    .dataframe thead th {\n",
              "        text-align: right;\n",
              "    }\n",
              "</style>\n",
              "<table border=\"1\" class=\"dataframe\">\n",
              "  <thead>\n",
              "    <tr style=\"text-align: right;\">\n",
              "      <th></th>\n",
              "      <th>review_score</th>\n",
              "      <th>Seconds_Since_Last_Order</th>\n",
              "      <th>Average_Price</th>\n",
              "      <th>frequency</th>\n",
              "      <th>Component 1</th>\n",
              "      <th>Component 2</th>\n",
              "      <th>Component 3</th>\n",
              "      <th>Component 4</th>\n",
              "      <th>Cluster</th>\n",
              "    </tr>\n",
              "  </thead>\n",
              "  <tbody>\n",
              "    <tr>\n",
              "      <th>count</th>\n",
              "      <td>2660.000000</td>\n",
              "      <td>2.660000e+03</td>\n",
              "      <td>2660.000000</td>\n",
              "      <td>2660.000000</td>\n",
              "      <td>2660.000000</td>\n",
              "      <td>2660.000000</td>\n",
              "      <td>2660.000000</td>\n",
              "      <td>2660.000000</td>\n",
              "      <td>2660.0</td>\n",
              "    </tr>\n",
              "    <tr>\n",
              "      <th>mean</th>\n",
              "      <td>4.178947</td>\n",
              "      <td>2.425523e+07</td>\n",
              "      <td>101.219529</td>\n",
              "      <td>2.113910</td>\n",
              "      <td>3.126938</td>\n",
              "      <td>0.786826</td>\n",
              "      <td>3.056117</td>\n",
              "      <td>2.977910</td>\n",
              "      <td>3.0</td>\n",
              "    </tr>\n",
              "    <tr>\n",
              "      <th>std</th>\n",
              "      <td>1.292618</td>\n",
              "      <td>1.237929e+07</td>\n",
              "      <td>80.105155</td>\n",
              "      <td>0.516186</td>\n",
              "      <td>1.635971</td>\n",
              "      <td>0.736481</td>\n",
              "      <td>1.633469</td>\n",
              "      <td>1.611757</td>\n",
              "      <td>0.0</td>\n",
              "    </tr>\n",
              "    <tr>\n",
              "      <th>min</th>\n",
              "      <td>1.000000</td>\n",
              "      <td>5.151183e+06</td>\n",
              "      <td>5.990000</td>\n",
              "      <td>2.000000</td>\n",
              "      <td>0.343319</td>\n",
              "      <td>-1.200507</td>\n",
              "      <td>1.741317</td>\n",
              "      <td>0.843251</td>\n",
              "      <td>3.0</td>\n",
              "    </tr>\n",
              "    <tr>\n",
              "      <th>25%</th>\n",
              "      <td>4.000000</td>\n",
              "      <td>1.443485e+07</td>\n",
              "      <td>49.322500</td>\n",
              "      <td>2.000000</td>\n",
              "      <td>2.362251</td>\n",
              "      <td>0.349328</td>\n",
              "      <td>2.257736</td>\n",
              "      <td>2.171913</td>\n",
              "      <td>3.0</td>\n",
              "    </tr>\n",
              "    <tr>\n",
              "      <th>50%</th>\n",
              "      <td>5.000000</td>\n",
              "      <td>2.241972e+07</td>\n",
              "      <td>79.625000</td>\n",
              "      <td>2.000000</td>\n",
              "      <td>2.994955</td>\n",
              "      <td>0.771319</td>\n",
              "      <td>2.314220</td>\n",
              "      <td>2.662539</td>\n",
              "      <td>3.0</td>\n",
              "    </tr>\n",
              "    <tr>\n",
              "      <th>75%</th>\n",
              "      <td>5.000000</td>\n",
              "      <td>3.267237e+07</td>\n",
              "      <td>129.000000</td>\n",
              "      <td>2.000000</td>\n",
              "      <td>3.521939</td>\n",
              "      <td>1.145694</td>\n",
              "      <td>3.443485</td>\n",
              "      <td>3.342710</td>\n",
              "      <td>3.0</td>\n",
              "    </tr>\n",
              "    <tr>\n",
              "      <th>max</th>\n",
              "      <td>5.000000</td>\n",
              "      <td>6.528789e+07</td>\n",
              "      <td>587.450000</td>\n",
              "      <td>16.000000</td>\n",
              "      <td>42.339333</td>\n",
              "      <td>11.849434</td>\n",
              "      <td>42.134201</td>\n",
              "      <td>41.871726</td>\n",
              "      <td>3.0</td>\n",
              "    </tr>\n",
              "  </tbody>\n",
              "</table>\n",
              "</div>\n",
              "      <button class=\"colab-df-convert\" onclick=\"convertToInteractive('df-99c6f898-c633-49e0-ad66-75ec1cee55aa')\"\n",
              "              title=\"Convert this dataframe to an interactive table.\"\n",
              "              style=\"display:none;\">\n",
              "        \n",
              "  <svg xmlns=\"http://www.w3.org/2000/svg\" height=\"24px\"viewBox=\"0 0 24 24\"\n",
              "       width=\"24px\">\n",
              "    <path d=\"M0 0h24v24H0V0z\" fill=\"none\"/>\n",
              "    <path d=\"M18.56 5.44l.94 2.06.94-2.06 2.06-.94-2.06-.94-.94-2.06-.94 2.06-2.06.94zm-11 1L8.5 8.5l.94-2.06 2.06-.94-2.06-.94L8.5 2.5l-.94 2.06-2.06.94zm10 10l.94 2.06.94-2.06 2.06-.94-2.06-.94-.94-2.06-.94 2.06-2.06.94z\"/><path d=\"M17.41 7.96l-1.37-1.37c-.4-.4-.92-.59-1.43-.59-.52 0-1.04.2-1.43.59L10.3 9.45l-7.72 7.72c-.78.78-.78 2.05 0 2.83L4 21.41c.39.39.9.59 1.41.59.51 0 1.02-.2 1.41-.59l7.78-7.78 2.81-2.81c.8-.78.8-2.07 0-2.86zM5.41 20L4 18.59l7.72-7.72 1.47 1.35L5.41 20z\"/>\n",
              "  </svg>\n",
              "      </button>\n",
              "      \n",
              "  <style>\n",
              "    .colab-df-container {\n",
              "      display:flex;\n",
              "      flex-wrap:wrap;\n",
              "      gap: 12px;\n",
              "    }\n",
              "\n",
              "    .colab-df-convert {\n",
              "      background-color: #E8F0FE;\n",
              "      border: none;\n",
              "      border-radius: 50%;\n",
              "      cursor: pointer;\n",
              "      display: none;\n",
              "      fill: #1967D2;\n",
              "      height: 32px;\n",
              "      padding: 0 0 0 0;\n",
              "      width: 32px;\n",
              "    }\n",
              "\n",
              "    .colab-df-convert:hover {\n",
              "      background-color: #E2EBFA;\n",
              "      box-shadow: 0px 1px 2px rgba(60, 64, 67, 0.3), 0px 1px 3px 1px rgba(60, 64, 67, 0.15);\n",
              "      fill: #174EA6;\n",
              "    }\n",
              "\n",
              "    [theme=dark] .colab-df-convert {\n",
              "      background-color: #3B4455;\n",
              "      fill: #D2E3FC;\n",
              "    }\n",
              "\n",
              "    [theme=dark] .colab-df-convert:hover {\n",
              "      background-color: #434B5C;\n",
              "      box-shadow: 0px 1px 3px 1px rgba(0, 0, 0, 0.15);\n",
              "      filter: drop-shadow(0px 1px 2px rgba(0, 0, 0, 0.3));\n",
              "      fill: #FFFFFF;\n",
              "    }\n",
              "  </style>\n",
              "\n",
              "      <script>\n",
              "        const buttonEl =\n",
              "          document.querySelector('#df-99c6f898-c633-49e0-ad66-75ec1cee55aa button.colab-df-convert');\n",
              "        buttonEl.style.display =\n",
              "          google.colab.kernel.accessAllowed ? 'block' : 'none';\n",
              "\n",
              "        async function convertToInteractive(key) {\n",
              "          const element = document.querySelector('#df-99c6f898-c633-49e0-ad66-75ec1cee55aa');\n",
              "          const dataTable =\n",
              "            await google.colab.kernel.invokeFunction('convertToInteractive',\n",
              "                                                     [key], {});\n",
              "          if (!dataTable) return;\n",
              "\n",
              "          const docLinkHtml = 'Like what you see? Visit the ' +\n",
              "            '<a target=\"_blank\" href=https://colab.research.google.com/notebooks/data_table.ipynb>data table notebook</a>'\n",
              "            + ' to learn more about interactive tables.';\n",
              "          element.innerHTML = '';\n",
              "          dataTable['output_type'] = 'display_data';\n",
              "          await google.colab.output.renderOutput(dataTable, element);\n",
              "          const docLink = document.createElement('div');\n",
              "          docLink.innerHTML = docLinkHtml;\n",
              "          element.appendChild(docLink);\n",
              "        }\n",
              "      </script>\n",
              "    </div>\n",
              "  </div>\n",
              "  "
            ]
          },
          "metadata": {},
          "execution_count": 70
        }
      ]
    },
    {
      "cell_type": "code",
      "source": [
        "#Customers giving good reviews, with a recent order but never returning to the website\n",
        "Cluster_4.describe()"
      ],
      "metadata": {
        "colab": {
          "base_uri": "https://localhost:8080/"
        },
        "outputId": "33147ff9-a1d3-4647-c191-c480c66da5ea",
        "id": "T4E4xyHnkk5S"
      },
      "execution_count": null,
      "outputs": [
        {
          "output_type": "execute_result",
          "data": {
            "text/plain": [
              "       review_score  Seconds_Since_Last_Order  Average_Price  frequency  \\\n",
              "count  42201.000000              4.220100e+04   42201.000000    42201.0   \n",
              "mean       4.675553              1.608960e+07     104.417274        1.0   \n",
              "std        0.555790              6.284451e+06      94.752648        0.0   \n",
              "min        3.000000              5.561963e+06       0.850000        1.0   \n",
              "25%        4.000000              1.057675e+07      39.990000        1.0   \n",
              "50%        5.000000              1.582079e+07      78.000000        1.0   \n",
              "75%        5.000000              2.145950e+07     134.170000        1.0   \n",
              "max        5.000000              2.791126e+07     650.000000        1.0   \n",
              "\n",
              "        Component 1   Component 2   Component 3   Component 4  Cluster  \n",
              "count  42201.000000  42201.000000  42201.000000  42201.000000  42201.0  \n",
              "mean       0.595694      0.216510     -0.415263     -0.481268      4.0  \n",
              "std        0.366464      0.484721      0.346138      0.393064      0.0  \n",
              "min       -1.061286     -0.682606     -1.168924     -1.581002      4.0  \n",
              "25%        0.351130     -0.108077     -0.613950     -0.775829      4.0  \n",
              "50%        0.605377      0.159035     -0.550992     -0.480276      4.0  \n",
              "75%        0.869289      0.425699     -0.097072     -0.189429      4.0  \n",
              "max        1.347336      2.963300      0.684946      1.020652      4.0  "
            ],
            "text/html": [
              "\n",
              "  <div id=\"df-b36e969c-2dea-48f1-a9ed-07bfad34d045\">\n",
              "    <div class=\"colab-df-container\">\n",
              "      <div>\n",
              "<style scoped>\n",
              "    .dataframe tbody tr th:only-of-type {\n",
              "        vertical-align: middle;\n",
              "    }\n",
              "\n",
              "    .dataframe tbody tr th {\n",
              "        vertical-align: top;\n",
              "    }\n",
              "\n",
              "    .dataframe thead th {\n",
              "        text-align: right;\n",
              "    }\n",
              "</style>\n",
              "<table border=\"1\" class=\"dataframe\">\n",
              "  <thead>\n",
              "    <tr style=\"text-align: right;\">\n",
              "      <th></th>\n",
              "      <th>review_score</th>\n",
              "      <th>Seconds_Since_Last_Order</th>\n",
              "      <th>Average_Price</th>\n",
              "      <th>frequency</th>\n",
              "      <th>Component 1</th>\n",
              "      <th>Component 2</th>\n",
              "      <th>Component 3</th>\n",
              "      <th>Component 4</th>\n",
              "      <th>Cluster</th>\n",
              "    </tr>\n",
              "  </thead>\n",
              "  <tbody>\n",
              "    <tr>\n",
              "      <th>count</th>\n",
              "      <td>42201.000000</td>\n",
              "      <td>4.220100e+04</td>\n",
              "      <td>42201.000000</td>\n",
              "      <td>42201.0</td>\n",
              "      <td>42201.000000</td>\n",
              "      <td>42201.000000</td>\n",
              "      <td>42201.000000</td>\n",
              "      <td>42201.000000</td>\n",
              "      <td>42201.0</td>\n",
              "    </tr>\n",
              "    <tr>\n",
              "      <th>mean</th>\n",
              "      <td>4.675553</td>\n",
              "      <td>1.608960e+07</td>\n",
              "      <td>104.417274</td>\n",
              "      <td>1.0</td>\n",
              "      <td>0.595694</td>\n",
              "      <td>0.216510</td>\n",
              "      <td>-0.415263</td>\n",
              "      <td>-0.481268</td>\n",
              "      <td>4.0</td>\n",
              "    </tr>\n",
              "    <tr>\n",
              "      <th>std</th>\n",
              "      <td>0.555790</td>\n",
              "      <td>6.284451e+06</td>\n",
              "      <td>94.752648</td>\n",
              "      <td>0.0</td>\n",
              "      <td>0.366464</td>\n",
              "      <td>0.484721</td>\n",
              "      <td>0.346138</td>\n",
              "      <td>0.393064</td>\n",
              "      <td>0.0</td>\n",
              "    </tr>\n",
              "    <tr>\n",
              "      <th>min</th>\n",
              "      <td>3.000000</td>\n",
              "      <td>5.561963e+06</td>\n",
              "      <td>0.850000</td>\n",
              "      <td>1.0</td>\n",
              "      <td>-1.061286</td>\n",
              "      <td>-0.682606</td>\n",
              "      <td>-1.168924</td>\n",
              "      <td>-1.581002</td>\n",
              "      <td>4.0</td>\n",
              "    </tr>\n",
              "    <tr>\n",
              "      <th>25%</th>\n",
              "      <td>4.000000</td>\n",
              "      <td>1.057675e+07</td>\n",
              "      <td>39.990000</td>\n",
              "      <td>1.0</td>\n",
              "      <td>0.351130</td>\n",
              "      <td>-0.108077</td>\n",
              "      <td>-0.613950</td>\n",
              "      <td>-0.775829</td>\n",
              "      <td>4.0</td>\n",
              "    </tr>\n",
              "    <tr>\n",
              "      <th>50%</th>\n",
              "      <td>5.000000</td>\n",
              "      <td>1.582079e+07</td>\n",
              "      <td>78.000000</td>\n",
              "      <td>1.0</td>\n",
              "      <td>0.605377</td>\n",
              "      <td>0.159035</td>\n",
              "      <td>-0.550992</td>\n",
              "      <td>-0.480276</td>\n",
              "      <td>4.0</td>\n",
              "    </tr>\n",
              "    <tr>\n",
              "      <th>75%</th>\n",
              "      <td>5.000000</td>\n",
              "      <td>2.145950e+07</td>\n",
              "      <td>134.170000</td>\n",
              "      <td>1.0</td>\n",
              "      <td>0.869289</td>\n",
              "      <td>0.425699</td>\n",
              "      <td>-0.097072</td>\n",
              "      <td>-0.189429</td>\n",
              "      <td>4.0</td>\n",
              "    </tr>\n",
              "    <tr>\n",
              "      <th>max</th>\n",
              "      <td>5.000000</td>\n",
              "      <td>2.791126e+07</td>\n",
              "      <td>650.000000</td>\n",
              "      <td>1.0</td>\n",
              "      <td>1.347336</td>\n",
              "      <td>2.963300</td>\n",
              "      <td>0.684946</td>\n",
              "      <td>1.020652</td>\n",
              "      <td>4.0</td>\n",
              "    </tr>\n",
              "  </tbody>\n",
              "</table>\n",
              "</div>\n",
              "      <button class=\"colab-df-convert\" onclick=\"convertToInteractive('df-b36e969c-2dea-48f1-a9ed-07bfad34d045')\"\n",
              "              title=\"Convert this dataframe to an interactive table.\"\n",
              "              style=\"display:none;\">\n",
              "        \n",
              "  <svg xmlns=\"http://www.w3.org/2000/svg\" height=\"24px\"viewBox=\"0 0 24 24\"\n",
              "       width=\"24px\">\n",
              "    <path d=\"M0 0h24v24H0V0z\" fill=\"none\"/>\n",
              "    <path d=\"M18.56 5.44l.94 2.06.94-2.06 2.06-.94-2.06-.94-.94-2.06-.94 2.06-2.06.94zm-11 1L8.5 8.5l.94-2.06 2.06-.94-2.06-.94L8.5 2.5l-.94 2.06-2.06.94zm10 10l.94 2.06.94-2.06 2.06-.94-2.06-.94-.94-2.06-.94 2.06-2.06.94z\"/><path d=\"M17.41 7.96l-1.37-1.37c-.4-.4-.92-.59-1.43-.59-.52 0-1.04.2-1.43.59L10.3 9.45l-7.72 7.72c-.78.78-.78 2.05 0 2.83L4 21.41c.39.39.9.59 1.41.59.51 0 1.02-.2 1.41-.59l7.78-7.78 2.81-2.81c.8-.78.8-2.07 0-2.86zM5.41 20L4 18.59l7.72-7.72 1.47 1.35L5.41 20z\"/>\n",
              "  </svg>\n",
              "      </button>\n",
              "      \n",
              "  <style>\n",
              "    .colab-df-container {\n",
              "      display:flex;\n",
              "      flex-wrap:wrap;\n",
              "      gap: 12px;\n",
              "    }\n",
              "\n",
              "    .colab-df-convert {\n",
              "      background-color: #E8F0FE;\n",
              "      border: none;\n",
              "      border-radius: 50%;\n",
              "      cursor: pointer;\n",
              "      display: none;\n",
              "      fill: #1967D2;\n",
              "      height: 32px;\n",
              "      padding: 0 0 0 0;\n",
              "      width: 32px;\n",
              "    }\n",
              "\n",
              "    .colab-df-convert:hover {\n",
              "      background-color: #E2EBFA;\n",
              "      box-shadow: 0px 1px 2px rgba(60, 64, 67, 0.3), 0px 1px 3px 1px rgba(60, 64, 67, 0.15);\n",
              "      fill: #174EA6;\n",
              "    }\n",
              "\n",
              "    [theme=dark] .colab-df-convert {\n",
              "      background-color: #3B4455;\n",
              "      fill: #D2E3FC;\n",
              "    }\n",
              "\n",
              "    [theme=dark] .colab-df-convert:hover {\n",
              "      background-color: #434B5C;\n",
              "      box-shadow: 0px 1px 3px 1px rgba(0, 0, 0, 0.15);\n",
              "      filter: drop-shadow(0px 1px 2px rgba(0, 0, 0, 0.3));\n",
              "      fill: #FFFFFF;\n",
              "    }\n",
              "  </style>\n",
              "\n",
              "      <script>\n",
              "        const buttonEl =\n",
              "          document.querySelector('#df-b36e969c-2dea-48f1-a9ed-07bfad34d045 button.colab-df-convert');\n",
              "        buttonEl.style.display =\n",
              "          google.colab.kernel.accessAllowed ? 'block' : 'none';\n",
              "\n",
              "        async function convertToInteractive(key) {\n",
              "          const element = document.querySelector('#df-b36e969c-2dea-48f1-a9ed-07bfad34d045');\n",
              "          const dataTable =\n",
              "            await google.colab.kernel.invokeFunction('convertToInteractive',\n",
              "                                                     [key], {});\n",
              "          if (!dataTable) return;\n",
              "\n",
              "          const docLinkHtml = 'Like what you see? Visit the ' +\n",
              "            '<a target=\"_blank\" href=https://colab.research.google.com/notebooks/data_table.ipynb>data table notebook</a>'\n",
              "            + ' to learn more about interactive tables.';\n",
              "          element.innerHTML = '';\n",
              "          dataTable['output_type'] = 'display_data';\n",
              "          await google.colab.output.renderOutput(dataTable, element);\n",
              "          const docLink = document.createElement('div');\n",
              "          docLink.innerHTML = docLinkHtml;\n",
              "          element.appendChild(docLink);\n",
              "        }\n",
              "      </script>\n",
              "    </div>\n",
              "  </div>\n",
              "  "
            ]
          },
          "metadata": {},
          "execution_count": 71
        }
      ]
    },
    {
      "cell_type": "markdown",
      "source": [
        "# DBScan and agglomerative clustering"
      ],
      "metadata": {
        "id": "yk0N3jsQ53zl"
      }
    },
    {
      "cell_type": "code",
      "source": [
        "def Find_eps(df):\n",
        "\n",
        "  X = df.iloc[:, -4:-1]\n",
        "  X = np.array(X)\n",
        "  neigh = NearestNeighbors(n_neighbors=2)\n",
        "  nbrs = neigh.fit(X)\n",
        "  distances, indices = nbrs.kneighbors(X)\n",
        "  distances = np.sort(distances, axis=0)\n",
        "  distances = distances[:,1]\n",
        "  plt.plot(distances)"
      ],
      "metadata": {
        "id": "ZERi8v6eJjKE"
      },
      "execution_count": null,
      "outputs": []
    },
    {
      "cell_type": "code",
      "source": [
        "def DBSCAN_Function(df, eps, min_samples):\n",
        "\n",
        "  X = df.iloc[:, -4:-1]\n",
        "  X = np.array(X)\n",
        "\n",
        "  dbscan_cluster = DBSCAN(eps=eps, min_samples=min_samples)\n",
        "  dbscan_cluster.fit(X)\n",
        "\n",
        "  # Visualizing DBSCAN\n",
        "  plt.scatter(X[:, 0], X[:, 1], c=dbscan_cluster.labels_)\n",
        "  plt.xlabel(\"$x_1$\")\n",
        "  plt.ylabel(\"$x_2$\")\n",
        "\n",
        "  # Number of Clusters\n",
        "  labels=dbscan_cluster.labels_\n",
        "  N_clus=len(set(labels))-(1 if -1 in labels else 0)\n",
        "  print('Estimated no. of clusters: %d' % N_clus)\n",
        "\n",
        "  # Identify Noise\n",
        "  n_noise = list(dbscan_cluster.labels_).count(-1)\n",
        "  print('Estimated no. of noise points: %d' % n_noise)"
      ],
      "metadata": {
        "id": "MkAwRPovwNhX"
      },
      "execution_count": null,
      "outputs": []
    },
    {
      "cell_type": "code",
      "source": [
        "def Show_dendrogram(df):\n",
        "\n",
        "  X = df.iloc[:, -4:-1]\n",
        "  X = np.array(X)\n",
        "  dendrogram = sch.dendrogram(sch.linkage(X, method='ward'))"
      ],
      "metadata": {
        "id": "qGzxEDaa0dGF"
      },
      "execution_count": null,
      "outputs": []
    },
    {
      "cell_type": "code",
      "source": [
        "def Agglomerative_Clustering(df, n_clusters):\n",
        "\n",
        "  X = df.iloc[:, -4:-1]\n",
        "  X = np.array(X)\n",
        "\n",
        "  model = AgglomerativeClustering(n_clusters=n_clusters, affinity='euclidean', linkage='ward')\n",
        "  model.fit(X)\n",
        "  labels = model.labels_\n",
        "\n",
        "  plt.scatter(X[labels==0, 0], X[labels==0, 1], s=50, marker='o', color='red')\n",
        "  plt.scatter(X[labels==1, 0], X[labels==1, 1], s=50, marker='o', color='blue')\n",
        "  plt.scatter(X[labels==2, 0], X[labels==2, 1], s=50, marker='o', color='green')\n",
        "  plt.scatter(X[labels==3, 0], X[labels==3, 1], s=50, marker='o', color='purple')\n",
        "  plt.scatter(X[labels==4, 0], X[labels==4, 1], s=50, marker='o', color='orange')\n",
        "  plt.show()"
      ],
      "metadata": {
        "id": "JUhp2duMul5N"
      },
      "execution_count": null,
      "outputs": []
    },
    {
      "cell_type": "code",
      "source": [
        "# Use of Nearest Neighbors to gain some insight into eps figure for DBSCAN (ie any number above 1)\n",
        "\n",
        "Find_eps(df_kmeans)"
      ],
      "metadata": {
        "colab": {
          "base_uri": "https://localhost:8080/"
        },
        "id": "XbUrLCI0sb0B",
        "outputId": "517a1643-4eea-49e2-bf3e-9c6eaed1868c"
      },
      "execution_count": null,
      "outputs": [
        {
          "output_type": "display_data",
          "data": {
            "text/plain": [
              "<Figure size 432x288 with 1 Axes>"
            ],
            "image/png": "[encoded data removed]"
          },
          "metadata": {
            "needs_background": "light"
          }
        }
      ]
    },
    {
      "cell_type": "code",
      "source": [
        "# DBSCAN function using the standardised dataset scores_pca with components from 'Seconds_Since_Last_Order', 'Sum_of_Prices', 'frequency'. \n",
        "# If I try to set eps to a higher number than 0.1 google colab crashes (Not enough RAM)\n",
        "\n",
        "eps = 0.1\n",
        "min_samples = 100\n",
        "\n",
        "DBSCAN_Function(df_kmeans, eps, min_samples)"
      ],
      "metadata": {
        "colab": {
          "base_uri": "https://localhost:8080/"
        },
        "id": "gB774_0Qlk6T",
        "outputId": "ca023d2c-16f1-4048-8720-7181d3373821"
      },
      "execution_count": null,
      "outputs": [
        {
          "output_type": "stream",
          "name": "stdout",
          "text": [
            "Estimated no. of clusters: 3\n",
            "Estimated no. of noise points: 10396\n"
          ]
        },
        {
          "output_type": "display_data",
          "data": {
            "text/plain": [
              "<Figure size 432x288 with 1 Axes>"
            ],
            "image/png": "[encoded data removed]"
          },
          "metadata": {
            "needs_background": "light"
          }
        }
      ]
    },
    {
      "cell_type": "code",
      "source": [
        "# Use of Nearest Neighbors to gain some insight into eps figure for DBSCAN (ie any number above 1)\n",
        "\n",
        "df_kmeans_sample = df_kmeans.sample(n=2000)\n",
        "\n",
        "Find_eps(df_kmeans_sample)"
      ],
      "metadata": {
        "colab": {
          "base_uri": "https://localhost:8080/"
        },
        "id": "lpCBYFGTsxcQ",
        "outputId": "5eeb867b-d87b-4515-acca-27c17522842c"
      },
      "execution_count": null,
      "outputs": [
        {
          "output_type": "display_data",
          "data": {
            "text/plain": [
              "<Figure size 432x288 with 1 Axes>"
            ],
            "image/png": "[encoded data removed]"
          },
          "metadata": {
            "needs_background": "light"
          }
        }
      ]
    },
    {
      "cell_type": "code",
      "source": [
        "# DBSCAN function using 2000 entries from standardised dataset scores_pca with components from 'Seconds_Since_Last_Order', 'Sum_of_Prices', 'frequency'.\n",
        "\n",
        "eps = 5\n",
        "min_samples = 100\n",
        "\n",
        "DBSCAN_Function(df_kmeans_sample, eps, min_samples)"
      ],
      "metadata": {
        "colab": {
          "base_uri": "https://localhost:8080/"
        },
        "id": "4AxN5zTj-92p",
        "outputId": "110e42b5-ea57-4d1f-bd5d-0723a47e6ad9"
      },
      "execution_count": null,
      "outputs": [
        {
          "output_type": "stream",
          "name": "stdout",
          "text": [
            "Estimated no. of clusters: 1\n",
            "Estimated no. of noise points: 5\n"
          ]
        },
        {
          "output_type": "display_data",
          "data": {
            "text/plain": [
              "<Figure size 432x288 with 1 Axes>"
            ],
            "image/png": "[encoded data removed]"
          },
          "metadata": {
            "needs_background": "light"
          }
        }
      ]
    },
    {
      "cell_type": "markdown",
      "source": [
        "DBSCAN is not sutiable for this application as it is based on density. The dataset is not dense, also it seems much more demanding in terms of RAM than KMeans"
      ],
      "metadata": {
        "id": "N4y_oRrA-zIa"
      }
    },
    {
      "cell_type": "code",
      "source": [
        "# Agglomerative Clustering function using 2000 entries from standardised dataset scores_pca with components from 'Seconds_Since_Last_Order', 'Sum_of_Prices', 'frequency'. \n",
        "# If I try to use the whole dataset google colab crashes (Not enough RAM)\n",
        "\n",
        "df_kmeans_sample = df_kmeans.sample(n=2000)\n",
        "\n",
        "Show_dendrogram(df_kmeans_sample)"
      ],
      "metadata": {
        "colab": {
          "base_uri": "https://localhost:8080/"
        },
        "id": "JKPS_6QW0yDy",
        "outputId": "ef48a14f-fb3f-4daa-b2ae-03fcec2e7fed"
      },
      "execution_count": null,
      "outputs": [
        {
          "output_type": "display_data",
          "data": {
            "text/plain": [
              "<Figure size 432x288 with 1 Axes>"
            ],
            "image/png": "[encoded data removed]"
          },
          "metadata": {
            "needs_background": "light"
          }
        }
      ]
    },
    {
      "cell_type": "code",
      "source": [
        "n_clusters = 4\n",
        "\n",
        "Agglomerative_Clustering(df_kmeans_sample, n_clusters)"
      ],
      "metadata": {
        "colab": {
          "base_uri": "https://localhost:8080/"
        },
        "id": "ewQVz8Aiu4dA",
        "outputId": "35135e69-abc5-4c8e-a95b-56cb6c0f33c1"
      },
      "execution_count": null,
      "outputs": [
        {
          "output_type": "display_data",
          "data": {
            "text/plain": [
              "<Figure size 432x288 with 1 Axes>"
            ],
            "image/png": "[encoded data removed]"
          },
          "metadata": {
            "needs_background": "light"
          }
        }
      ]
    },
    {
      "cell_type": "markdown",
      "source": [
        "Agglomerative clustering works okay on a smaple of the dataset but like DBSCAN it is very demanding in terms of RAM requirements"
      ],
      "metadata": {
        "id": "7DEJKcBO_TCL"
      }
    }
  ]
}