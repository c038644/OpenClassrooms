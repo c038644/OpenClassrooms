{
  "nbformat": 4,
  "nbformat_minor": 0,
  "metadata": {
    "colab": {
      "provenance": [],
      "collapsed_sections": [
        "lWv5yW8vZ98K"
      ]
    },
    "kernelspec": {
      "name": "python3",
      "display_name": "Python 3"
    },
    "language_info": {
      "name": "python"
    }
  },
  "cells": [
    {
      "cell_type": "markdown",
      "source": [
        "# Code that works with google colab"
      ],
      "metadata": {
        "id": "lWv5yW8vZ98K"
      }
    },
    {
      "cell_type": "code",
      "execution_count": null,
      "metadata": {
        "id": "eVQHWMP3Z59T"
      },
      "outputs": [],
      "source": [
        "from google.colab import drive\n",
        "drive.mount('/content/drive')"
      ]
    },
    {
      "cell_type": "code",
      "execution_count": null,
      "metadata": {
        "id": "yCLQOmDqgMyZ"
      },
      "outputs": [],
      "source": [
        "from pyspark import SparkContext\n",
        "from pyspark.sql import SparkSession\n",
        "from pyspark.sql.functions import pandas_udf, col, split,udf\n",
        "from pyspark.sql.types import StructType, StructField, ArrayType, IntegerType, FloatType\n",
        "from typing import Iterator\n",
        "import pandas as pd"
      ]
    },
    {
      "cell_type": "code",
      "source": [
        "import tensorflow as tf\n",
        "\n",
        "from tensorflow.keras.applications.resnet50 import ResNet50, preprocess_input\n",
        "from tensorflow.keras.preprocessing.image import img_to_array, load_img"
      ],
      "metadata": {
        "id": "viqE3ofVgMyg"
      },
      "execution_count": null,
      "outputs": []
    },
    {
      "cell_type": "code",
      "execution_count": null,
      "metadata": {
        "id": "W6XjPsQTgMyg"
      },
      "outputs": [],
      "source": [
        "sc = SparkContext.getOrCreate()\n",
        "spark = SparkSession.builder.getOrCreate()"
      ]
    },
    {
      "cell_type": "code",
      "source": [
        "df = spark.read.format(\"image\").option(\"recursiveFileLookup\",\"true\").load(\"/content/drive/MyDrive/A/*\").limit(10)\n",
        "\n",
        "df.show()"
      ],
      "metadata": {
        "colab": {
          "base_uri": "https://localhost:8080/"
        },
        "id": "uNYMeg5-uDEE",
        "outputId": "7189917d-d551-4a13-9df8-ac1a16ca1d26"
      },
      "execution_count": null,
      "outputs": [
        {
          "output_type": "stream",
          "name": "stdout",
          "text": [
            "+--------------------+\n",
            "|               image|\n",
            "+--------------------+\n",
            "|{file:///content/...|\n",
            "|{file:///content/...|\n",
            "|{file:///content/...|\n",
            "|{file:///content/...|\n",
            "|{file:///content/...|\n",
            "|{file:///content/...|\n",
            "|{file:///content/...|\n",
            "|{file:///content/...|\n",
            "|{file:///content/...|\n",
            "|{file:///content/...|\n",
            "+--------------------+\n",
            "\n"
          ]
        }
      ]
    },
    {
      "cell_type": "code",
      "execution_count": null,
      "metadata": {
        "id": "oZtdR7JQgMyi",
        "colab": {
          "base_uri": "https://localhost:8080/"
        },
        "outputId": "7cafabda-f26f-43dd-beab-e3c35ddd08ce"
      },
      "outputs": [
        {
          "output_type": "execute_result",
          "data": {
            "text/plain": [
              "10"
            ]
          },
          "metadata": {},
          "execution_count": 13
        }
      ],
      "source": [
        "df.count()"
      ]
    },
    {
      "cell_type": "code",
      "source": [
        "df.printSchema()"
      ],
      "metadata": {
        "id": "1G9W0FlcgMyj",
        "colab": {
          "base_uri": "https://localhost:8080/"
        },
        "outputId": "ed4fe937-10f3-4f70-db83-bf75e1db3a3d"
      },
      "execution_count": null,
      "outputs": [
        {
          "output_type": "stream",
          "name": "stdout",
          "text": [
            "root\n",
            " |-- image: struct (nullable = true)\n",
            " |    |-- origin: string (nullable = true)\n",
            " |    |-- height: integer (nullable = true)\n",
            " |    |-- width: integer (nullable = true)\n",
            " |    |-- nChannels: integer (nullable = true)\n",
            " |    |-- mode: integer (nullable = true)\n",
            " |    |-- data: binary (nullable = true)\n",
            "\n"
          ]
        }
      ]
    },
    {
      "cell_type": "code",
      "source": [
        "from pyspark.sql.functions import split, element_at\n",
        "\n",
        "\n",
        "df = df.withColumn('Data Set', element_at(split(df['image.origin'], \"/\"), -3))\n",
        "df = df.withColumn('Fruit', element_at(split(df['image.origin'], \"/\"), -2))\n",
        "df = df.withColumn('File Name', element_at(split(df['image.origin'], \"/\"), -1))\n",
        "\n",
        "df.show()"
      ],
      "metadata": {
        "id": "ViANZziUgMyl",
        "colab": {
          "base_uri": "https://localhost:8080/"
        },
        "outputId": "0e3034c7-acee-403a-c9b1-111f76130b09"
      },
      "execution_count": null,
      "outputs": [
        {
          "output_type": "stream",
          "name": "stdout",
          "text": [
            "+--------------------+--------+------------------+--------------+\n",
            "|               image|Data Set|             Fruit|     File Name|\n",
            "+--------------------+--------+------------------+--------------+\n",
            "|{file:///content/...|       A|Banana_Lady_Finger| r2_95_100.jpg|\n",
            "|{file:///content/...|       A|Banana_Lady_Finger|r2_154_100.jpg|\n",
            "|{file:///content/...|       A|Banana_Lady_Finger| r2_92_100.jpg|\n",
            "|{file:///content/...|       A|Banana_Lady_Finger| r2_86_100.jpg|\n",
            "|{file:///content/...|       A|Banana_Lady_Finger| r2_87_100.jpg|\n",
            "|{file:///content/...|       A|Banana_Lady_Finger|r2_109_100.jpg|\n",
            "|{file:///content/...|       A|Banana_Lady_Finger| r2_93_100.jpg|\n",
            "|{file:///content/...|       A|Banana_Lady_Finger| r2_89_100.jpg|\n",
            "|{file:///content/...|       A|Banana_Lady_Finger|r2_183_100.jpg|\n",
            "|{file:///content/...|       A|Banana_Lady_Finger|r2_199_100.jpg|\n",
            "+--------------------+--------+------------------+--------------+\n",
            "\n"
          ]
        }
      ]
    },
    {
      "cell_type": "code",
      "execution_count": null,
      "metadata": {
        "id": "3-7Flvy1gMym",
        "colab": {
          "base_uri": "https://localhost:8080/"
        },
        "outputId": "6b79baf2-a585-47c6-d5c1-462a8d49e57b"
      },
      "outputs": [
        {
          "output_type": "stream",
          "name": "stdout",
          "text": [
            "+--------------------+--------+------------------+--------------+--------------------+\n",
            "|               image|Data Set|             Fruit|     File Name|                vecs|\n",
            "+--------------------+--------+------------------+--------------+--------------------+\n",
            "|{file:///content/...|       A|Banana_Lady_Finger| r2_95_100.jpg|[255.0,255.0,255....|\n",
            "|{file:///content/...|       A|Banana_Lady_Finger|r2_154_100.jpg|[255.0,255.0,255....|\n",
            "|{file:///content/...|       A|Banana_Lady_Finger| r2_92_100.jpg|[255.0,255.0,255....|\n",
            "|{file:///content/...|       A|Banana_Lady_Finger| r2_86_100.jpg|[255.0,255.0,255....|\n",
            "|{file:///content/...|       A|Banana_Lady_Finger| r2_87_100.jpg|[255.0,255.0,255....|\n",
            "|{file:///content/...|       A|Banana_Lady_Finger|r2_109_100.jpg|[255.0,255.0,255....|\n",
            "|{file:///content/...|       A|Banana_Lady_Finger| r2_93_100.jpg|[255.0,255.0,255....|\n",
            "|{file:///content/...|       A|Banana_Lady_Finger| r2_89_100.jpg|[255.0,255.0,255....|\n",
            "|{file:///content/...|       A|Banana_Lady_Finger|r2_183_100.jpg|[255.0,255.0,255....|\n",
            "|{file:///content/...|       A|Banana_Lady_Finger|r2_199_100.jpg|[255.0,255.0,255....|\n",
            "+--------------------+--------+------------------+--------------+--------------------+\n",
            "\n"
          ]
        }
      ],
      "source": [
        "import pyspark.sql.functions as F\n",
        "from pyspark.ml.image import ImageSchema\n",
        "from pyspark.ml.linalg import DenseVector, VectorUDT, Vectors\n",
        "\n",
        "ImageSchema.imageFields\n",
        "\n",
        "img2vec = F.udf(lambda x: DenseVector(ImageSchema.toNDArray(x).flatten()), VectorUDT())\n",
        "df = df.withColumn('vecs', img2vec(\"image\"))\n",
        "\n",
        "df.show()"
      ]
    },
    {
      "cell_type": "code",
      "source": [
        "neural_network = ResNet50(\n",
        "    include_top=False,\n",
        "    weights=None,\n",
        "    pooling='max',\n",
        "    input_shape=(100, 100, 3))\n",
        "\n",
        "neural_network_weights = spark.sparkContext.broadcast(neural_network.get_weights())\n"
      ],
      "metadata": {
        "id": "pmE3JCrOgMyp"
      },
      "execution_count": null,
      "outputs": []
    },
    {
      "cell_type": "code",
      "source": [
        "def neural_network_init():\n",
        "    # returns a ResNet50 model\n",
        "    neural_network = ResNet50(\n",
        "        include_top=False,\n",
        "        weights=None,\n",
        "        pooling='max',\n",
        "        input_shape=(100, 100, 3))\n",
        "\n",
        "    neural_network.set_weights(neural_network_weights.value)\n",
        "    return neural_network"
      ],
      "metadata": {
        "id": "RM76wQa9gMyp"
      },
      "execution_count": null,
      "outputs": []
    },
    {
      "cell_type": "code",
      "source": [
        "import numpy as np\n",
        "\n",
        "def gettensorfrompath(image_path):\n",
        "    path = image_path.replace(\"file:\", \"\")\n",
        "    img = load_img(path)\n",
        "    x = img_to_array(img)\n",
        "    x = preprocess_input(x)\n",
        "    return x\n",
        "\n",
        "@pandas_udf('array<double>')\n",
        "def featurize(images_data_iter: Iterator[pd.DataFrame]) -> Iterator[pd.DataFrame]:\n",
        "    # load model outside of for loop\n",
        "    neural_network = neural_network_init()\n",
        "    for image_data_series in images_data_iter:\n",
        "        image_path_series = image_data_series['origin']\n",
        "        # Apply functions to entire series at once\n",
        "        x = image_path_series.map(gettensorfrompath)\n",
        "        x = np.stack(list(x.values))\n",
        "        # option is to enable batch_size\n",
        "        features = neural_network.predict(x)\n",
        "        features_flat = [p.flatten() for p in features]\n",
        "        yield pd.Series(features_flat)"
      ],
      "metadata": {
        "id": "NsUczw-ugMyq"
      },
      "execution_count": null,
      "outputs": []
    },
    {
      "cell_type": "code",
      "source": [
        "featurized_df = df.withColumn('ResNet50_Features', featurize('image')).cache()"
      ],
      "metadata": {
        "id": "R5_qexn2gMyr"
      },
      "execution_count": null,
      "outputs": []
    },
    {
      "cell_type": "code",
      "source": [
        "featurized_df.show()"
      ],
      "metadata": {
        "id": "nGcBEvzPgMys",
        "colab": {
          "base_uri": "https://localhost:8080/"
        },
        "outputId": "6a804a3f-be59-49c5-e0c0-f8848219de1c"
      },
      "execution_count": null,
      "outputs": [
        {
          "output_type": "stream",
          "name": "stdout",
          "text": [
            "+--------------------+--------+------------------+--------------+--------------------+--------------------+\n",
            "|               image|Data Set|             Fruit|     File Name|                vecs|   ResNet50_Features|\n",
            "+--------------------+--------+------------------+--------------+--------------------+--------------------+\n",
            "|{file:///content/...|       A|Banana_Lady_Finger| r2_95_100.jpg|[255.0,255.0,255....|[16.2176494598388...|\n",
            "|{file:///content/...|       A|Banana_Lady_Finger|r2_154_100.jpg|[255.0,255.0,255....|[16.9476146697998...|\n",
            "|{file:///content/...|       A|Banana_Lady_Finger| r2_92_100.jpg|[255.0,255.0,255....|[16.2326622009277...|\n",
            "|{file:///content/...|       A|Banana_Lady_Finger| r2_86_100.jpg|[255.0,255.0,255....|[16.1318664550781...|\n",
            "|{file:///content/...|       A|Banana_Lady_Finger| r2_87_100.jpg|[255.0,255.0,255....|[16.2308292388916...|\n",
            "|{file:///content/...|       A|Banana_Lady_Finger|r2_109_100.jpg|[255.0,255.0,255....|[15.9981527328491...|\n",
            "|{file:///content/...|       A|Banana_Lady_Finger| r2_93_100.jpg|[255.0,255.0,255....|[16.2638778686523...|\n",
            "|{file:///content/...|       A|Banana_Lady_Finger| r2_89_100.jpg|[255.0,255.0,255....|[16.4402542114257...|\n",
            "|{file:///content/...|       A|Banana_Lady_Finger|r2_183_100.jpg|[255.0,255.0,255....|[15.3449907302856...|\n",
            "|{file:///content/...|       A|Banana_Lady_Finger|r2_199_100.jpg|[255.0,255.0,255....|[15.1479663848876...|\n",
            "+--------------------+--------+------------------+--------------+--------------------+--------------------+\n",
            "\n"
          ]
        }
      ]
    },
    {
      "cell_type": "code",
      "source": [
        "array_to_vector_udf = udf(lambda l: Vectors.dense(l), VectorUDT())"
      ],
      "metadata": {
        "id": "tldXnPA6gMyu"
      },
      "execution_count": null,
      "outputs": []
    },
    {
      "cell_type": "code",
      "source": [
        "vectorized_df = featurized_df.withColumn('ResNet50_Vectors', array_to_vector_udf('ResNet50_Features'))\n"
      ],
      "metadata": {
        "id": "ycz0QfIHgMyu"
      },
      "execution_count": null,
      "outputs": []
    },
    {
      "cell_type": "code",
      "source": [
        "vectorized_df.show()"
      ],
      "metadata": {
        "id": "A80YXcZpgMyw",
        "colab": {
          "base_uri": "https://localhost:8080/"
        },
        "outputId": "b16c7a20-5a0f-4751-d0ee-62e95f3e367b"
      },
      "execution_count": null,
      "outputs": [
        {
          "output_type": "stream",
          "name": "stdout",
          "text": [
            "+--------------------+--------+------------------+--------------+--------------------+--------------------+--------------------+\n",
            "|               image|Data Set|             Fruit|     File Name|                vecs|   ResNet50_Features|    ResNet50_Vectors|\n",
            "+--------------------+--------+------------------+--------------+--------------------+--------------------+--------------------+\n",
            "|{file:///content/...|       A|Banana_Lady_Finger| r2_95_100.jpg|[255.0,255.0,255....|[16.2176494598388...|[16.2176494598388...|\n",
            "|{file:///content/...|       A|Banana_Lady_Finger|r2_154_100.jpg|[255.0,255.0,255....|[16.9476146697998...|[16.9476146697998...|\n",
            "|{file:///content/...|       A|Banana_Lady_Finger| r2_92_100.jpg|[255.0,255.0,255....|[16.2326622009277...|[16.2326622009277...|\n",
            "|{file:///content/...|       A|Banana_Lady_Finger| r2_86_100.jpg|[255.0,255.0,255....|[16.1318664550781...|[16.1318664550781...|\n",
            "|{file:///content/...|       A|Banana_Lady_Finger| r2_87_100.jpg|[255.0,255.0,255....|[16.2308292388916...|[16.2308292388916...|\n",
            "|{file:///content/...|       A|Banana_Lady_Finger|r2_109_100.jpg|[255.0,255.0,255....|[15.9981527328491...|[15.9981527328491...|\n",
            "|{file:///content/...|       A|Banana_Lady_Finger| r2_93_100.jpg|[255.0,255.0,255....|[16.2638778686523...|[16.2638778686523...|\n",
            "|{file:///content/...|       A|Banana_Lady_Finger| r2_89_100.jpg|[255.0,255.0,255....|[16.4402542114257...|[16.4402542114257...|\n",
            "|{file:///content/...|       A|Banana_Lady_Finger|r2_183_100.jpg|[255.0,255.0,255....|[15.3449907302856...|[15.3449907302856...|\n",
            "|{file:///content/...|       A|Banana_Lady_Finger|r2_199_100.jpg|[255.0,255.0,255....|[15.1479663848876...|[15.1479663848876...|\n",
            "+--------------------+--------+------------------+--------------+--------------------+--------------------+--------------------+\n",
            "\n"
          ]
        }
      ]
    },
    {
      "cell_type": "code",
      "source": [
        "from pyspark.ml.feature import PCA\n",
        "\n",
        "pca = PCA(k=10, inputCol='ResNet50_Vectors', outputCol='PCA_Vectors')\n",
        "model = pca.fit(vectorized_df)"
      ],
      "metadata": {
        "id": "3EdFXAT3gMyw"
      },
      "execution_count": null,
      "outputs": []
    },
    {
      "cell_type": "code",
      "source": [
        "final_df = model.transform(vectorized_df)"
      ],
      "metadata": {
        "id": "jrEoI7K1gMyz"
      },
      "execution_count": null,
      "outputs": []
    },
    {
      "cell_type": "code",
      "source": [
        "final_df.show()"
      ],
      "metadata": {
        "id": "RsRvlOWJgMyz",
        "colab": {
          "base_uri": "https://localhost:8080/"
        },
        "outputId": "20719663-2d96-4fcb-df32-a30a6b82f13f"
      },
      "execution_count": null,
      "outputs": [
        {
          "output_type": "stream",
          "name": "stdout",
          "text": [
            "+--------------------+--------+------------------+--------------+--------------------+--------------------+--------------------+--------------------+\n",
            "|               image|Data Set|             Fruit|     File Name|                vecs|   ResNet50_Features|    ResNet50_Vectors|         PCA_Vectors|\n",
            "+--------------------+--------+------------------+--------------+--------------------+--------------------+--------------------+--------------------+\n",
            "|{file:///content/...|       A|Banana_Lady_Finger| r2_95_100.jpg|[255.0,255.0,255....|[16.2176494598388...|[16.2176494598388...|[-166.77434302816...|\n",
            "|{file:///content/...|       A|Banana_Lady_Finger|r2_154_100.jpg|[255.0,255.0,255....|[16.9476146697998...|[16.9476146697998...|[-100.32605925791...|\n",
            "|{file:///content/...|       A|Banana_Lady_Finger| r2_92_100.jpg|[255.0,255.0,255....|[16.2326622009277...|[16.2326622009277...|[-169.58092669487...|\n",
            "|{file:///content/...|       A|Banana_Lady_Finger| r2_86_100.jpg|[255.0,255.0,255....|[16.1318664550781...|[16.1318664550781...|[-163.36378067045...|\n",
            "|{file:///content/...|       A|Banana_Lady_Finger| r2_87_100.jpg|[255.0,255.0,255....|[16.2308292388916...|[16.2308292388916...|[-164.51476954341...|\n",
            "|{file:///content/...|       A|Banana_Lady_Finger|r2_109_100.jpg|[255.0,255.0,255....|[15.9981527328491...|[15.9981527328491...|[-136.75514207152...|\n",
            "|{file:///content/...|       A|Banana_Lady_Finger| r2_93_100.jpg|[255.0,255.0,255....|[16.2638778686523...|[16.2638778686523...|[-168.24304255516...|\n",
            "|{file:///content/...|       A|Banana_Lady_Finger| r2_89_100.jpg|[255.0,255.0,255....|[16.4402542114257...|[16.4402542114257...|[-165.09575395126...|\n",
            "|{file:///content/...|       A|Banana_Lady_Finger|r2_183_100.jpg|[255.0,255.0,255....|[15.3449907302856...|[15.3449907302856...|[-122.18477178633...|\n",
            "|{file:///content/...|       A|Banana_Lady_Finger|r2_199_100.jpg|[255.0,255.0,255....|[15.1479663848876...|[15.1479663848876...|[-118.93139648601...|\n",
            "+--------------------+--------+------------------+--------------+--------------------+--------------------+--------------------+--------------------+\n",
            "\n"
          ]
        }
      ]
    },
    {
      "cell_type": "code",
      "execution_count": null,
      "metadata": {
        "id": "z16ZT62pgMy0"
      },
      "outputs": [],
      "source": [
        "from pyspark.sql.functions import udf\n",
        "from pyspark.sql.types import StringType\n",
        "\n",
        "def array_to_string(my_list):\n",
        "    return '[' + ','.join([str(elem) for elem in my_list]) + ']'\n",
        "\n",
        "array_to_string_udf = udf(array_to_string, StringType())\n",
        "\n",
        "df1 = final_df.withColumn('Features', array_to_string_udf(final_df[\"PCA_Vectors\"]))"
      ]
    },
    {
      "cell_type": "code",
      "execution_count": null,
      "metadata": {
        "id": "uSAzEX6ugMy0"
      },
      "outputs": [],
      "source": [
        "df2 = df1.drop(\"image\", \"vecs\", \"ResNet50_Features\", \"ResNet50_Vectors\", \"PCA_Vectors\")"
      ]
    },
    {
      "cell_type": "code",
      "source": [
        "df2.show()"
      ],
      "metadata": {
        "id": "6OXBrzn7gMy0",
        "colab": {
          "base_uri": "https://localhost:8080/"
        },
        "outputId": "4aa1327b-55f7-421a-ca39-8e0aec9e3924"
      },
      "execution_count": null,
      "outputs": [
        {
          "output_type": "stream",
          "name": "stdout",
          "text": [
            "+--------+------------------+--------------+--------------------+\n",
            "|Data Set|             Fruit|     File Name|            Features|\n",
            "+--------+------------------+--------------+--------------------+\n",
            "|       A|Banana_Lady_Finger| r2_95_100.jpg|[-166.77434302816...|\n",
            "|       A|Banana_Lady_Finger|r2_154_100.jpg|[-100.32605925791...|\n",
            "|       A|Banana_Lady_Finger| r2_92_100.jpg|[-169.58092669487...|\n",
            "|       A|Banana_Lady_Finger| r2_86_100.jpg|[-163.36378067045...|\n",
            "|       A|Banana_Lady_Finger| r2_87_100.jpg|[-164.51476954341...|\n",
            "|       A|Banana_Lady_Finger|r2_109_100.jpg|[-136.75514207152...|\n",
            "|       A|Banana_Lady_Finger| r2_93_100.jpg|[-168.24304255516...|\n",
            "|       A|Banana_Lady_Finger| r2_89_100.jpg|[-165.09575395126...|\n",
            "|       A|Banana_Lady_Finger|r2_183_100.jpg|[-122.18477178633...|\n",
            "|       A|Banana_Lady_Finger|r2_199_100.jpg|[-118.93139648601...|\n",
            "+--------+------------------+--------------+--------------------+\n",
            "\n"
          ]
        }
      ]
    },
    {
      "cell_type": "code",
      "execution_count": null,
      "metadata": {
        "id": "PB1pQP6ogMy1"
      },
      "outputs": [],
      "source": [
        "# Write DataFrame data to CSV file\n",
        "df2.write.csv(\"/content/drive/MyDrive/data_to_csv\")"
      ]
    },
    {
      "cell_type": "code",
      "execution_count": null,
      "metadata": {
        "id": "-hv76d6dgMy1"
      },
      "outputs": [],
      "source": [
        "sc.stop()"
      ]
    },
    {
      "cell_type": "markdown",
      "source": [
        "# Code that works with AWS"
      ],
      "metadata": {
        "id": "sGksllbGaF1g"
      }
    },
    {
      "cell_type": "code",
      "source": [
        "#pip install pandas\n",
        "#pip install tensorflow\n",
        "#pip install pillow\n",
        "#pip install boto3\n",
        "\n",
        "from pyspark import SparkContext\n",
        "from pyspark.sql import SparkSession\n",
        "from pyspark.sql.functions import pandas_udf, col, split,udf\n",
        "from pyspark.sql.types import StructType, StructField, ArrayType, IntegerType, FloatType\n",
        "from typing import Iterator\n",
        "\n",
        "import pandas as pd\n",
        "import numpy as np\n",
        "import tensorflow as tf\n",
        "from PIL import Image\n",
        "\n",
        "from tensorflow.keras.applications.resnet50 import ResNet50, preprocess_input\n",
        "from tensorflow.keras.preprocessing.image import img_to_array, load_img\n",
        "\n",
        "sc = SparkContext.getOrCreate()\n",
        "spark = SparkSession.builder.getOrCreate()\n",
        "\n",
        "from pyspark.sql.functions import split, element_at\n",
        "import pyspark.sql.functions as F\n",
        "from pyspark.ml.image import ImageSchema\n",
        "from pyspark.ml.linalg import DenseVector, VectorUDT, Vectors\n",
        "\n",
        "neural_network = ResNet50(\n",
        "    include_top=False,\n",
        "    weights=None,\n",
        "    pooling='max',\n",
        "    input_shape=(100, 100, 3))\n",
        "\n",
        "neural_network_weights = spark.sparkContext.broadcast(neural_network.get_weights())\n",
        "\n",
        "\n",
        "import boto3\n",
        "# Get resources stored in AWS S3 service\n",
        "s3 = boto3.resource('s3')\n",
        "files = s3.Bucket('cdk-hnb659fds-assets-127319039344-eu-west-3')\n",
        "\n",
        "def neural_network_init():\n",
        "    neural_network = ResNet50(\n",
        "        include_top=False,\n",
        "        weights=None,\n",
        "        pooling='max',\n",
        "        input_shape=(100, 100, 3))\n",
        "    # error if sparkcontext as it will be called on workers and not only drivers\n",
        "    # neural_network_weights = sc.broadcast(neural_network.get_weights())\n",
        "    neural_network.set_weights(neural_network_weights.value)\n",
        "    return neural_network\n",
        "\n",
        "list_path_img = []\n",
        "for file in files.objects.limit(500):\n",
        "    obj = files.Object(file.key)\n",
        "    Fruit = file.key.split('/')[-2]\n",
        "    #File_Name = file.key.split('/')[-1]\n",
        "    response = obj.get()\n",
        "    file_stream = response['Body']\n",
        "    img = Image.open(file_stream)\n",
        "    # convert image to flatten array\n",
        "    flat_array = np.array(img).ravel().tolist()\n",
        "    tensor = np.array(flat_array).reshape(1, 100, 100, 3).astype(np.uint8)\n",
        "    # preprocess input\n",
        "    prep_tensor = preprocess_input(tensor)\n",
        "    features = neural_network.predict(prep_tensor).ravel().tolist()\n",
        "    # Store file key and features\n",
        "    list_path_img.append((file.key, Fruit, features))\n",
        "\n",
        "\n",
        "# Create spark dataframe from previous list of tuples\n",
        "df_img = spark.createDataFrame(list_path_img, ['origin', 'Fruit', 'cnn_features'])\n",
        "\n",
        "array_to_vector_udf = udf(lambda l: Vectors.dense(l), VectorUDT())\n",
        "\n",
        "vectorized_df = df_img.withColumn('ResNet50_Vectors', array_to_vector_udf('cnn_features'))\n",
        "\n",
        "vectorized_df.show()\n",
        "\n",
        "from pyspark.ml.feature import PCA\n",
        "\n",
        "pca = PCA(k=10, inputCol='ResNet50_Vectors', outputCol='PCA_Vectors')\n",
        "model = pca.fit(vectorized_df)\n",
        "\n",
        "final_df = model.transform(vectorized_df)\n",
        "\n",
        "from pyspark.sql.functions import udf\n",
        "from pyspark.sql.types import StringType\n",
        "\n",
        "def array_to_string(my_list):\n",
        "    return '[' + ','.join([str(elem) for elem in my_list]) + ']'\n",
        "\n",
        "array_to_string_udf = udf(array_to_string, StringType())\n",
        "\n",
        "df1 = final_df.withColumn('Features', array_to_string_udf(final_df[\"PCA_Vectors\"]))\n",
        "\n",
        "df2 = df1.drop(\"image\", \"vecs\", \"cnn_features\", \"ResNet50_Vectors\", \"PCA_Vectors\")\n",
        "\n",
        "# Write DataFrame data to CSV file\n",
        "df2.write.csv(\"s3://cdk-hnb659fds-assets-127319039344-eu-west-3/final_data\")\n",
        "\n",
        "sc.stop()"
      ],
      "metadata": {
        "id": "1mRnm0olaNPt"
      },
      "execution_count": null,
      "outputs": []
    }
  ]
}